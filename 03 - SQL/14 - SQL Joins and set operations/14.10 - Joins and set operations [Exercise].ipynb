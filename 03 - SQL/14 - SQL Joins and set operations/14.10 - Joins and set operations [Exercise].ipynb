{
 "cells": [
  {
   "cell_type": "markdown",
   "id": "bf17eebd",
   "metadata": {},
   "source": [
    "<div align=\"right\" style=\" font-size: 80%; text-align: center; margin: 0 auto\">\n",
    "<img src=\"https://raw.githubusercontent.com/Explore-AI/Pictures/master/ExploreAI_logos/Logo blue_dark.png\"  style=\"width:25px\" align=\"right\";/>\n",
    "</div>"
   ]
  },
  {
   "cell_type": "markdown",
   "id": "f662d169",
   "metadata": {},
   "source": [
    "# Joins and set operations\n",
    "© ExploreAI Academy"
   ]
  },
  {
   "cell_type": "markdown",
   "id": "26af890c",
   "metadata": {},
   "source": [
    "In this exercise, we will use the skills we have learned so far to solve complex problems that involve string manipulation and handling.\n",
    "\n"
   ]
  },
  {
   "attachments": {},
   "cell_type": "markdown",
   "id": "2d230d14",
   "metadata": {
    "tags": []
   },
   "source": [
    "## Learning objectives\n",
    "\n",
    "In this exercise, we will:\n",
    "- Understand and use different types of SQL Joins to combine data from different tables.\n",
    "- Use `UNION`, `INTERSECT`, and `MINUS/EXCEPT` operators to combine rows from different tables.\n",
    "- Understand the difference between Joins and Unions/Intersections/Minus in terms of column-wise and row-wise concatenation."
   ]
  },
  {
   "cell_type": "markdown",
   "id": "5a0b7683",
   "metadata": {
    "tags": []
   },
   "source": [
    "First, let's load our sample database:"
   ]
  },
  {
   "cell_type": "code",
   "execution_count": 1,
   "id": "0f34ea72",
   "metadata": {},
   "outputs": [],
   "source": [
    "# Load and activate the SQL extension to allow us to execute SQL in a Jupyter notebook.\n",
    "%load_ext sql"
   ]
  },
  {
   "cell_type": "code",
   "execution_count": 2,
   "id": "d279a04d",
   "metadata": {},
   "outputs": [],
   "source": [
    "# Load the Northwind database stored in your local machine. \n",
    "# Make sure the file is saved in the same folder as this notebook.\n",
    "%sql sqlite:///Northwind.db"
   ]
  },
  {
   "cell_type": "markdown",
   "id": "6f8bbc0b-c31c-4274-ad13-399a9182a260",
   "metadata": {},
   "source": [
    "Here is a view of all of our tables in the database:\n",
    "\n",
    "<div align=\"center\" style=\" font-size: 80%; text-align: center; margin: 0 auto\">\n",
    "<img src=\"https://raw.githubusercontent.com/Explore-AI/Pictures/master/Northwind_ERD.png\"  style=\"width:100%\";/>\n",
    "<br>\n",
    "<br>\n",
    "    <em>Figure 1: Northwind database ERD</em>\n",
    "</div>"
   ]
  },
  {
   "attachments": {},
   "cell_type": "markdown",
   "id": "920e89d2",
   "metadata": {
    "tags": []
   },
   "source": [
    "## Overview\n",
    "Run the necessary queries that will provide us with the following information. Compare your queries with the solutions at the end of this notebook.\n"
   ]
  },
  {
   "attachments": {},
   "cell_type": "markdown",
   "id": "86802726",
   "metadata": {},
   "source": [
    "### Exercise 1\n",
    "\n",
    "Using the Northwind database, determine the list of products and their respective suppliers. "
   ]
  },
  {
   "cell_type": "code",
   "execution_count": 6,
   "id": "91f3421f",
   "metadata": {},
   "outputs": [
    {
     "name": "stdout",
     "output_type": "stream",
     "text": [
      " * sqlite:///Northwind.db\n",
      "Done.\n"
     ]
    },
    {
     "data": {
      "text/html": [
       "<table>\n",
       "    <thead>\n",
       "        <tr>\n",
       "            <th>ProductName</th>\n",
       "            <th>CompanyName</th>\n",
       "        </tr>\n",
       "    </thead>\n",
       "    <tbody>\n",
       "        <tr>\n",
       "            <td>Chai</td>\n",
       "            <td>Exotic Liquids</td>\n",
       "        </tr>\n",
       "        <tr>\n",
       "            <td>Chang</td>\n",
       "            <td>Exotic Liquids</td>\n",
       "        </tr>\n",
       "        <tr>\n",
       "            <td>Aniseed Syrup</td>\n",
       "            <td>Exotic Liquids</td>\n",
       "        </tr>\n",
       "        <tr>\n",
       "            <td>Chef Anton&#x27;s Cajun Seasoning</td>\n",
       "            <td>New Orleans Cajun Delights</td>\n",
       "        </tr>\n",
       "        <tr>\n",
       "            <td>Chef Anton&#x27;s Gumbo Mix</td>\n",
       "            <td>New Orleans Cajun Delights</td>\n",
       "        </tr>\n",
       "    </tbody>\n",
       "</table>"
      ],
      "text/plain": [
       "[('Chai', 'Exotic Liquids'),\n",
       " ('Chang', 'Exotic Liquids'),\n",
       " ('Aniseed Syrup', 'Exotic Liquids'),\n",
       " (\"Chef Anton's Cajun Seasoning\", 'New Orleans Cajun Delights'),\n",
       " (\"Chef Anton's Gumbo Mix\", 'New Orleans Cajun Delights')]"
      ]
     },
     "execution_count": 6,
     "metadata": {},
     "output_type": "execute_result"
    }
   ],
   "source": [
    "%%sql\n",
    "\n",
    "SELECT\n",
    "    pro.productname,\n",
    "    sup.CompanyName\n",
    "FROM\n",
    "    products pro\n",
    "    JOIN suppliers sup ON sup.supplierid = pro.supplierid\n",
    "LIMIT\n",
    "    5"
   ]
  },
  {
   "attachments": {},
   "cell_type": "markdown",
   "id": "f0fade51",
   "metadata": {},
   "source": [
    "### Exercise 2\n",
    "\n",
    "Generate a list of all cities where customers and employees are located."
   ]
  },
  {
   "cell_type": "code",
   "execution_count": 23,
   "id": "748f4263",
   "metadata": {},
   "outputs": [
    {
     "name": "stdout",
     "output_type": "stream",
     "text": [
      " * sqlite:///Northwind.db\n",
      "Done.\n"
     ]
    },
    {
     "data": {
      "text/html": [
       "<table>\n",
       "    <thead>\n",
       "        <tr>\n",
       "            <th>City</th>\n",
       "        </tr>\n",
       "    </thead>\n",
       "    <tbody>\n",
       "        <tr>\n",
       "            <td>None</td>\n",
       "        </tr>\n",
       "        <tr>\n",
       "            <td>Aachen</td>\n",
       "        </tr>\n",
       "        <tr>\n",
       "            <td>Albuquerque</td>\n",
       "        </tr>\n",
       "        <tr>\n",
       "            <td>Anchorage</td>\n",
       "        </tr>\n",
       "        <tr>\n",
       "            <td>Barcelona</td>\n",
       "        </tr>\n",
       "        <tr>\n",
       "            <td>Barquisimeto</td>\n",
       "        </tr>\n",
       "        <tr>\n",
       "            <td>Bergamo</td>\n",
       "        </tr>\n",
       "        <tr>\n",
       "            <td>Berlin</td>\n",
       "        </tr>\n",
       "        <tr>\n",
       "            <td>Bern</td>\n",
       "        </tr>\n",
       "        <tr>\n",
       "            <td>Boise</td>\n",
       "        </tr>\n",
       "    </tbody>\n",
       "</table>"
      ],
      "text/plain": [
       "[(None,),\n",
       " ('Aachen',),\n",
       " ('Albuquerque',),\n",
       " ('Anchorage',),\n",
       " ('Barcelona',),\n",
       " ('Barquisimeto',),\n",
       " ('Bergamo',),\n",
       " ('Berlin',),\n",
       " ('Bern',),\n",
       " ('Boise',)]"
      ]
     },
     "execution_count": 23,
     "metadata": {},
     "output_type": "execute_result"
    }
   ],
   "source": [
    "%%sql\n",
    "\n",
    "SELECT\n",
    "    e.city\n",
    "FROM\n",
    "    employees e\n",
    "UNION\n",
    "SELECT\n",
    "    c.city\n",
    "FROM\n",
    "    customers c\n",
    "limit 10"
   ]
  },
  {
   "attachments": {},
   "cell_type": "markdown",
   "id": "f28aef00",
   "metadata": {},
   "source": [
    "###  Exercise 3\n",
    "\n",
    "Create a list of all unique cities where customers are located and employees live. "
   ]
  },
  {
   "cell_type": "code",
   "execution_count": null,
   "id": "f4621a53",
   "metadata": {},
   "outputs": [],
   "source": []
  },
  {
   "cell_type": "markdown",
   "id": "d151cbb4",
   "metadata": {},
   "source": [
    "### 4. Challenge question\n",
    "\n",
    "Using the Northwind database, as the new sales analyst, you've been asked to prepare a sales report for the last quarter. Your report should include:\n",
    "1. Customer names and their countries.\n",
    "2. The total amount spent by each customer.\n",
    "3. The list of products each customer purchased.\n",
    "4. The total quantity of each product purchased by each customer.\n",
    "\n",
    "Only include customers who have spent more than 5000 in the last quarter. "
   ]
  },
  {
   "cell_type": "code",
   "execution_count": 48,
   "id": "1e003247",
   "metadata": {},
   "outputs": [
    {
     "name": "stdout",
     "output_type": "stream",
     "text": [
      " * sqlite:///Northwind.db\n",
      "Done.\n"
     ]
    },
    {
     "data": {
      "text/html": [
       "<table>\n",
       "    <thead>\n",
       "        <tr>\n",
       "            <th>Customer Name</th>\n",
       "            <th>Customer Country</th>\n",
       "            <th>Product Name</th>\n",
       "            <th>TotalSalesAmount</th>\n",
       "            <th>TotalUnitsSold</th>\n",
       "        </tr>\n",
       "    </thead>\n",
       "    <tbody>\n",
       "        <tr>\n",
       "            <td>Georg Pipps</td>\n",
       "            <td>Austria</td>\n",
       "            <td>Cte de Blaye</td>\n",
       "            <td>10540.0</td>\n",
       "            <td>50</td>\n",
       "        </tr>\n",
       "        <tr>\n",
       "            <td>Horst Kloss</td>\n",
       "            <td>Germany</td>\n",
       "            <td>Camembert Pierrot</td>\n",
       "            <td>6222.0</td>\n",
       "            <td>194</td>\n",
       "        </tr>\n",
       "        <tr>\n",
       "            <td>Horst Kloss</td>\n",
       "            <td>Germany</td>\n",
       "            <td>Cte de Blaye</td>\n",
       "            <td>7905.0</td>\n",
       "            <td>30</td>\n",
       "        </tr>\n",
       "        <tr>\n",
       "            <td>Horst Kloss</td>\n",
       "            <td>Germany</td>\n",
       "            <td>Schoggi Schokolade</td>\n",
       "            <td>5268.0</td>\n",
       "            <td>120</td>\n",
       "        </tr>\n",
       "        <tr>\n",
       "            <td>Howard Snyder</td>\n",
       "            <td>USA</td>\n",
       "            <td>Cte de Blaye</td>\n",
       "            <td>11857.5</td>\n",
       "            <td>45</td>\n",
       "        </tr>\n",
       "        <tr>\n",
       "            <td>Jean Fresnire</td>\n",
       "            <td>Canada</td>\n",
       "            <td>Cte de Blaye</td>\n",
       "            <td>10329.2</td>\n",
       "            <td>49</td>\n",
       "        </tr>\n",
       "        <tr>\n",
       "            <td>Jose Pavarotti</td>\n",
       "            <td>USA</td>\n",
       "            <td>Thringer Rostbratwurst</td>\n",
       "            <td>6832.4400000000005</td>\n",
       "            <td>60</td>\n",
       "        </tr>\n",
       "        <tr>\n",
       "            <td>Jytte Petersen</td>\n",
       "            <td>Denmark</td>\n",
       "            <td>Cte de Blaye</td>\n",
       "            <td>10540.0</td>\n",
       "            <td>50</td>\n",
       "        </tr>\n",
       "        <tr>\n",
       "            <td>Lcia Carvalho</td>\n",
       "            <td>Brazil</td>\n",
       "            <td>Cte de Blaye</td>\n",
       "            <td>8432.0</td>\n",
       "            <td>40</td>\n",
       "        </tr>\n",
       "        <tr>\n",
       "            <td>Patricia McKenna</td>\n",
       "            <td>Ireland</td>\n",
       "            <td>Raclette Courdavault</td>\n",
       "            <td>5830</td>\n",
       "            <td>112</td>\n",
       "        </tr>\n",
       "        <tr>\n",
       "            <td>Paula Wilson</td>\n",
       "            <td>USA</td>\n",
       "            <td>Cte de Blaye</td>\n",
       "            <td>6324.0</td>\n",
       "            <td>30</td>\n",
       "        </tr>\n",
       "        <tr>\n",
       "            <td>Paula Wilson</td>\n",
       "            <td>USA</td>\n",
       "            <td>Tarte au sucre</td>\n",
       "            <td>6208.0</td>\n",
       "            <td>145</td>\n",
       "        </tr>\n",
       "        <tr>\n",
       "            <td>Philip Cramer</td>\n",
       "            <td>Germany</td>\n",
       "            <td>Cte de Blaye</td>\n",
       "            <td>7905.0</td>\n",
       "            <td>30</td>\n",
       "        </tr>\n",
       "        <tr>\n",
       "            <td>Roland Mendel</td>\n",
       "            <td>Austria</td>\n",
       "            <td>Manjimup Dried Apples</td>\n",
       "            <td>6360</td>\n",
       "            <td>120</td>\n",
       "        </tr>\n",
       "    </tbody>\n",
       "</table>"
      ],
      "text/plain": [
       "[('Georg Pipps', 'Austria', 'Cte de Blaye', 10540.0, 50),\n",
       " ('Horst Kloss', 'Germany', 'Camembert Pierrot', 6222.0, 194),\n",
       " ('Horst Kloss', 'Germany', 'Cte de Blaye', 7905.0, 30),\n",
       " ('Horst Kloss', 'Germany', 'Schoggi Schokolade', 5268.0, 120),\n",
       " ('Howard Snyder', 'USA', 'Cte de Blaye', 11857.5, 45),\n",
       " ('Jean Fresnire', 'Canada', 'Cte de Blaye', 10329.2, 49),\n",
       " ('Jose Pavarotti', 'USA', 'Thringer Rostbratwurst', 6832.4400000000005, 60),\n",
       " ('Jytte Petersen', 'Denmark', 'Cte de Blaye', 10540.0, 50),\n",
       " ('Lcia Carvalho', 'Brazil', 'Cte de Blaye', 8432.0, 40),\n",
       " ('Patricia McKenna', 'Ireland', 'Raclette Courdavault', 5830, 112),\n",
       " ('Paula Wilson', 'USA', 'Cte de Blaye', 6324.0, 30),\n",
       " ('Paula Wilson', 'USA', 'Tarte au sucre', 6208.0, 145),\n",
       " ('Philip Cramer', 'Germany', 'Cte de Blaye', 7905.0, 30),\n",
       " ('Roland Mendel', 'Austria', 'Manjimup Dried Apples', 6360, 120)]"
      ]
     },
     "execution_count": 48,
     "metadata": {},
     "output_type": "execute_result"
    }
   ],
   "source": [
    "%%sql\n",
    "\n",
    "SELECT\n",
    "    c.ContactName AS \"Customer Name\",\n",
    "    c.Country AS \"Customer Country\",\n",
    "    p.productName AS \"Product Name\",\n",
    "    SUM(od.quantity * od.unitPrice) AS TotalSalesAmount,\n",
    "    SUM(od.Quantity) AS TotalUnitsSold\n",
    "FROM\n",
    "    customers c\n",
    "    JOIN orders o ON o.customerID = c.CustomerID\n",
    "    JOIN orderdetails od ON od.orderid = o.orderID\n",
    "    JOIN products p ON p.productID = od.productID\n",
    "WHERE\n",
    "    o.OrderDate BETWEEN '1996-08-01' AND '1998-01-30'\n",
    "GROUP BY\n",
    "    1,\n",
    "    2,\n",
    "    3\n",
    "HAVING\n",
    "    SUM(od.quantity * od.unitPrice) > 5000;"
   ]
  },
  {
   "cell_type": "markdown",
   "id": "b3c88335",
   "metadata": {
    "tags": []
   },
   "source": [
    "## Solutions"
   ]
  },
  {
   "attachments": {},
   "cell_type": "markdown",
   "id": "a5084b12",
   "metadata": {
    "tags": []
   },
   "source": [
    "### Exercise 1\n",
    "\n",
    "This query combines rows from `Products` and `Suppliers` tables based on the condition where `Products.SupplierID` equals `Suppliers.SupplierID`.\n",
    "\n",
    "Expected outcome: The result should be a table that includes columns for `ProductName` and `SupplierName` which shows the products and their respective suppliers."
   ]
  },
  {
   "cell_type": "code",
   "execution_count": 8,
   "id": "c968d875",
   "metadata": {},
   "outputs": [
    {
     "name": "stdout",
     "output_type": "stream",
     "text": [
      " * sqlite:///Northwind.db\n",
      "Done.\n"
     ]
    },
    {
     "data": {
      "text/html": [
       "<table>\n",
       "    <thead>\n",
       "        <tr>\n",
       "            <th>ProductName</th>\n",
       "            <th>CompanyName</th>\n",
       "        </tr>\n",
       "    </thead>\n",
       "    <tbody>\n",
       "        <tr>\n",
       "            <td>Chai</td>\n",
       "            <td>Exotic Liquids</td>\n",
       "        </tr>\n",
       "        <tr>\n",
       "            <td>Chang</td>\n",
       "            <td>Exotic Liquids</td>\n",
       "        </tr>\n",
       "        <tr>\n",
       "            <td>Aniseed Syrup</td>\n",
       "            <td>Exotic Liquids</td>\n",
       "        </tr>\n",
       "        <tr>\n",
       "            <td>Chef Anton&#x27;s Cajun Seasoning</td>\n",
       "            <td>New Orleans Cajun Delights</td>\n",
       "        </tr>\n",
       "        <tr>\n",
       "            <td>Chef Anton&#x27;s Gumbo Mix</td>\n",
       "            <td>New Orleans Cajun Delights</td>\n",
       "        </tr>\n",
       "    </tbody>\n",
       "</table>"
      ],
      "text/plain": [
       "[('Chai', 'Exotic Liquids'),\n",
       " ('Chang', 'Exotic Liquids'),\n",
       " ('Aniseed Syrup', 'Exotic Liquids'),\n",
       " (\"Chef Anton's Cajun Seasoning\", 'New Orleans Cajun Delights'),\n",
       " (\"Chef Anton's Gumbo Mix\", 'New Orleans Cajun Delights')]"
      ]
     },
     "execution_count": 8,
     "metadata": {},
     "output_type": "execute_result"
    }
   ],
   "source": [
    "%%sql\n",
    "\n",
    "SELECT \n",
    "    product.ProductName, \n",
    "    supplier.CompanyName\n",
    "FROM \n",
    "    Products AS product\n",
    "INNER JOIN \n",
    "    Suppliers AS supplier\n",
    "    ON product.SupplierID = supplier.SupplierID\n",
    "LIMIT 5;"
   ]
  },
  {
   "attachments": {},
   "cell_type": "markdown",
   "id": "294d8eef",
   "metadata": {},
   "source": [
    "### Exercise 2\n",
    "\n",
    "The `UNION` operator is used to combine the results of two `SELECT` statements. It removes duplicate rows from the results.\n",
    "\n",
    "Expected outcome: A single column table of unique cities where customers and employees are located."
   ]
  },
  {
   "cell_type": "code",
   "execution_count": 31,
   "id": "03071e34",
   "metadata": {},
   "outputs": [
    {
     "name": "stdout",
     "output_type": "stream",
     "text": [
      " * sqlite:///Northwind.db\n",
      "Done.\n"
     ]
    },
    {
     "data": {
      "text/html": [
       "<table>\n",
       "    <thead>\n",
       "        <tr>\n",
       "            <th>City</th>\n",
       "        </tr>\n",
       "    </thead>\n",
       "    <tbody>\n",
       "        <tr>\n",
       "            <td>None</td>\n",
       "        </tr>\n",
       "        <tr>\n",
       "            <td>Aachen</td>\n",
       "        </tr>\n",
       "        <tr>\n",
       "            <td>Albuquerque</td>\n",
       "        </tr>\n",
       "        <tr>\n",
       "            <td>Anchorage</td>\n",
       "        </tr>\n",
       "        <tr>\n",
       "            <td>Barcelona</td>\n",
       "        </tr>\n",
       "    </tbody>\n",
       "</table>"
      ],
      "text/plain": [
       "[(None,), ('Aachen',), ('Albuquerque',), ('Anchorage',), ('Barcelona',)]"
      ]
     },
     "execution_count": 31,
     "metadata": {},
     "output_type": "execute_result"
    }
   ],
   "source": [
    "%%sql\n",
    "\n",
    "SELECT \n",
    "    City \n",
    "FROM \n",
    "    Customers\n",
    "UNION\n",
    "SELECT \n",
    "    City \n",
    "FROM \n",
    "    Employees\n",
    "LIMIT 5;"
   ]
  },
  {
   "attachments": {},
   "cell_type": "markdown",
   "id": "eafe40b6",
   "metadata": {},
   "source": [
    "###  Exercise 3\n",
    "\n",
    "The `JOIN` query returns cities that are common in both `Customers` and `Employees` tables (i.e. it looks for matches). On the other hand, the `UNION` query returns a list of all unique cities in both tables, eliminating any duplicates.\n",
    "\n",
    "Expected outcome: Two sets of outputs – one for the `JOIN` query and another for the `UNION` query."
   ]
  },
  {
   "cell_type": "code",
   "execution_count": null,
   "id": "1ffd2239",
   "metadata": {},
   "outputs": [],
   "source": [
    "%%sql\n",
    "\n",
    "SELECT \n",
    "    Customers.City \n",
    "FROM \n",
    "    Customers \n",
    "INNER JOIN \n",
    "    Employees \n",
    "    ON Customers.City = Employees.City;\n",
    "\n",
    "\n",
    "SELECT \n",
    "    City \n",
    "FROM \n",
    "    Customers\n",
    "UNION\n",
    "SELECT \n",
    "    City \n",
    "FROM \n",
    "    Employees;"
   ]
  },
  {
   "cell_type": "markdown",
   "id": "b0e27793",
   "metadata": {},
   "source": [
    "### 4. Challenge question"
   ]
  },
  {
   "cell_type": "code",
   "execution_count": 46,
   "id": "b2cb2438",
   "metadata": {},
   "outputs": [
    {
     "name": "stdout",
     "output_type": "stream",
     "text": [
      " * sqlite:///Northwind.db\n",
      "Done.\n"
     ]
    },
    {
     "data": {
      "text/html": [
       "<table>\n",
       "    <thead>\n",
       "        <tr>\n",
       "            <th>ContactName</th>\n",
       "            <th>Country</th>\n",
       "            <th>TotalSalesAmount</th>\n",
       "            <th>ProductName</th>\n",
       "            <th>TotalUnitsSold</th>\n",
       "        </tr>\n",
       "    </thead>\n",
       "    <tbody>\n",
       "        <tr>\n",
       "            <td>Georg Pipps</td>\n",
       "            <td>Austria</td>\n",
       "            <td>10540.0</td>\n",
       "            <td>Cte de Blaye</td>\n",
       "            <td>50</td>\n",
       "        </tr>\n",
       "        <tr>\n",
       "            <td>Horst Kloss</td>\n",
       "            <td>Germany</td>\n",
       "            <td>6222.0</td>\n",
       "            <td>Camembert Pierrot</td>\n",
       "            <td>194</td>\n",
       "        </tr>\n",
       "        <tr>\n",
       "            <td>Horst Kloss</td>\n",
       "            <td>Germany</td>\n",
       "            <td>7905.0</td>\n",
       "            <td>Cte de Blaye</td>\n",
       "            <td>30</td>\n",
       "        </tr>\n",
       "        <tr>\n",
       "            <td>Horst Kloss</td>\n",
       "            <td>Germany</td>\n",
       "            <td>5268.0</td>\n",
       "            <td>Schoggi Schokolade</td>\n",
       "            <td>120</td>\n",
       "        </tr>\n",
       "        <tr>\n",
       "            <td>Howard Snyder</td>\n",
       "            <td>USA</td>\n",
       "            <td>11857.5</td>\n",
       "            <td>Cte de Blaye</td>\n",
       "            <td>45</td>\n",
       "        </tr>\n",
       "        <tr>\n",
       "            <td>Jean Fresnire</td>\n",
       "            <td>Canada</td>\n",
       "            <td>10329.2</td>\n",
       "            <td>Cte de Blaye</td>\n",
       "            <td>49</td>\n",
       "        </tr>\n",
       "        <tr>\n",
       "            <td>Jose Pavarotti</td>\n",
       "            <td>USA</td>\n",
       "            <td>6832.4400000000005</td>\n",
       "            <td>Thringer Rostbratwurst</td>\n",
       "            <td>60</td>\n",
       "        </tr>\n",
       "        <tr>\n",
       "            <td>Jytte Petersen</td>\n",
       "            <td>Denmark</td>\n",
       "            <td>10540.0</td>\n",
       "            <td>Cte de Blaye</td>\n",
       "            <td>50</td>\n",
       "        </tr>\n",
       "        <tr>\n",
       "            <td>Lcia Carvalho</td>\n",
       "            <td>Brazil</td>\n",
       "            <td>8432.0</td>\n",
       "            <td>Cte de Blaye</td>\n",
       "            <td>40</td>\n",
       "        </tr>\n",
       "        <tr>\n",
       "            <td>Patricia McKenna</td>\n",
       "            <td>Ireland</td>\n",
       "            <td>5830</td>\n",
       "            <td>Raclette Courdavault</td>\n",
       "            <td>112</td>\n",
       "        </tr>\n",
       "        <tr>\n",
       "            <td>Paula Wilson</td>\n",
       "            <td>USA</td>\n",
       "            <td>6324.0</td>\n",
       "            <td>Cte de Blaye</td>\n",
       "            <td>30</td>\n",
       "        </tr>\n",
       "        <tr>\n",
       "            <td>Paula Wilson</td>\n",
       "            <td>USA</td>\n",
       "            <td>6208.0</td>\n",
       "            <td>Tarte au sucre</td>\n",
       "            <td>145</td>\n",
       "        </tr>\n",
       "        <tr>\n",
       "            <td>Philip Cramer</td>\n",
       "            <td>Germany</td>\n",
       "            <td>7905.0</td>\n",
       "            <td>Cte de Blaye</td>\n",
       "            <td>30</td>\n",
       "        </tr>\n",
       "        <tr>\n",
       "            <td>Roland Mendel</td>\n",
       "            <td>Austria</td>\n",
       "            <td>6360</td>\n",
       "            <td>Manjimup Dried Apples</td>\n",
       "            <td>120</td>\n",
       "        </tr>\n",
       "    </tbody>\n",
       "</table>"
      ],
      "text/plain": [
       "[('Georg Pipps', 'Austria', 10540.0, 'Cte de Blaye', 50),\n",
       " ('Horst Kloss', 'Germany', 6222.0, 'Camembert Pierrot', 194),\n",
       " ('Horst Kloss', 'Germany', 7905.0, 'Cte de Blaye', 30),\n",
       " ('Horst Kloss', 'Germany', 5268.0, 'Schoggi Schokolade', 120),\n",
       " ('Howard Snyder', 'USA', 11857.5, 'Cte de Blaye', 45),\n",
       " ('Jean Fresnire', 'Canada', 10329.2, 'Cte de Blaye', 49),\n",
       " ('Jose Pavarotti', 'USA', 6832.4400000000005, 'Thringer Rostbratwurst', 60),\n",
       " ('Jytte Petersen', 'Denmark', 10540.0, 'Cte de Blaye', 50),\n",
       " ('Lcia Carvalho', 'Brazil', 8432.0, 'Cte de Blaye', 40),\n",
       " ('Patricia McKenna', 'Ireland', 5830, 'Raclette Courdavault', 112),\n",
       " ('Paula Wilson', 'USA', 6324.0, 'Cte de Blaye', 30),\n",
       " ('Paula Wilson', 'USA', 6208.0, 'Tarte au sucre', 145),\n",
       " ('Philip Cramer', 'Germany', 7905.0, 'Cte de Blaye', 30),\n",
       " ('Roland Mendel', 'Austria', 6360, 'Manjimup Dried Apples', 120)]"
      ]
     },
     "execution_count": 46,
     "metadata": {},
     "output_type": "execute_result"
    }
   ],
   "source": [
    "%%sql\n",
    "\n",
    "SELECT \n",
    "    customer.ContactName, \n",
    "    customer.Country,\n",
    "    SUM(orderDetails.Quantity * orderDetails.UnitPrice) AS TotalSalesAmount,\n",
    "    product.ProductName,\n",
    "    SUM(orderDetails.Quantity) AS TotalUnitsSold\n",
    "FROM \n",
    "    Customers AS customer\n",
    "JOIN \n",
    "    Orders AS orders \n",
    "    ON customer.CustomerID = orders.CustomerID\n",
    "JOIN \n",
    "    OrderDetails AS orderDetails \n",
    "    ON orders.OrderID = orderDetails.OrderID\n",
    "JOIN \n",
    "    Products AS product \n",
    "    ON orderDetails.ProductID = product.ProductID\n",
    "WHERE \n",
    "    orders.OrderDate BETWEEN '1996-08-01' AND '1998-01-30'\n",
    "GROUP BY \n",
    "    customer.ContactName,\n",
    "    customer.Country, \n",
    "    product.ProductName\n",
    "HAVING \n",
    "    SUM(orderDetails.Quantity * orderDetails.UnitPrice) > 5000;\n"
   ]
  },
  {
   "cell_type": "markdown",
   "id": "0a332e23",
   "metadata": {},
   "source": [
    "This problem involves pulling data from multiple tables (`Customers`, `Orders`, `OrderDetails`, and `Products`) to create a detailed report. It's testing your ability to use `JOINS`, aggregate functions, grouping, and the `HAVING` clause.\n",
    "\n",
    "Here's how to break down the problem:\n",
    "\n",
    "1. **Identify the tables you need to pull data from**: For this problem, you'll need data from the `Customers`, `Orders`, `OrderDetails`, and `Products` tables.\n",
    "2. **Join these tables**: Use SQL joins to connect these tables. The `Orders` table is connected to `Customers` via `CustomerID`. The `OrderDetails` table is connected to `Orders` via `OrderID` and to `Products` via `ProductID`.\n",
    "3. **Filter the data**: Use the `WHERE` clause to filter orders to only include those from the last quarter ('2023-04-01' to '2023-06-30').\n",
    "4. **Aggregate the data**: Aggregate functions are needed to calculate the total amount spent by each customer (SUM of `Quantity` * `UnitPrice`) and the total quantity of each product purchased by each customer (`SUM` of `Quantity`). This is done in the `SELECT` clause.\n",
    "5. **Group the data**: Use the `GROUP BY` clause to segment the data by `CustomerName`, `Country`, and `ProductName`.\n",
    "6. **Apply a condition on an aggregate:** Lastly, use the `HAVING` clause to include only customers who have spent more than 5000 in the last quarter. Remember, when you want to use a condition on an aggregate, you should use the `HAVING` clause, not the `WHERE` clause. The `WHERE` clause is used to filter rows, while the `HAVING` clause is used to filter groups.\n",
    "\n",
    "The result is a detailed report with customer names, their countries, the total amount spent by each customer, the list of products each customer purchased, and the total quantity of each product purchased by each customer for the last quarter. Only customers who spent more than 5000 are included."
   ]
  },
  {
   "cell_type": "markdown",
   "id": "aef00eca",
   "metadata": {},
   "source": [
    "#  \n",
    "\n",
    "<div align=\"center\" style=\" font-size: 80%; text-align: center; margin: 0 auto\">\n",
    "<img src=\"https://raw.githubusercontent.com/Explore-AI/Pictures/master/ExploreAI_logos/EAI_Blue_Dark.png\"  style=\"width:200px\";/>\n",
    "</div>"
   ]
  }
 ],
 "metadata": {
  "kernelspec": {
   "display_name": "Python 3 (ipykernel)",
   "language": "python",
   "name": "python3"
  },
  "language_info": {
   "codemirror_mode": {
    "name": "ipython",
    "version": 3
   },
   "file_extension": ".py",
   "mimetype": "text/x-python",
   "name": "python",
   "nbconvert_exporter": "python",
   "pygments_lexer": "ipython3",
   "version": "3.11.4"
  }
 },
 "nbformat": 4,
 "nbformat_minor": 5
}
