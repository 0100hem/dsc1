{
 "cells": [
  {
   "cell_type": "markdown",
   "id": "51b1254d",
   "metadata": {},
   "source": [
    "<div align=\"right\" style=\" font-size: 80%; text-align: center; margin: 0 auto\">\n",
    "<img src=\"https://raw.githubusercontent.com/Explore-AI/Pictures/master/ExploreAI_logos/Logo blue_dark.png\"  style=\"width:25px\" align=\"right\";/>\n",
    "</div>"
   ]
  },
  {
   "cell_type": "markdown",
   "id": "f662d169",
   "metadata": {},
   "source": [
    "# SQL string functions\n",
    "© ExploreAI Academy"
   ]
  },
  {
   "attachments": {},
   "cell_type": "markdown",
   "id": "26af890c",
   "metadata": {},
   "source": [
    "In this exercise, we will use string functions to filter our data in order to extract relevant information."
   ]
  },
  {
   "attachments": {},
   "cell_type": "markdown",
   "id": "2d230d14",
   "metadata": {},
   "source": [
    "## Learning objectives\n",
    "\n",
    "By the end of this train, you should be able to:\n",
    "- Use the `LIKE` operator to filter text data.\n",
    "- Use the `LOWER` and `UPPER` functions to query text data.\n",
    "- Concatenate text data from multiple columns."
   ]
  },
  {
   "cell_type": "markdown",
   "id": "7fd5e3b8",
   "metadata": {},
   "source": [
    "First, let's load our sample database:"
   ]
  },
  {
   "cell_type": "code",
   "execution_count": 41,
   "id": "2d0d820e",
   "metadata": {},
   "outputs": [
    {
     "name": "stdout",
     "output_type": "stream",
     "text": [
      "The sql extension is already loaded. To reload it, use:\n",
      "  %reload_ext sql\n"
     ]
    }
   ],
   "source": [
    "# Load and activate the SQL extension to allow us to execute SQL in a Jupyter notebook.\n",
    "%load_ext sql"
   ]
  },
  {
   "cell_type": "code",
   "execution_count": 42,
   "id": "599e3c6c",
   "metadata": {},
   "outputs": [],
   "source": [
    "# Load the Chinook database stored in your local machine. \n",
    "# Make sure the file is saved in the same folder as this notebook.\n",
    "%sql sqlite:///chinook.db"
   ]
  },
  {
   "cell_type": "markdown",
   "id": "06af8b46",
   "metadata": {},
   "source": [
    "Here is a [view](https://www.lucidchart.com/pages/er-diagrams) of all of our tables in the database:"
   ]
  },
  {
   "cell_type": "markdown",
   "id": "e3d3c848",
   "metadata": {},
   "source": [
    "<div align=\"center\" style=\" font-size: 80%; text-align: center; margin: 0 auto\">\n",
    "<img src=\"https://github.com/Explore-AI/Pictures/blob/master/sqlite-sample-database-color.jpg?raw=true\"  style=\"width:70%\";/>\n",
    "<br>\n",
    "<br>\n",
    "    <em>Figure 1: Chinook ERD</em>\n",
    "</div>\n"
   ]
  },
  {
   "cell_type": "markdown",
   "id": "653e9dbb",
   "metadata": {},
   "source": [
    "[Image source](https://www.sqlitetutorial.net/sqlite-sample-database/)"
   ]
  },
  {
   "cell_type": "markdown",
   "id": "920e89d2",
   "metadata": {},
   "source": [
    "## Exercise\n",
    "\n",
    "Run the necessary queries that will provide us with the following information. Compare your queries with the solutions at the end of this notebook."
   ]
  },
  {
   "cell_type": "markdown",
   "id": "466e53c1",
   "metadata": {},
   "source": [
    "### Exercise 1\n",
    "\n",
    "Run a query that will give us a view of the data type of the customers table.\n"
   ]
  },
  {
   "cell_type": "code",
   "execution_count": 43,
   "id": "038f28ea",
   "metadata": {},
   "outputs": [
    {
     "name": "stdout",
     "output_type": "stream",
     "text": [
      " * sqlite:///chinook.db\n",
      "Done.\n"
     ]
    },
    {
     "data": {
      "text/html": [
       "<table>\n",
       "    <thead>\n",
       "        <tr>\n",
       "            <th>cid</th>\n",
       "            <th>name</th>\n",
       "            <th>type</th>\n",
       "            <th>notnull</th>\n",
       "            <th>dflt_value</th>\n",
       "            <th>pk</th>\n",
       "        </tr>\n",
       "    </thead>\n",
       "    <tbody>\n",
       "        <tr>\n",
       "            <td>0</td>\n",
       "            <td>CustomerId</td>\n",
       "            <td>INTEGER</td>\n",
       "            <td>1</td>\n",
       "            <td>None</td>\n",
       "            <td>1</td>\n",
       "        </tr>\n",
       "        <tr>\n",
       "            <td>1</td>\n",
       "            <td>FirstName</td>\n",
       "            <td>NVARCHAR(40)</td>\n",
       "            <td>1</td>\n",
       "            <td>None</td>\n",
       "            <td>0</td>\n",
       "        </tr>\n",
       "        <tr>\n",
       "            <td>2</td>\n",
       "            <td>LastName</td>\n",
       "            <td>NVARCHAR(20)</td>\n",
       "            <td>1</td>\n",
       "            <td>None</td>\n",
       "            <td>0</td>\n",
       "        </tr>\n",
       "        <tr>\n",
       "            <td>3</td>\n",
       "            <td>Company</td>\n",
       "            <td>NVARCHAR(80)</td>\n",
       "            <td>0</td>\n",
       "            <td>None</td>\n",
       "            <td>0</td>\n",
       "        </tr>\n",
       "        <tr>\n",
       "            <td>4</td>\n",
       "            <td>Address</td>\n",
       "            <td>NVARCHAR(70)</td>\n",
       "            <td>0</td>\n",
       "            <td>None</td>\n",
       "            <td>0</td>\n",
       "        </tr>\n",
       "        <tr>\n",
       "            <td>5</td>\n",
       "            <td>City</td>\n",
       "            <td>NVARCHAR(40)</td>\n",
       "            <td>0</td>\n",
       "            <td>None</td>\n",
       "            <td>0</td>\n",
       "        </tr>\n",
       "        <tr>\n",
       "            <td>6</td>\n",
       "            <td>State</td>\n",
       "            <td>NVARCHAR(40)</td>\n",
       "            <td>0</td>\n",
       "            <td>None</td>\n",
       "            <td>0</td>\n",
       "        </tr>\n",
       "        <tr>\n",
       "            <td>7</td>\n",
       "            <td>Country</td>\n",
       "            <td>NVARCHAR(40)</td>\n",
       "            <td>0</td>\n",
       "            <td>None</td>\n",
       "            <td>0</td>\n",
       "        </tr>\n",
       "        <tr>\n",
       "            <td>8</td>\n",
       "            <td>PostalCode</td>\n",
       "            <td>NVARCHAR(10)</td>\n",
       "            <td>0</td>\n",
       "            <td>None</td>\n",
       "            <td>0</td>\n",
       "        </tr>\n",
       "        <tr>\n",
       "            <td>9</td>\n",
       "            <td>Phone</td>\n",
       "            <td>NVARCHAR(24)</td>\n",
       "            <td>0</td>\n",
       "            <td>None</td>\n",
       "            <td>0</td>\n",
       "        </tr>\n",
       "        <tr>\n",
       "            <td>10</td>\n",
       "            <td>Fax</td>\n",
       "            <td>NVARCHAR(24)</td>\n",
       "            <td>0</td>\n",
       "            <td>None</td>\n",
       "            <td>0</td>\n",
       "        </tr>\n",
       "        <tr>\n",
       "            <td>11</td>\n",
       "            <td>Email</td>\n",
       "            <td>NVARCHAR(60)</td>\n",
       "            <td>1</td>\n",
       "            <td>None</td>\n",
       "            <td>0</td>\n",
       "        </tr>\n",
       "        <tr>\n",
       "            <td>12</td>\n",
       "            <td>SupportRepId</td>\n",
       "            <td>INTEGER</td>\n",
       "            <td>0</td>\n",
       "            <td>None</td>\n",
       "            <td>0</td>\n",
       "        </tr>\n",
       "    </tbody>\n",
       "</table>"
      ],
      "text/plain": [
       "[(0, 'CustomerId', 'INTEGER', 1, None, 1),\n",
       " (1, 'FirstName', 'NVARCHAR(40)', 1, None, 0),\n",
       " (2, 'LastName', 'NVARCHAR(20)', 1, None, 0),\n",
       " (3, 'Company', 'NVARCHAR(80)', 0, None, 0),\n",
       " (4, 'Address', 'NVARCHAR(70)', 0, None, 0),\n",
       " (5, 'City', 'NVARCHAR(40)', 0, None, 0),\n",
       " (6, 'State', 'NVARCHAR(40)', 0, None, 0),\n",
       " (7, 'Country', 'NVARCHAR(40)', 0, None, 0),\n",
       " (8, 'PostalCode', 'NVARCHAR(10)', 0, None, 0),\n",
       " (9, 'Phone', 'NVARCHAR(24)', 0, None, 0),\n",
       " (10, 'Fax', 'NVARCHAR(24)', 0, None, 0),\n",
       " (11, 'Email', 'NVARCHAR(60)', 1, None, 0),\n",
       " (12, 'SupportRepId', 'INTEGER', 0, None, 0)]"
      ]
     },
     "execution_count": 43,
     "metadata": {},
     "output_type": "execute_result"
    }
   ],
   "source": [
    "%%sql\n",
    "\n",
    "PRAGMA table_info(customers);"
   ]
  },
  {
   "cell_type": "markdown",
   "id": "86802726",
   "metadata": {},
   "source": [
    "### Exercise 2\n",
    "\n",
    "\n",
    "Write a query that will return all the columns for the tracks that contain the word love.\n",
    "\n",
    "Limit this to the first 10 results."
   ]
  },
  {
   "cell_type": "code",
   "execution_count": 44,
   "id": "91f3421f",
   "metadata": {},
   "outputs": [
    {
     "name": "stdout",
     "output_type": "stream",
     "text": [
      " * sqlite:///chinook.db\n",
      "Done.\n"
     ]
    },
    {
     "data": {
      "text/html": [
       "<table>\n",
       "    <thead>\n",
       "        <tr>\n",
       "            <th>TrackId</th>\n",
       "            <th>Name</th>\n",
       "            <th>AlbumId</th>\n",
       "            <th>MediaTypeId</th>\n",
       "            <th>GenreId</th>\n",
       "            <th>Composer</th>\n",
       "            <th>Milliseconds</th>\n",
       "            <th>Bytes</th>\n",
       "            <th>UnitPrice</th>\n",
       "        </tr>\n",
       "    </thead>\n",
       "    <tbody>\n",
       "        <tr>\n",
       "            <td>24</td>\n",
       "            <td>Love In An Elevator</td>\n",
       "            <td>5</td>\n",
       "            <td>1</td>\n",
       "            <td>1</td>\n",
       "            <td>Steven Tyler, Joe Perry</td>\n",
       "            <td>321828</td>\n",
       "            <td>10552051</td>\n",
       "            <td>0.99</td>\n",
       "        </tr>\n",
       "        <tr>\n",
       "            <td>56</td>\n",
       "            <td>Love, Hate, Love</td>\n",
       "            <td>7</td>\n",
       "            <td>1</td>\n",
       "            <td>1</td>\n",
       "            <td>Jerry Cantrell, Layne Staley</td>\n",
       "            <td>387134</td>\n",
       "            <td>12575396</td>\n",
       "            <td>0.99</td>\n",
       "        </tr>\n",
       "        <tr>\n",
       "            <td>195</td>\n",
       "            <td>Let Me Love You Baby</td>\n",
       "            <td>20</td>\n",
       "            <td>1</td>\n",
       "            <td>6</td>\n",
       "            <td>Willie Dixon</td>\n",
       "            <td>175386</td>\n",
       "            <td>5716994</td>\n",
       "            <td>0.99</td>\n",
       "        </tr>\n",
       "        <tr>\n",
       "            <td>335</td>\n",
       "            <td>My Love</td>\n",
       "            <td>29</td>\n",
       "            <td>1</td>\n",
       "            <td>9</td>\n",
       "            <td>Jauperi/Zeu Góes</td>\n",
       "            <td>203493</td>\n",
       "            <td>6772813</td>\n",
       "            <td>0.99</td>\n",
       "        </tr>\n",
       "        <tr>\n",
       "            <td>341</td>\n",
       "            <td>The Girl I Love She Got Long Black Wavy Hair</td>\n",
       "            <td>30</td>\n",
       "            <td>1</td>\n",
       "            <td>1</td>\n",
       "            <td>Jimmy Page/John Bonham/John Estes/John Paul Jones/Robert Plant</td>\n",
       "            <td>183327</td>\n",
       "            <td>5995686</td>\n",
       "            <td>0.99</td>\n",
       "        </tr>\n",
       "        <tr>\n",
       "            <td>345</td>\n",
       "            <td>Whole Lotta Love</td>\n",
       "            <td>30</td>\n",
       "            <td>1</td>\n",
       "            <td>1</td>\n",
       "            <td>Jimmy Page/John Bonham/John Paul Jones/Robert Plant/Willie Dixon</td>\n",
       "            <td>373394</td>\n",
       "            <td>12258175</td>\n",
       "            <td>0.99</td>\n",
       "        </tr>\n",
       "        <tr>\n",
       "            <td>413</td>\n",
       "            <td>Loverman</td>\n",
       "            <td>35</td>\n",
       "            <td>1</td>\n",
       "            <td>3</td>\n",
       "            <td>Cave</td>\n",
       "            <td>472764</td>\n",
       "            <td>15446975</td>\n",
       "            <td>0.99</td>\n",
       "        </tr>\n",
       "        <tr>\n",
       "            <td>440</td>\n",
       "            <td>Love Gun</td>\n",
       "            <td>37</td>\n",
       "            <td>1</td>\n",
       "            <td>1</td>\n",
       "            <td>Paul Stanley</td>\n",
       "            <td>196257</td>\n",
       "            <td>6424915</td>\n",
       "            <td>0.99</td>\n",
       "        </tr>\n",
       "        <tr>\n",
       "            <td>444</td>\n",
       "            <td>Do You Love Me</td>\n",
       "            <td>37</td>\n",
       "            <td>1</td>\n",
       "            <td>1</td>\n",
       "            <td>Paul Stanley, B. Ezrin, K. Fowley</td>\n",
       "            <td>214987</td>\n",
       "            <td>6976194</td>\n",
       "            <td>0.99</td>\n",
       "        </tr>\n",
       "        <tr>\n",
       "            <td>449</td>\n",
       "            <td>Calling Dr. Love</td>\n",
       "            <td>37</td>\n",
       "            <td>1</td>\n",
       "            <td>1</td>\n",
       "            <td>Gene Simmons</td>\n",
       "            <td>225332</td>\n",
       "            <td>7395034</td>\n",
       "            <td>0.99</td>\n",
       "        </tr>\n",
       "    </tbody>\n",
       "</table>"
      ],
      "text/plain": [
       "[(24, 'Love In An Elevator', 5, 1, 1, 'Steven Tyler, Joe Perry', 321828, 10552051, 0.99),\n",
       " (56, 'Love, Hate, Love', 7, 1, 1, 'Jerry Cantrell, Layne Staley', 387134, 12575396, 0.99),\n",
       " (195, 'Let Me Love You Baby', 20, 1, 6, 'Willie Dixon', 175386, 5716994, 0.99),\n",
       " (335, 'My Love', 29, 1, 9, 'Jauperi/Zeu Góes', 203493, 6772813, 0.99),\n",
       " (341, 'The Girl I Love She Got Long Black Wavy Hair', 30, 1, 1, 'Jimmy Page/John Bonham/John Estes/John Paul Jones/Robert Plant', 183327, 5995686, 0.99),\n",
       " (345, 'Whole Lotta Love', 30, 1, 1, 'Jimmy Page/John Bonham/John Paul Jones/Robert Plant/Willie Dixon', 373394, 12258175, 0.99),\n",
       " (413, 'Loverman', 35, 1, 3, 'Cave', 472764, 15446975, 0.99),\n",
       " (440, 'Love Gun', 37, 1, 1, 'Paul Stanley', 196257, 6424915, 0.99),\n",
       " (444, 'Do You Love Me', 37, 1, 1, 'Paul Stanley, B. Ezrin, K. Fowley', 214987, 6976194, 0.99),\n",
       " (449, 'Calling Dr. Love', 37, 1, 1, 'Gene Simmons', 225332, 7395034, 0.99)]"
      ]
     },
     "execution_count": 44,
     "metadata": {},
     "output_type": "execute_result"
    }
   ],
   "source": [
    "%%sql\n",
    "\n",
    "SELECT\n",
    "    *\n",
    "FROM\n",
    "    tracks\n",
    "WHERE\n",
    "    name LIKE \"%love%\"\n",
    "LIMIT\n",
    "    10"
   ]
  },
  {
   "cell_type": "markdown",
   "id": "f0fade51",
   "metadata": {},
   "source": [
    "### Exercise 3\n",
    "\n",
    "\n",
    "Write a query that returns all customers whose first name starts with the letter D."
   ]
  },
  {
   "cell_type": "code",
   "execution_count": 45,
   "id": "748f4263",
   "metadata": {},
   "outputs": [
    {
     "name": "stdout",
     "output_type": "stream",
     "text": [
      " * sqlite:///chinook.db\n",
      "Done.\n"
     ]
    },
    {
     "data": {
      "text/html": [
       "<table>\n",
       "    <thead>\n",
       "        <tr>\n",
       "            <th>CustomerId</th>\n",
       "            <th>FirstName</th>\n",
       "            <th>LastName</th>\n",
       "            <th>Company</th>\n",
       "            <th>Address</th>\n",
       "            <th>City</th>\n",
       "            <th>State</th>\n",
       "            <th>Country</th>\n",
       "            <th>PostalCode</th>\n",
       "            <th>Phone</th>\n",
       "            <th>Fax</th>\n",
       "            <th>Email</th>\n",
       "            <th>SupportRepId</th>\n",
       "        </tr>\n",
       "    </thead>\n",
       "    <tbody>\n",
       "        <tr>\n",
       "            <td>8</td>\n",
       "            <td>Daan</td>\n",
       "            <td>Peeters</td>\n",
       "            <td>None</td>\n",
       "            <td>Grétrystraat 63</td>\n",
       "            <td>Brussels</td>\n",
       "            <td>None</td>\n",
       "            <td>Belgium</td>\n",
       "            <td>1000</td>\n",
       "            <td>+32 02 219 03 03</td>\n",
       "            <td>None</td>\n",
       "            <td>daan_peeters@apple.be</td>\n",
       "            <td>4</td>\n",
       "        </tr>\n",
       "        <tr>\n",
       "            <td>20</td>\n",
       "            <td>Dan</td>\n",
       "            <td>Miller</td>\n",
       "            <td>None</td>\n",
       "            <td>541 Del Medio Avenue</td>\n",
       "            <td>Mountain View</td>\n",
       "            <td>CA</td>\n",
       "            <td>USA</td>\n",
       "            <td>94040-111</td>\n",
       "            <td>+1 (650) 644-3358</td>\n",
       "            <td>None</td>\n",
       "            <td>dmiller@comcast.com</td>\n",
       "            <td>4</td>\n",
       "        </tr>\n",
       "        <tr>\n",
       "            <td>40</td>\n",
       "            <td>Dominique</td>\n",
       "            <td>Lefebvre</td>\n",
       "            <td>None</td>\n",
       "            <td>8, Rue Hanovre</td>\n",
       "            <td>Paris</td>\n",
       "            <td>None</td>\n",
       "            <td>France</td>\n",
       "            <td>75002</td>\n",
       "            <td>+33 01 47 42 71 71</td>\n",
       "            <td>None</td>\n",
       "            <td>dominiquelefebvre@gmail.com</td>\n",
       "            <td>4</td>\n",
       "        </tr>\n",
       "        <tr>\n",
       "            <td>56</td>\n",
       "            <td>Diego</td>\n",
       "            <td>Gutiérrez</td>\n",
       "            <td>None</td>\n",
       "            <td>307 Macacha Güemes</td>\n",
       "            <td>Buenos Aires</td>\n",
       "            <td>None</td>\n",
       "            <td>Argentina</td>\n",
       "            <td>1106</td>\n",
       "            <td>+54 (0)11 4311 4333</td>\n",
       "            <td>None</td>\n",
       "            <td>diego.gutierrez@yahoo.ar</td>\n",
       "            <td>4</td>\n",
       "        </tr>\n",
       "    </tbody>\n",
       "</table>"
      ],
      "text/plain": [
       "[(8, 'Daan', 'Peeters', None, 'Grétrystraat 63', 'Brussels', None, 'Belgium', '1000', '+32 02 219 03 03', None, 'daan_peeters@apple.be', 4),\n",
       " (20, 'Dan', 'Miller', None, '541 Del Medio Avenue', 'Mountain View', 'CA', 'USA', '94040-111', '+1 (650) 644-3358', None, 'dmiller@comcast.com', 4),\n",
       " (40, 'Dominique', 'Lefebvre', None, '8, Rue Hanovre', 'Paris', None, 'France', '75002', '+33 01 47 42 71 71', None, 'dominiquelefebvre@gmail.com', 4),\n",
       " (56, 'Diego', 'Gutiérrez', None, '307 Macacha Güemes', 'Buenos Aires', None, 'Argentina', '1106', '+54 (0)11 4311 4333', None, 'diego.gutierrez@yahoo.ar', 4)]"
      ]
     },
     "execution_count": 45,
     "metadata": {},
     "output_type": "execute_result"
    }
   ],
   "source": [
    "%%sql\n",
    "\n",
    "SELECT\n",
    "    *\n",
    "FROM\n",
    "    customers c\n",
    "WHERE\n",
    "    c.firstname LIKE \"d%\"\n"
   ]
  },
  {
   "cell_type": "markdown",
   "id": "f28aef00",
   "metadata": {},
   "source": [
    "### Exercise 4\n",
    "\n",
    "Formulate a query that returns customers with email addresses that have domains that end in three letters."
   ]
  },
  {
   "cell_type": "code",
   "execution_count": 47,
   "id": "f4621a53",
   "metadata": {},
   "outputs": [
    {
     "name": "stdout",
     "output_type": "stream",
     "text": [
      " * sqlite:///chinook.db\n",
      "Done.\n"
     ]
    },
    {
     "data": {
      "text/html": [
       "<table>\n",
       "    <thead>\n",
       "        <tr>\n",
       "            <th>Email</th>\n",
       "        </tr>\n",
       "    </thead>\n",
       "    <tbody>\n",
       "        <tr>\n",
       "            <td>ftremblay@gmail.com</td>\n",
       "        </tr>\n",
       "        <tr>\n",
       "            <td>frantisekw@jetbrains.com</td>\n",
       "        </tr>\n",
       "        <tr>\n",
       "            <td>hholy@gmail.com</td>\n",
       "        </tr>\n",
       "        <tr>\n",
       "            <td>fharris@google.com</td>\n",
       "        </tr>\n",
       "        <tr>\n",
       "            <td>jacksmith@microsoft.com</td>\n",
       "        </tr>\n",
       "        <tr>\n",
       "            <td>michelleb@aol.com</td>\n",
       "        </tr>\n",
       "        <tr>\n",
       "            <td>tgoyer@apple.com</td>\n",
       "        </tr>\n",
       "        <tr>\n",
       "            <td>dmiller@comcast.com</td>\n",
       "        </tr>\n",
       "        <tr>\n",
       "            <td>kachase@hotmail.com</td>\n",
       "        </tr>\n",
       "        <tr>\n",
       "            <td>hleacock@gmail.com</td>\n",
       "        </tr>\n",
       "        <tr>\n",
       "            <td>johngordon22@yahoo.com</td>\n",
       "        </tr>\n",
       "        <tr>\n",
       "            <td>fralston@gmail.com</td>\n",
       "        </tr>\n",
       "        <tr>\n",
       "            <td>vstevens@yahoo.com</td>\n",
       "        </tr>\n",
       "        <tr>\n",
       "            <td>ricunningham@hotmail.com</td>\n",
       "        </tr>\n",
       "        <tr>\n",
       "            <td>patrick.gray@aol.com</td>\n",
       "        </tr>\n",
       "        <tr>\n",
       "            <td>jubarnett@gmail.com</td>\n",
       "        </tr>\n",
       "        <tr>\n",
       "            <td>marthasilk@gmail.com</td>\n",
       "        </tr>\n",
       "        <tr>\n",
       "            <td>dominiquelefebvre@gmail.com</td>\n",
       "        </tr>\n",
       "        <tr>\n",
       "            <td>marc.dubois@hotmail.com</td>\n",
       "        </tr>\n",
       "        <tr>\n",
       "            <td>emma_jones@hotmail.com</td>\n",
       "        </tr>\n",
       "        <tr>\n",
       "            <td>phil.hughes@gmail.com</td>\n",
       "        </tr>\n",
       "        <tr>\n",
       "            <td>manoj.pareek@rediff.com</td>\n",
       "        </tr>\n",
       "    </tbody>\n",
       "</table>"
      ],
      "text/plain": [
       "[('ftremblay@gmail.com',),\n",
       " ('frantisekw@jetbrains.com',),\n",
       " ('hholy@gmail.com',),\n",
       " ('fharris@google.com',),\n",
       " ('jacksmith@microsoft.com',),\n",
       " ('michelleb@aol.com',),\n",
       " ('tgoyer@apple.com',),\n",
       " ('dmiller@comcast.com',),\n",
       " ('kachase@hotmail.com',),\n",
       " ('hleacock@gmail.com',),\n",
       " ('johngordon22@yahoo.com',),\n",
       " ('fralston@gmail.com',),\n",
       " ('vstevens@yahoo.com',),\n",
       " ('ricunningham@hotmail.com',),\n",
       " ('patrick.gray@aol.com',),\n",
       " ('jubarnett@gmail.com',),\n",
       " ('marthasilk@gmail.com',),\n",
       " ('dominiquelefebvre@gmail.com',),\n",
       " ('marc.dubois@hotmail.com',),\n",
       " ('emma_jones@hotmail.com',),\n",
       " ('phil.hughes@gmail.com',),\n",
       " ('manoj.pareek@rediff.com',)]"
      ]
     },
     "execution_count": 47,
     "metadata": {},
     "output_type": "execute_result"
    }
   ],
   "source": [
    "%%sql\n",
    "\n",
    "SELECT\n",
    "   c.Email\n",
    "FROM\n",
    "    customers c\n",
    "WHERE c.Email like '%.___'"
   ]
  },
  {
   "cell_type": "markdown",
   "id": "7a51093c",
   "metadata": {},
   "source": [
    "### Exercise 5\n",
    "\n",
    "Write a query that shows all customers who live in the UK."
   ]
  },
  {
   "cell_type": "code",
   "execution_count": 51,
   "id": "99479d5f",
   "metadata": {},
   "outputs": [
    {
     "name": "stdout",
     "output_type": "stream",
     "text": [
      " * sqlite:///chinook.db\n",
      "Done.\n"
     ]
    },
    {
     "data": {
      "text/html": [
       "<table>\n",
       "    <thead>\n",
       "        <tr>\n",
       "            <th>CustomerId</th>\n",
       "            <th>FirstName</th>\n",
       "            <th>LastName</th>\n",
       "            <th>Company</th>\n",
       "            <th>Address</th>\n",
       "            <th>City</th>\n",
       "            <th>State</th>\n",
       "            <th>Country</th>\n",
       "            <th>PostalCode</th>\n",
       "            <th>Phone</th>\n",
       "            <th>Fax</th>\n",
       "            <th>Email</th>\n",
       "            <th>SupportRepId</th>\n",
       "        </tr>\n",
       "    </thead>\n",
       "    <tbody>\n",
       "        <tr>\n",
       "            <td>52</td>\n",
       "            <td>Emma</td>\n",
       "            <td>Jones</td>\n",
       "            <td>None</td>\n",
       "            <td>202 Hoxton Street</td>\n",
       "            <td>London</td>\n",
       "            <td>None</td>\n",
       "            <td>United Kingdom</td>\n",
       "            <td>N1 5LH</td>\n",
       "            <td>+44 020 7707 0707</td>\n",
       "            <td>None</td>\n",
       "            <td>emma_jones@hotmail.com</td>\n",
       "            <td>3</td>\n",
       "        </tr>\n",
       "        <tr>\n",
       "            <td>53</td>\n",
       "            <td>Phil</td>\n",
       "            <td>Hughes</td>\n",
       "            <td>None</td>\n",
       "            <td>113 Lupus St</td>\n",
       "            <td>London</td>\n",
       "            <td>None</td>\n",
       "            <td>United Kingdom</td>\n",
       "            <td>SW1V 3EN</td>\n",
       "            <td>+44 020 7976 5722</td>\n",
       "            <td>None</td>\n",
       "            <td>phil.hughes@gmail.com</td>\n",
       "            <td>3</td>\n",
       "        </tr>\n",
       "        <tr>\n",
       "            <td>54</td>\n",
       "            <td>Steve</td>\n",
       "            <td>Murray</td>\n",
       "            <td>None</td>\n",
       "            <td>110 Raeburn Pl</td>\n",
       "            <td>Edinburgh </td>\n",
       "            <td>None</td>\n",
       "            <td>United Kingdom</td>\n",
       "            <td>EH4 1HH</td>\n",
       "            <td>+44 0131 315 3300</td>\n",
       "            <td>None</td>\n",
       "            <td>steve.murray@yahoo.uk</td>\n",
       "            <td>5</td>\n",
       "        </tr>\n",
       "    </tbody>\n",
       "</table>"
      ],
      "text/plain": [
       "[(52, 'Emma', 'Jones', None, '202 Hoxton Street', 'London', None, 'United Kingdom', 'N1 5LH', '+44 020 7707 0707', None, 'emma_jones@hotmail.com', 3),\n",
       " (53, 'Phil', 'Hughes', None, '113 Lupus St', 'London', None, 'United Kingdom', 'SW1V 3EN', '+44 020 7976 5722', None, 'phil.hughes@gmail.com', 3),\n",
       " (54, 'Steve', 'Murray', None, '110 Raeburn Pl', 'Edinburgh ', None, 'United Kingdom', 'EH4 1HH', '+44 0131 315 3300', None, 'steve.murray@yahoo.uk', 5)]"
      ]
     },
     "execution_count": 51,
     "metadata": {},
     "output_type": "execute_result"
    }
   ],
   "source": [
    "%%sql\n",
    "\n",
    "SELECT\n",
    "   *\n",
    "FROM\n",
    "    customers c\n",
    "WHERE lower(c.country) = 'united kingdom'"
   ]
  },
  {
   "cell_type": "markdown",
   "id": "f36f5481",
   "metadata": {},
   "source": [
    "### Exercise 6\n",
    "Write a query that shows employee first and last names in the same column."
   ]
  },
  {
   "cell_type": "code",
   "execution_count": 55,
   "id": "9cd7b2d8",
   "metadata": {},
   "outputs": [
    {
     "name": "stdout",
     "output_type": "stream",
     "text": [
      " * sqlite:///chinook.db\n",
      "Done.\n"
     ]
    },
    {
     "data": {
      "text/html": [
       "<table>\n",
       "    <thead>\n",
       "        <tr>\n",
       "            <th>Full_Name</th>\n",
       "        </tr>\n",
       "    </thead>\n",
       "    <tbody>\n",
       "        <tr>\n",
       "            <td>Luís Gonçalves</td>\n",
       "        </tr>\n",
       "        <tr>\n",
       "            <td>Leonie Köhler</td>\n",
       "        </tr>\n",
       "        <tr>\n",
       "            <td>François Tremblay</td>\n",
       "        </tr>\n",
       "        <tr>\n",
       "            <td>Bjørn Hansen</td>\n",
       "        </tr>\n",
       "        <tr>\n",
       "            <td>František Wichterlová</td>\n",
       "        </tr>\n",
       "    </tbody>\n",
       "</table>"
      ],
      "text/plain": [
       "[('Luís Gonçalves',),\n",
       " ('Leonie Köhler',),\n",
       " ('François Tremblay',),\n",
       " ('Bjørn Hansen',),\n",
       " ('František Wichterlová',)]"
      ]
     },
     "execution_count": 55,
     "metadata": {},
     "output_type": "execute_result"
    }
   ],
   "source": [
    "%%sql\n",
    "\n",
    "SELECT\n",
    "   firstname|| \" \"|| lastname AS Full_Name\n",
    "FROM\n",
    "    customers c\n",
    "limit 5"
   ]
  },
  {
   "cell_type": "markdown",
   "id": "b3c88335",
   "metadata": {},
   "source": [
    "## Solutions"
   ]
  },
  {
   "cell_type": "markdown",
   "id": "a5084b12",
   "metadata": {},
   "source": [
    "### Exercise 1"
   ]
  },
  {
   "cell_type": "code",
   "execution_count": null,
   "id": "c968d875",
   "metadata": {
    "scrolled": true
   },
   "outputs": [],
   "source": [
    "%%sql\n",
    "\n",
    "PRAGMA table_info(customers);"
   ]
  },
  {
   "cell_type": "markdown",
   "id": "294d8eef",
   "metadata": {},
   "source": [
    "### Exercise 2"
   ]
  },
  {
   "cell_type": "code",
   "execution_count": null,
   "id": "03071e34",
   "metadata": {},
   "outputs": [],
   "source": [
    "%%sql \n",
    "\n",
    "SELECT \n",
    "    * \n",
    "FROM \n",
    "    tracks AS t\n",
    "WHERE \n",
    "    t.Name LIKE \"%love%\"\n",
    "LIMIT 10;\n"
   ]
  },
  {
   "cell_type": "markdown",
   "id": "eafe40b6",
   "metadata": {},
   "source": [
    "### Exercise 3"
   ]
  },
  {
   "cell_type": "code",
   "execution_count": null,
   "id": "1ffd2239",
   "metadata": {},
   "outputs": [],
   "source": [
    "%%sql\n",
    "\n",
    "SELECT \n",
    "    *\n",
    "FROM \n",
    "    customers AS c\n",
    "WHERE \n",
    "    c.FirstName LIKE \"D%\";\n"
   ]
  },
  {
   "cell_type": "markdown",
   "id": "e9956efe",
   "metadata": {},
   "source": [
    "### Exercise 4"
   ]
  },
  {
   "cell_type": "code",
   "execution_count": null,
   "id": "cd662edc",
   "metadata": {},
   "outputs": [],
   "source": [
    "%%sql\n",
    "\n",
    "SELECT *\n",
    "FROM customers AS c\n",
    "WHERE c.Email LIKE \"%.___\"\n",
    "LIMIT 5;"
   ]
  },
  {
   "cell_type": "markdown",
   "id": "0e85967d",
   "metadata": {},
   "source": [
    "One of the most useful string operators in SQL is the `LIKE` operator. This allows us to search for a pattern of text within a table column.\n",
    "\n",
    "`LIKE` is used in the `WHERE` clause in conjunction with wildcards. Examples include:\n",
    "\n",
    "- `%`: represents zero, one, or multiple characters\n",
    "- `_`: represents a single character"
   ]
  },
  {
   "cell_type": "markdown",
   "id": "c1341a11",
   "metadata": {},
   "source": [
    "### Exercise 5"
   ]
  },
  {
   "cell_type": "code",
   "execution_count": null,
   "id": "9a0cf068",
   "metadata": {},
   "outputs": [],
   "source": [
    "%%sql\n",
    "\n",
    "SELECT \n",
    "    *\n",
    "FROM \n",
    "    customers\n",
    "WHERE \n",
    "    LOWER(country) = \"united kingdom\";"
   ]
  },
  {
   "cell_type": "markdown",
   "id": "6995dd21",
   "metadata": {},
   "source": [
    "When filtering on string columns, it's best to use the `UPPER` or `LOWER` functions so as to not exclude any entries that might differ based on their case."
   ]
  },
  {
   "cell_type": "markdown",
   "id": "3f50031f",
   "metadata": {},
   "source": [
    "### Exercise 6"
   ]
  },
  {
   "cell_type": "code",
   "execution_count": null,
   "id": "93213a45",
   "metadata": {},
   "outputs": [],
   "source": [
    "%%sql\n",
    "\n",
    "SELECT FirstName || \" \" || LastName AS \"Full Name\"\n",
    "FROM employees;"
   ]
  },
  {
   "cell_type": "markdown",
   "id": "6d8d9bdd",
   "metadata": {},
   "source": [
    "<div align=\"center\" style=\" font-size: 80%; text-align: center; margin: 0 auto\">\n",
    "<img src=\"https://raw.githubusercontent.com/Explore-AI/Pictures/master/ExploreAI_logos/EAI_Blue_Dark.png\"  style=\"width:200px\";/>\n",
    "</div>"
   ]
  }
 ],
 "metadata": {
  "kernelspec": {
   "display_name": "Python 3 (ipykernel)",
   "language": "python",
   "name": "python3"
  },
  "language_info": {
   "codemirror_mode": {
    "name": "ipython",
    "version": 3
   },
   "file_extension": ".py",
   "mimetype": "text/x-python",
   "name": "python",
   "nbconvert_exporter": "python",
   "pygments_lexer": "ipython3",
   "version": "3.11.4"
  }
 },
 "nbformat": 4,
 "nbformat_minor": 5
}
