{
 "cells": [
  {
   "cell_type": "markdown",
   "id": "51b1254d",
   "metadata": {},
   "source": [
    "<div align=\"right\" style=\" font-size: 80%; text-align: center; margin: 0 auto\">\n",
    "<img src=\"https://raw.githubusercontent.com/Explore-AI/Pictures/master/ExploreAI_logos/Logo blue_dark.png\"  style=\"width:25px\" align=\"right\";/>\n",
    "</div>"
   ]
  },
  {
   "cell_type": "markdown",
   "id": "f662d169",
   "metadata": {},
   "source": [
    "# Creating views 1\n",
    "© ExploreAI Academy"
   ]
  },
  {
   "attachments": {},
   "cell_type": "markdown",
   "id": "26af890c",
   "metadata": {},
   "source": [
    "In this exercise, we learn how to create different types of views and how to drop views. \n",
    "\n",
    "Ensure that you have downloaded the database file Chinook.db."
   ]
  },
  {
   "cell_type": "markdown",
   "id": "2d230d14",
   "metadata": {},
   "source": [
    "## Learning objectives\n",
    "\n",
    "By the end of this train, you should be able to:\n",
    "- Create `LOOKUP`, `JOIN`, and `AGGREGATING` views.\n",
    "- Drop a view."
   ]
  },
  {
   "cell_type": "markdown",
   "id": "7fd5e3b8",
   "metadata": {},
   "source": [
    "First, let's load our sample database:"
   ]
  },
  {
   "cell_type": "code",
   "execution_count": 2,
   "id": "2d0d820e",
   "metadata": {},
   "outputs": [
    {
     "name": "stdout",
     "output_type": "stream",
     "text": [
      "The sql extension is already loaded. To reload it, use:\n",
      "  %reload_ext sql\n"
     ]
    }
   ],
   "source": [
    "# Load and activate the SQL extension to allow us to execute SQL in a Jupyter notebook.\n",
    "%load_ext sql\n"
   ]
  },
  {
   "cell_type": "code",
   "execution_count": 3,
   "id": "599e3c6c",
   "metadata": {},
   "outputs": [],
   "source": [
    "# Load the Chinook database stored in your local machine. \n",
    "# Make sure the file is saved in the same folder as this notebook.\n",
    "%sql sqlite:///chinook.db"
   ]
  },
  {
   "cell_type": "markdown",
   "id": "06af8b46",
   "metadata": {},
   "source": [
    "Here is a [view](https://www.lucidchart.com/pages/er-diagrams) of all of our tables in the database:"
   ]
  },
  {
   "attachments": {},
   "cell_type": "markdown",
   "id": "08883cce",
   "metadata": {},
   "source": [
    "<div align=\"center\" style=\" font-size: 80%; text-align: center; margin: 0 auto\">\n",
    "<img src=\"https://github.com/Explore-AI/Pictures/blob/master/sqlite-sample-database-color.jpg?raw=true\"  style=\"width:90%\";/>\n",
    "<br>\n",
    "<br>\n",
    "    <em>Figure 1: Chinook ERD</em>\n",
    "</div>\n"
   ]
  },
  {
   "cell_type": "markdown",
   "id": "920e89d2",
   "metadata": {},
   "source": [
    "## Exercise\n",
    "\n",
    "Run the necessary queries that will provide us with the following information. Compare your queries with the solutions at the end of this notebook."
   ]
  },
  {
   "cell_type": "markdown",
   "id": "466e53c1",
   "metadata": {},
   "source": [
    "### Exercise 1\n",
    "\n",
    "Create a `LOOKUP` view of the surname, first name, title, and country of each employee called `Employee_View`.\n"
   ]
  },
  {
   "cell_type": "code",
   "execution_count": 6,
   "id": "038f28ea",
   "metadata": {},
   "outputs": [
    {
     "name": "stdout",
     "output_type": "stream",
     "text": [
      " * sqlite:///chinook.db\n",
      "Done.\n"
     ]
    },
    {
     "data": {
      "text/plain": [
       "[]"
      ]
     },
     "execution_count": 6,
     "metadata": {},
     "output_type": "execute_result"
    }
   ],
   "source": [
    "%%sql\n",
    "\n",
    "CREATE VIEW\n",
    "    Employee_view AS\n",
    "SELECT\n",
    "    LastName,\n",
    "    FirstName,\n",
    "    title,\n",
    "    country\n",
    "FROM\n",
    "    employees;"
   ]
  },
  {
   "cell_type": "markdown",
   "id": "86802726",
   "metadata": {},
   "source": [
    "### Exercise 2\n",
    "\n",
    "\n",
    "Query the `Employee_View` view to get a view of the sales team.\n",
    "\n",
    "Use the wildcard operators and the LIKE query to filter all the employees in the specified view."
   ]
  },
  {
   "cell_type": "code",
   "execution_count": 8,
   "id": "91f3421f",
   "metadata": {},
   "outputs": [
    {
     "name": "stdout",
     "output_type": "stream",
     "text": [
      " * sqlite:///chinook.db\n",
      "Done.\n"
     ]
    },
    {
     "data": {
      "text/html": [
       "<table>\n",
       "    <thead>\n",
       "        <tr>\n",
       "            <th>LastName</th>\n",
       "            <th>FirstName</th>\n",
       "            <th>Title</th>\n",
       "            <th>Country</th>\n",
       "        </tr>\n",
       "    </thead>\n",
       "    <tbody>\n",
       "        <tr>\n",
       "            <td>Mitchell</td>\n",
       "            <td>Michael</td>\n",
       "            <td>IT Manager</td>\n",
       "            <td>Canada</td>\n",
       "        </tr>\n",
       "        <tr>\n",
       "            <td>King</td>\n",
       "            <td>Robert</td>\n",
       "            <td>IT Staff</td>\n",
       "            <td>Canada</td>\n",
       "        </tr>\n",
       "        <tr>\n",
       "            <td>Callahan</td>\n",
       "            <td>Laura</td>\n",
       "            <td>IT Staff</td>\n",
       "            <td>Canada</td>\n",
       "        </tr>\n",
       "    </tbody>\n",
       "</table>"
      ],
      "text/plain": [
       "[('Mitchell', 'Michael', 'IT Manager', 'Canada'),\n",
       " ('King', 'Robert', 'IT Staff', 'Canada'),\n",
       " ('Callahan', 'Laura', 'IT Staff', 'Canada')]"
      ]
     },
     "execution_count": 8,
     "metadata": {},
     "output_type": "execute_result"
    }
   ],
   "source": [
    "%%sql\n",
    "\n",
    "SELECT\n",
    "    *\n",
    "FROM\n",
    "    Employee_view\n",
    "WHERE\n",
    "    title LIKE 'IT%';"
   ]
  },
  {
   "cell_type": "markdown",
   "id": "f0fade51",
   "metadata": {},
   "source": [
    "### Exercise 3\n",
    "\n",
    "\n",
    "Create a `JOIN` view that will link up all the customers with the support staff assisting them, called `Customer_Support_View`. We want to view the following:\n",
    "\n",
    "- First name of the customer\n",
    "- Last name (surname) of the customer\n",
    "- Country where the customer resides\n",
    "- SupportRepId\n",
    "- EmployeeId\n",
    "- Last name of the employee\n",
    "- First name of the employee\n",
    "- Job title of the employee\n",
    "- Country where the employee operated from"
   ]
  },
  {
   "cell_type": "code",
   "execution_count": 24,
   "id": "748f4263",
   "metadata": {},
   "outputs": [
    {
     "name": "stdout",
     "output_type": "stream",
     "text": [
      " * sqlite:///chinook.db\n",
      "Done.\n"
     ]
    },
    {
     "data": {
      "text/plain": [
       "[]"
      ]
     },
     "execution_count": 24,
     "metadata": {},
     "output_type": "execute_result"
    }
   ],
   "source": [
    "%%sql\n",
    "\n",
    "CREATE VIEW Customer_Support_View AS\n",
    "SELECT\n",
    "    c.FirstName || \" \" || c.LastName AS CustomerName,\n",
    "    c.Country AS CustomerCountry,\n",
    "    c.SupportRepID,\n",
    "    e.EmployeeID,\n",
    "    e.FirstName || \" \" || e.LastName AS EmpolyeeName,\n",
    "    e.title,\n",
    "    e.country AS EmployeeCountry\n",
    "FROM\n",
    "    customers c\n",
    "JOIN employees e on e.employeeid = c.SupportRepID\n"
   ]
  },
  {
   "attachments": {},
   "cell_type": "markdown",
   "id": "f28aef00",
   "metadata": {},
   "source": [
    "### Exercise 4\n",
    "\n",
    "Query the `Customer_Support_View` view to get a list of the names and surnames of the clients who were helped by an employee with the `Employeeid` '3'.\n"
   ]
  },
  {
   "cell_type": "code",
   "execution_count": 25,
   "id": "f4621a53",
   "metadata": {},
   "outputs": [
    {
     "name": "stdout",
     "output_type": "stream",
     "text": [
      " * sqlite:///chinook.db\n",
      "Done.\n"
     ]
    },
    {
     "data": {
      "text/html": [
       "<table>\n",
       "    <thead>\n",
       "        <tr>\n",
       "            <th>CustomerName</th>\n",
       "            <th>CustomerCountry</th>\n",
       "            <th>SupportRepId</th>\n",
       "            <th>EmployeeId</th>\n",
       "            <th>EmpolyeeName</th>\n",
       "            <th>Title</th>\n",
       "            <th>EmployeeCountry</th>\n",
       "        </tr>\n",
       "    </thead>\n",
       "    <tbody>\n",
       "        <tr>\n",
       "            <td>Luís Gonçalves</td>\n",
       "            <td>Brazil</td>\n",
       "            <td>3</td>\n",
       "            <td>3</td>\n",
       "            <td>Jane Peacock</td>\n",
       "            <td>Sales Support Agent</td>\n",
       "            <td>Canada</td>\n",
       "        </tr>\n",
       "        <tr>\n",
       "            <td>François Tremblay</td>\n",
       "            <td>Canada</td>\n",
       "            <td>3</td>\n",
       "            <td>3</td>\n",
       "            <td>Jane Peacock</td>\n",
       "            <td>Sales Support Agent</td>\n",
       "            <td>Canada</td>\n",
       "        </tr>\n",
       "        <tr>\n",
       "            <td>Roberto Almeida</td>\n",
       "            <td>Brazil</td>\n",
       "            <td>3</td>\n",
       "            <td>3</td>\n",
       "            <td>Jane Peacock</td>\n",
       "            <td>Sales Support Agent</td>\n",
       "            <td>Canada</td>\n",
       "        </tr>\n",
       "        <tr>\n",
       "            <td>Jennifer Peterson</td>\n",
       "            <td>Canada</td>\n",
       "            <td>3</td>\n",
       "            <td>3</td>\n",
       "            <td>Jane Peacock</td>\n",
       "            <td>Sales Support Agent</td>\n",
       "            <td>Canada</td>\n",
       "        </tr>\n",
       "        <tr>\n",
       "            <td>Michelle Brooks</td>\n",
       "            <td>USA</td>\n",
       "            <td>3</td>\n",
       "            <td>3</td>\n",
       "            <td>Jane Peacock</td>\n",
       "            <td>Sales Support Agent</td>\n",
       "            <td>Canada</td>\n",
       "        </tr>\n",
       "        <tr>\n",
       "            <td>Tim Goyer</td>\n",
       "            <td>USA</td>\n",
       "            <td>3</td>\n",
       "            <td>3</td>\n",
       "            <td>Jane Peacock</td>\n",
       "            <td>Sales Support Agent</td>\n",
       "            <td>Canada</td>\n",
       "        </tr>\n",
       "        <tr>\n",
       "            <td>Frank Ralston</td>\n",
       "            <td>USA</td>\n",
       "            <td>3</td>\n",
       "            <td>3</td>\n",
       "            <td>Jane Peacock</td>\n",
       "            <td>Sales Support Agent</td>\n",
       "            <td>Canada</td>\n",
       "        </tr>\n",
       "        <tr>\n",
       "            <td>Robert Brown</td>\n",
       "            <td>Canada</td>\n",
       "            <td>3</td>\n",
       "            <td>3</td>\n",
       "            <td>Jane Peacock</td>\n",
       "            <td>Sales Support Agent</td>\n",
       "            <td>Canada</td>\n",
       "        </tr>\n",
       "        <tr>\n",
       "            <td>Edward Francis</td>\n",
       "            <td>Canada</td>\n",
       "            <td>3</td>\n",
       "            <td>3</td>\n",
       "            <td>Jane Peacock</td>\n",
       "            <td>Sales Support Agent</td>\n",
       "            <td>Canada</td>\n",
       "        </tr>\n",
       "        <tr>\n",
       "            <td>Ellie Sullivan</td>\n",
       "            <td>Canada</td>\n",
       "            <td>3</td>\n",
       "            <td>3</td>\n",
       "            <td>Jane Peacock</td>\n",
       "            <td>Sales Support Agent</td>\n",
       "            <td>Canada</td>\n",
       "        </tr>\n",
       "        <tr>\n",
       "            <td>Fynn Zimmermann</td>\n",
       "            <td>Germany</td>\n",
       "            <td>3</td>\n",
       "            <td>3</td>\n",
       "            <td>Jane Peacock</td>\n",
       "            <td>Sales Support Agent</td>\n",
       "            <td>Canada</td>\n",
       "        </tr>\n",
       "        <tr>\n",
       "            <td>Niklas Schröder</td>\n",
       "            <td>Germany</td>\n",
       "            <td>3</td>\n",
       "            <td>3</td>\n",
       "            <td>Jane Peacock</td>\n",
       "            <td>Sales Support Agent</td>\n",
       "            <td>Canada</td>\n",
       "        </tr>\n",
       "        <tr>\n",
       "            <td>Wyatt Girard</td>\n",
       "            <td>France</td>\n",
       "            <td>3</td>\n",
       "            <td>3</td>\n",
       "            <td>Jane Peacock</td>\n",
       "            <td>Sales Support Agent</td>\n",
       "            <td>Canada</td>\n",
       "        </tr>\n",
       "        <tr>\n",
       "            <td>Isabelle Mercier</td>\n",
       "            <td>France</td>\n",
       "            <td>3</td>\n",
       "            <td>3</td>\n",
       "            <td>Jane Peacock</td>\n",
       "            <td>Sales Support Agent</td>\n",
       "            <td>Canada</td>\n",
       "        </tr>\n",
       "        <tr>\n",
       "            <td>Terhi Hämäläinen</td>\n",
       "            <td>Finland</td>\n",
       "            <td>3</td>\n",
       "            <td>3</td>\n",
       "            <td>Jane Peacock</td>\n",
       "            <td>Sales Support Agent</td>\n",
       "            <td>Canada</td>\n",
       "        </tr>\n",
       "        <tr>\n",
       "            <td>Ladislav Kovács</td>\n",
       "            <td>Hungary</td>\n",
       "            <td>3</td>\n",
       "            <td>3</td>\n",
       "            <td>Jane Peacock</td>\n",
       "            <td>Sales Support Agent</td>\n",
       "            <td>Canada</td>\n",
       "        </tr>\n",
       "        <tr>\n",
       "            <td>Hugh O&#x27;Reilly</td>\n",
       "            <td>Ireland</td>\n",
       "            <td>3</td>\n",
       "            <td>3</td>\n",
       "            <td>Jane Peacock</td>\n",
       "            <td>Sales Support Agent</td>\n",
       "            <td>Canada</td>\n",
       "        </tr>\n",
       "        <tr>\n",
       "            <td>Emma Jones</td>\n",
       "            <td>United Kingdom</td>\n",
       "            <td>3</td>\n",
       "            <td>3</td>\n",
       "            <td>Jane Peacock</td>\n",
       "            <td>Sales Support Agent</td>\n",
       "            <td>Canada</td>\n",
       "        </tr>\n",
       "        <tr>\n",
       "            <td>Phil Hughes</td>\n",
       "            <td>United Kingdom</td>\n",
       "            <td>3</td>\n",
       "            <td>3</td>\n",
       "            <td>Jane Peacock</td>\n",
       "            <td>Sales Support Agent</td>\n",
       "            <td>Canada</td>\n",
       "        </tr>\n",
       "        <tr>\n",
       "            <td>Manoj Pareek</td>\n",
       "            <td>India</td>\n",
       "            <td>3</td>\n",
       "            <td>3</td>\n",
       "            <td>Jane Peacock</td>\n",
       "            <td>Sales Support Agent</td>\n",
       "            <td>Canada</td>\n",
       "        </tr>\n",
       "        <tr>\n",
       "            <td>Puja Srivastava</td>\n",
       "            <td>India</td>\n",
       "            <td>3</td>\n",
       "            <td>3</td>\n",
       "            <td>Jane Peacock</td>\n",
       "            <td>Sales Support Agent</td>\n",
       "            <td>Canada</td>\n",
       "        </tr>\n",
       "    </tbody>\n",
       "</table>"
      ],
      "text/plain": [
       "[('Luís Gonçalves', 'Brazil', 3, 3, 'Jane Peacock', 'Sales Support Agent', 'Canada'),\n",
       " ('François Tremblay', 'Canada', 3, 3, 'Jane Peacock', 'Sales Support Agent', 'Canada'),\n",
       " ('Roberto Almeida', 'Brazil', 3, 3, 'Jane Peacock', 'Sales Support Agent', 'Canada'),\n",
       " ('Jennifer Peterson', 'Canada', 3, 3, 'Jane Peacock', 'Sales Support Agent', 'Canada'),\n",
       " ('Michelle Brooks', 'USA', 3, 3, 'Jane Peacock', 'Sales Support Agent', 'Canada'),\n",
       " ('Tim Goyer', 'USA', 3, 3, 'Jane Peacock', 'Sales Support Agent', 'Canada'),\n",
       " ('Frank Ralston', 'USA', 3, 3, 'Jane Peacock', 'Sales Support Agent', 'Canada'),\n",
       " ('Robert Brown', 'Canada', 3, 3, 'Jane Peacock', 'Sales Support Agent', 'Canada'),\n",
       " ('Edward Francis', 'Canada', 3, 3, 'Jane Peacock', 'Sales Support Agent', 'Canada'),\n",
       " ('Ellie Sullivan', 'Canada', 3, 3, 'Jane Peacock', 'Sales Support Agent', 'Canada'),\n",
       " ('Fynn Zimmermann', 'Germany', 3, 3, 'Jane Peacock', 'Sales Support Agent', 'Canada'),\n",
       " ('Niklas Schröder', 'Germany', 3, 3, 'Jane Peacock', 'Sales Support Agent', 'Canada'),\n",
       " ('Wyatt Girard', 'France', 3, 3, 'Jane Peacock', 'Sales Support Agent', 'Canada'),\n",
       " ('Isabelle Mercier', 'France', 3, 3, 'Jane Peacock', 'Sales Support Agent', 'Canada'),\n",
       " ('Terhi Hämäläinen', 'Finland', 3, 3, 'Jane Peacock', 'Sales Support Agent', 'Canada'),\n",
       " ('Ladislav Kovács', 'Hungary', 3, 3, 'Jane Peacock', 'Sales Support Agent', 'Canada'),\n",
       " (\"Hugh O'Reilly\", 'Ireland', 3, 3, 'Jane Peacock', 'Sales Support Agent', 'Canada'),\n",
       " ('Emma Jones', 'United Kingdom', 3, 3, 'Jane Peacock', 'Sales Support Agent', 'Canada'),\n",
       " ('Phil Hughes', 'United Kingdom', 3, 3, 'Jane Peacock', 'Sales Support Agent', 'Canada'),\n",
       " ('Manoj Pareek', 'India', 3, 3, 'Jane Peacock', 'Sales Support Agent', 'Canada'),\n",
       " ('Puja Srivastava', 'India', 3, 3, 'Jane Peacock', 'Sales Support Agent', 'Canada')]"
      ]
     },
     "execution_count": 25,
     "metadata": {},
     "output_type": "execute_result"
    }
   ],
   "source": [
    "%%sql\n",
    "\n",
    "SELECT\n",
    "    *\n",
    "FROM\n",
    "    Customer_Support_View\n",
    "WHERE\n",
    "    employeeid = 3;"
   ]
  },
  {
   "cell_type": "markdown",
   "id": "7a51093c",
   "metadata": {},
   "source": [
    "### Exercise 5\n",
    "\n",
    "Create an `AGGREGATING` view that counts the number of customers that are currently being serviced per country, called `Customer_per_Country_View`.\n",
    "\n",
    "We would like to see the country name and the number of customers in this view.\n"
   ]
  },
  {
   "cell_type": "code",
   "execution_count": 26,
   "id": "99479d5f",
   "metadata": {},
   "outputs": [
    {
     "name": "stdout",
     "output_type": "stream",
     "text": [
      " * sqlite:///chinook.db\n",
      "Done.\n"
     ]
    },
    {
     "data": {
      "text/plain": [
       "[]"
      ]
     },
     "execution_count": 26,
     "metadata": {},
     "output_type": "execute_result"
    }
   ],
   "source": [
    "%%sql \n",
    "\n",
    "CREATE VIEW Customer_per_Country_View AS\n",
    "SELECT COUNT (CustomerId) AS Num_customers, Country\n",
    "FROM customers\n",
    "GROUP BY Country;"
   ]
  },
  {
   "cell_type": "markdown",
   "id": "d5aefbd6",
   "metadata": {},
   "source": [
    "### Exercise 6\n",
    "Write a query that returns the country with the most customers from `Customer_per_Country_View`.\n"
   ]
  },
  {
   "cell_type": "code",
   "execution_count": 30,
   "id": "fc98fe10",
   "metadata": {},
   "outputs": [
    {
     "name": "stdout",
     "output_type": "stream",
     "text": [
      " * sqlite:///chinook.db\n",
      "Done.\n"
     ]
    },
    {
     "data": {
      "text/html": [
       "<table>\n",
       "    <thead>\n",
       "        <tr>\n",
       "            <th>Num_customers</th>\n",
       "            <th>Country</th>\n",
       "        </tr>\n",
       "    </thead>\n",
       "    <tbody>\n",
       "        <tr>\n",
       "            <td>13</td>\n",
       "            <td>USA</td>\n",
       "        </tr>\n",
       "        <tr>\n",
       "            <td>8</td>\n",
       "            <td>Canada</td>\n",
       "        </tr>\n",
       "        <tr>\n",
       "            <td>5</td>\n",
       "            <td>Brazil</td>\n",
       "        </tr>\n",
       "        <tr>\n",
       "            <td>5</td>\n",
       "            <td>France</td>\n",
       "        </tr>\n",
       "        <tr>\n",
       "            <td>4</td>\n",
       "            <td>Germany</td>\n",
       "        </tr>\n",
       "    </tbody>\n",
       "</table>"
      ],
      "text/plain": [
       "[(13, 'USA'), (8, 'Canada'), (5, 'Brazil'), (5, 'France'), (4, 'Germany')]"
      ]
     },
     "execution_count": 30,
     "metadata": {},
     "output_type": "execute_result"
    }
   ],
   "source": [
    "%%sql \n",
    "\n",
    "SELECT\n",
    "    *\n",
    "FROM\n",
    "    Customer_per_Country_View\n",
    "ORDER BY\n",
    "    num_customers DESC\n",
    "LIMIT\n",
    "    5"
   ]
  },
  {
   "cell_type": "markdown",
   "id": "a18b461d",
   "metadata": {},
   "source": [
    "### Exercise 7\n",
    "\n",
    "Write a query that will delete the `Employee_View` view."
   ]
  },
  {
   "cell_type": "code",
   "execution_count": 31,
   "id": "ee7daac8",
   "metadata": {},
   "outputs": [
    {
     "name": "stdout",
     "output_type": "stream",
     "text": [
      " * sqlite:///chinook.db\n",
      "Done.\n"
     ]
    },
    {
     "data": {
      "text/plain": [
       "[]"
      ]
     },
     "execution_count": 31,
     "metadata": {},
     "output_type": "execute_result"
    }
   ],
   "source": [
    "%%sql \n",
    "DROP VIEW Employee_View"
   ]
  },
  {
   "attachments": {},
   "cell_type": "markdown",
   "id": "dde873fc",
   "metadata": {},
   "source": [
    "### Challenge question\n",
    "\n",
    "Write a query that returns the number of customers that each support employee services, along with the name of the employee. Call this view `Support_Person_Stats`.\n",
    "\n",
    "To do this, we will need to create a view, join the Customer and Employee tables, and use the `COUNT` and `GROUP BY` functions to aggregate the number of employees serviced by each employee."
   ]
  },
  {
   "cell_type": "code",
   "execution_count": 33,
   "id": "57804ebf",
   "metadata": {},
   "outputs": [
    {
     "name": "stdout",
     "output_type": "stream",
     "text": [
      " * sqlite:///chinook.db\n",
      "Done.\n"
     ]
    },
    {
     "data": {
      "text/html": [
       "<table>\n",
       "    <thead>\n",
       "        <tr>\n",
       "            <th>Count_of_Customers_Serviced</th>\n",
       "            <th>EmployeeId</th>\n",
       "            <th>LastName</th>\n",
       "        </tr>\n",
       "    </thead>\n",
       "    <tbody>\n",
       "        <tr>\n",
       "            <td>21</td>\n",
       "            <td>3</td>\n",
       "            <td>Peacock</td>\n",
       "        </tr>\n",
       "        <tr>\n",
       "            <td>20</td>\n",
       "            <td>4</td>\n",
       "            <td>Park</td>\n",
       "        </tr>\n",
       "        <tr>\n",
       "            <td>18</td>\n",
       "            <td>5</td>\n",
       "            <td>Johnson</td>\n",
       "        </tr>\n",
       "    </tbody>\n",
       "</table>"
      ],
      "text/plain": [
       "[(21, 3, 'Peacock'), (20, 4, 'Park'), (18, 5, 'Johnson')]"
      ]
     },
     "execution_count": 33,
     "metadata": {},
     "output_type": "execute_result"
    }
   ],
   "source": [
    "%%sql \n",
    "SELECT\n",
    "    *\n",
    "FROM\n",
    "    Support_Person_Stats"
   ]
  },
  {
   "cell_type": "markdown",
   "id": "b3c88335",
   "metadata": {},
   "source": [
    "## Solutions"
   ]
  },
  {
   "cell_type": "markdown",
   "id": "a5084b12",
   "metadata": {},
   "source": [
    "### Exercise 1"
   ]
  },
  {
   "cell_type": "code",
   "execution_count": null,
   "id": "c968d875",
   "metadata": {
    "scrolled": true
   },
   "outputs": [],
   "source": [
    "%%sql\n",
    "\n",
    "CREATE VIEW Employee_View AS \n",
    "SELECT LastName, FirstName, Title, Country\n",
    "FROM Employees;"
   ]
  },
  {
   "cell_type": "markdown",
   "id": "294d8eef",
   "metadata": {},
   "source": [
    "### Exercise 2"
   ]
  },
  {
   "cell_type": "code",
   "execution_count": null,
   "id": "03071e34",
   "metadata": {},
   "outputs": [],
   "source": [
    "%%sql\n",
    "\n",
    "SELECT * FROM Employee_View\n",
    "WHERE Title LIKE '%Sales%'"
   ]
  },
  {
   "cell_type": "markdown",
   "id": "eafe40b6",
   "metadata": {},
   "source": [
    "### Exercise 3"
   ]
  },
  {
   "cell_type": "code",
   "execution_count": null,
   "id": "1ffd2239",
   "metadata": {},
   "outputs": [],
   "source": [
    "%%sql\n",
    "CREATE VIEW\n",
    "    Customer_Support_View AS\n",
    "SELECT\n",
    "    c.FirstName Customer_Name,\n",
    "    c.LastName Customer_Surname,\n",
    "    c.Country Customer_Country,\n",
    "    c.SupportRepId,\n",
    "    e.EmployeeId,\n",
    "    e.LastName Employee_surname,\n",
    "    e.FirstName Employee_first_name,\n",
    "    e.Title Employee_job_title,\n",
    "    e.Country Employee_Country\n",
    "FROM\n",
    "    customers c\n",
    "    INNER JOIN employees e ON c.SupportRepId = e.EmployeeId\n"
   ]
  },
  {
   "cell_type": "markdown",
   "id": "e9956efe",
   "metadata": {},
   "source": [
    "### Exercise 4"
   ]
  },
  {
   "cell_type": "code",
   "execution_count": null,
   "id": "cd662edc",
   "metadata": {},
   "outputs": [],
   "source": [
    "%%sql\n",
    "\n",
    "SELECT Customer_Name, Customer_Surname \n",
    "FROM Customer_Support_View\n",
    "WHERE Employeeid = 3;"
   ]
  },
  {
   "cell_type": "markdown",
   "id": "c1341a11",
   "metadata": {},
   "source": [
    "### Exercise 5"
   ]
  },
  {
   "cell_type": "code",
   "execution_count": null,
   "id": "9a0cf068",
   "metadata": {},
   "outputs": [],
   "source": [
    "%%sql\n",
    "\n",
    "CREATE VIEW Customer_per_Country_View AS \n",
    "SELECT COUNT (CustomerId) AS Num_customers, Country\n",
    "FROM customers\n",
    "GROUP BY Country;"
   ]
  },
  {
   "cell_type": "markdown",
   "id": "9372f6b4",
   "metadata": {},
   "source": [
    "### Exercise 6"
   ]
  },
  {
   "cell_type": "code",
   "execution_count": 29,
   "id": "d5ac7556",
   "metadata": {},
   "outputs": [
    {
     "name": "stdout",
     "output_type": "stream",
     "text": [
      " * sqlite:///chinook.db\n",
      "Done.\n"
     ]
    },
    {
     "data": {
      "text/html": [
       "<table>\n",
       "    <thead>\n",
       "        <tr>\n",
       "            <th>Country</th>\n",
       "            <th>MAX(Num_customers)</th>\n",
       "        </tr>\n",
       "    </thead>\n",
       "    <tbody>\n",
       "        <tr>\n",
       "            <td>USA</td>\n",
       "            <td>13</td>\n",
       "        </tr>\n",
       "    </tbody>\n",
       "</table>"
      ],
      "text/plain": [
       "[('USA', 13)]"
      ]
     },
     "execution_count": 29,
     "metadata": {},
     "output_type": "execute_result"
    }
   ],
   "source": [
    "%%sql\n",
    "\n",
    "SELECT Country, MAX(Num_customers) \n",
    "FROM Customer_per_Country_View"
   ]
  },
  {
   "cell_type": "markdown",
   "id": "10b888fd",
   "metadata": {},
   "source": [
    "### Exercise 7"
   ]
  },
  {
   "cell_type": "code",
   "execution_count": null,
   "id": "6d8ab7fa",
   "metadata": {},
   "outputs": [],
   "source": [
    "%%sql\n",
    "\n",
    "DROP VIEW Employee_View"
   ]
  },
  {
   "cell_type": "markdown",
   "id": "a9364c60",
   "metadata": {},
   "source": [
    "### Challenge question"
   ]
  },
  {
   "cell_type": "code",
   "execution_count": 32,
   "id": "74f04ced",
   "metadata": {},
   "outputs": [
    {
     "name": "stdout",
     "output_type": "stream",
     "text": [
      " * sqlite:///chinook.db\n",
      "Done.\n"
     ]
    },
    {
     "data": {
      "text/plain": [
       "[]"
      ]
     },
     "execution_count": 32,
     "metadata": {},
     "output_type": "execute_result"
    }
   ],
   "source": [
    "%%sql\n",
    "\n",
    "CREATE VIEW Support_Person_Stats AS\n",
    "SELECT COUNT(c.SupportRepId) Count_of_Customers_Serviced , e.EmployeeId, e.LastName\n",
    "FROM customers c \n",
    "INNER JOIN employees e\n",
    "ON c.SupportRepId = e.EmployeeId\n",
    "GROUP BY e.EmployeeId;"
   ]
  },
  {
   "attachments": {},
   "cell_type": "markdown",
   "id": "c2a7b88d",
   "metadata": {},
   "source": [
    "* Note: Because views are added to the main database after they are created, if we want to perform the `CREATE VIEW` commands again, we must first drop the prior view to prevent receiving a 'VIEW already exists' error."
   ]
  },
  {
   "cell_type": "markdown",
   "id": "6d8d9bdd",
   "metadata": {},
   "source": [
    "<div align=\"center\" style=\" font-size: 80%; text-align: center; margin: 0 auto\">\n",
    "<img src=\"https://raw.githubusercontent.com/Explore-AI/Pictures/master/ExploreAI_logos/EAI_Blue_Dark.png\"  style=\"width:200px\";/>\n",
    "</div>"
   ]
  }
 ],
 "metadata": {
  "kernelspec": {
   "display_name": "Python 3 (ipykernel)",
   "language": "python",
   "name": "python3"
  },
  "language_info": {
   "codemirror_mode": {
    "name": "ipython",
    "version": 3
   },
   "file_extension": ".py",
   "mimetype": "text/x-python",
   "name": "python",
   "nbconvert_exporter": "python",
   "pygments_lexer": "ipython3",
   "version": "3.11.4"
  }
 },
 "nbformat": 4,
 "nbformat_minor": 5
}
