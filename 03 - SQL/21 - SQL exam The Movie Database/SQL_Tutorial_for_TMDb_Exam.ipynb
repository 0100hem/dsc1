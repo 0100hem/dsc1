{
  "cells": [
    {
      "cell_type": "markdown",
      "id": "8438ddac",
      "metadata": {
        "tags": [],
        "id": "8438ddac"
      },
      "source": [
        "# SQL Tutorial for The Movie Database (TMDb) Exam\n"
      ]
    },
    {
      "cell_type": "markdown",
      "id": "023a6ad3-c21e-4902-9f7f-46be8d575281",
      "metadata": {
        "tags": [],
        "id": "023a6ad3-c21e-4902-9f7f-46be8d575281"
      },
      "source": [
        "## 1. Introduction"
      ]
    },
    {
      "cell_type": "markdown",
      "id": "865f0984-1a6c-4b90-9ef5-ada814a52447",
      "metadata": {
        "id": "865f0984-1a6c-4b90-9ef5-ada814a52447"
      },
      "source": [
        "- Welcome\n",
        "- Announcements\n",
        "- Brief overview of SQL and its uses.\n",
        "- Explanation of the TMDb database and its relevance."
      ]
    },
    {
      "cell_type": "markdown",
      "id": "81e75253-a6ba-4d7d-a20e-76c2e18790db",
      "metadata": {
        "tags": [],
        "id": "81e75253-a6ba-4d7d-a20e-76c2e18790db"
      },
      "source": [
        "### Overview of SQL and its uses"
      ]
    },
    {
      "cell_type": "markdown",
      "id": "4632a307-709c-4918-9bf1-e23df35a57cf",
      "metadata": {
        "id": "4632a307-709c-4918-9bf1-e23df35a57cf"
      },
      "source": [
        "SQL, or Structured Query Language, is the standard language for dealing with relational databases.<br> It is used to insert, search, update, delete database records.<br> Essentially, it's how we communicate with a database to manage the data it holds.\n",
        "<br>To begin working on relational database using our Jupyter notebook, remember we need to primarily do two things:\n",
        "1. Load and activate the SQL extension to allow us to execute SQL in a Jupyter notebook.\n"
      ]
    },
    {
      "cell_type": "code",
      "execution_count": null,
      "id": "63ab75f8-d039-4963-b324-3399033b452b",
      "metadata": {
        "tags": [],
        "id": "63ab75f8-d039-4963-b324-3399033b452b"
      },
      "outputs": [],
      "source": [
        "%load_ext sql"
      ]
    },
    {
      "cell_type": "markdown",
      "id": "723f1070-e7ce-450f-8504-954c2c45d25a",
      "metadata": {
        "id": "723f1070-e7ce-450f-8504-954c2c45d25a"
      },
      "source": [
        "2. Establish a connection to the local database using the '%sql' magic command."
      ]
    },
    {
      "cell_type": "code",
      "execution_count": null,
      "id": "6a3d57dc-b9b1-43b8-95f2-a6361c0914b5",
      "metadata": {
        "tags": [],
        "id": "6a3d57dc-b9b1-43b8-95f2-a6361c0914b5",
        "outputId": "cebfa18a-65e2-4513-8e63-d532c128db76"
      },
      "outputs": [
        {
          "data": {
            "text/plain": [
              "'Connected: @TMDB-a-4006.db'"
            ]
          },
          "execution_count": 3,
          "metadata": {},
          "output_type": "execute_result"
        }
      ],
      "source": [
        "%sql sqlite:///TMDB-a-4006.db"
      ]
    },
    {
      "cell_type": "markdown",
      "id": "1c36ce7e-f89a-41f0-a14a-e9e77374e018",
      "metadata": {
        "tags": [],
        "id": "1c36ce7e-f89a-41f0-a14a-e9e77374e018"
      },
      "source": [
        "### Explanation of the TMDb database and its relevance:"
      ]
    },
    {
      "cell_type": "markdown",
      "id": "4ac11e62-e938-42b6-9b13-57ffe4a445fe",
      "metadata": {
        "id": "4ac11e62-e938-42b6-9b13-57ffe4a445fe"
      },
      "source": [
        "The TMDb database is a comprehensive source for movie and TV show data, widely used for educational, research, and entertainment industry purposes.<br> Understanding how to query such databases can provide valuable insights and is an essential skill for data analysts, marketers, and developers alike.\n",
        "\n",
        "Always remember that you can always do a detailed analysis on the most recent version of the TMDB database for your own portfolio.\n",
        "\n",
        "The post on \"How to Download and Explore Movie\" Data by Steve Hedden, gives a detailed approach to downloading the TMDB movie database. click <a href=\"https://towardsdatascience.com/how-to-download-and-explore-movie-data-1948a887c530\">here</a> to visit the post."
      ]
    },
    {
      "cell_type": "markdown",
      "id": "a1e82ebd-afb2-48df-ad6f-fe62b94ae270",
      "metadata": {
        "tags": [],
        "id": "a1e82ebd-afb2-48df-ad6f-fe62b94ae270"
      },
      "source": [
        "## 2. SQL Queries and Syntax"
      ]
    },
    {
      "cell_type": "markdown",
      "id": "a2a06a50-6d44-4fe7-b272-39d2bdd139a4",
      "metadata": {
        "tags": [],
        "id": "a2a06a50-6d44-4fe7-b272-39d2bdd139a4"
      },
      "source": [
        "### Writing basic SELECT statements:"
      ]
    },
    {
      "cell_type": "markdown",
      "id": "63b9b796-938b-422d-a756-d5ec1e8da522",
      "metadata": {
        "id": "63b9b796-938b-422d-a756-d5ec1e8da522"
      },
      "source": [
        "The SELECT statement is used to select data from a database. The data returned is stored in a result table, sometimes called the result set.\n",
        "\n",
        "Example:<br>\n",
        "\n",
        "`SELECT column1, column2\n",
        "FROM table_name;`\n",
        "\n",
        "That is the basic syntax of a query, but how do we know what tables to query, this will differ depending on the kind of db file and the dialect, since we are using sqlite, we can use the query below:"
      ]
    },
    {
      "cell_type": "code",
      "execution_count": null,
      "id": "e5030de3-049f-46f4-9656-11e90c76463a",
      "metadata": {
        "scrolled": true,
        "tags": [],
        "id": "e5030de3-049f-46f4-9656-11e90c76463a",
        "outputId": "51d2cd98-6330-4994-bec5-6bbdfa323824"
      },
      "outputs": [
        {
          "name": "stdout",
          "output_type": "stream",
          "text": [
            " * sqlite:///TMDB-a-4006.db\n",
            "Done.\n"
          ]
        },
        {
          "data": {
            "text/html": [
              "<table>\n",
              "    <thead>\n",
              "        <tr>\n",
              "            <th>type</th>\n",
              "            <th>name</th>\n",
              "            <th>tbl_name</th>\n",
              "            <th>rootpage</th>\n",
              "            <th>sql</th>\n",
              "        </tr>\n",
              "    </thead>\n",
              "    <tbody>\n",
              "        <tr>\n",
              "            <td>table</td>\n",
              "            <td>actors</td>\n",
              "            <td>actors</td>\n",
              "            <td>2</td>\n",
              "            <td>CREATE TABLE `actors` (<br>  `actor_id` integer NOT NULL<br>,  `actor_name` varchar(100) DEFAULT NULL<br>,  `gender` integer DEFAULT NULL<br>,  PRIMARY KEY (`actor_id`)<br>)</td>\n",
              "        </tr>\n",
              "    </tbody>\n",
              "</table>"
            ],
            "text/plain": [
              "[('table', 'actors', 'actors', 2, 'CREATE TABLE `actors` (\\n  `actor_id` integer NOT NULL\\n,  `actor_name` varchar(100) DEFAULT NULL\\n,  `gender` integer DEFAULT NULL\\n,  PRIMARY KEY (`actor_id`)\\n)')]"
            ]
          },
          "execution_count": 4,
          "metadata": {},
          "output_type": "execute_result"
        }
      ],
      "source": [
        "%%sql\n",
        "SELECT\n",
        "    *\n",
        "FROM\n",
        "    sqlite_master\n",
        "LIMIT 1;"
      ]
    },
    {
      "cell_type": "markdown",
      "id": "a79aece5-4ca5-4a0e-90aa-b26337622905",
      "metadata": {
        "tags": [],
        "id": "a79aece5-4ca5-4a0e-90aa-b26337622905"
      },
      "source": [
        "### Importance of the WHERE clause:"
      ]
    },
    {
      "cell_type": "markdown",
      "id": "c8cb05c6-1dc3-4b68-97ff-1ff1f575ec87",
      "metadata": {
        "id": "c8cb05c6-1dc3-4b68-97ff-1ff1f575ec87"
      },
      "source": [
        "\n",
        "The WHERE clause is used to filter records.<br>\n",
        "It is used to extract only those records that fulfill a specified condition.\n",
        "\n",
        "Example:  Let look at all types in the query above that are tables"
      ]
    },
    {
      "cell_type": "code",
      "execution_count": null,
      "id": "ced62034-b1e6-489d-92f3-34bf216d4e89",
      "metadata": {
        "tags": [],
        "id": "ced62034-b1e6-489d-92f3-34bf216d4e89",
        "outputId": "f6443985-58c4-4dca-a858-2085e1d64034"
      },
      "outputs": [
        {
          "name": "stdout",
          "output_type": "stream",
          "text": [
            " * sqlite:///TMDB-a-4006.db\n",
            "Done.\n"
          ]
        },
        {
          "data": {
            "text/html": [
              "<table>\n",
              "    <thead>\n",
              "        <tr>\n",
              "            <th>type</th>\n",
              "            <th>name</th>\n",
              "            <th>tbl_name</th>\n",
              "            <th>rootpage</th>\n",
              "            <th>sql</th>\n",
              "        </tr>\n",
              "    </thead>\n",
              "    <tbody>\n",
              "        <tr>\n",
              "            <td>table</td>\n",
              "            <td>actors</td>\n",
              "            <td>actors</td>\n",
              "            <td>2</td>\n",
              "            <td>CREATE TABLE `actors` (<br>  `actor_id` integer NOT NULL<br>,  `actor_name` varchar(100) DEFAULT NULL<br>,  `gender` integer DEFAULT NULL<br>,  PRIMARY KEY (`actor_id`)<br>)</td>\n",
              "        </tr>\n",
              "    </tbody>\n",
              "</table>"
            ],
            "text/plain": [
              "[('table', 'actors', 'actors', 2, 'CREATE TABLE `actors` (\\n  `actor_id` integer NOT NULL\\n,  `actor_name` varchar(100) DEFAULT NULL\\n,  `gender` integer DEFAULT NULL\\n,  PRIMARY KEY (`actor_id`)\\n)')]"
            ]
          },
          "execution_count": 6,
          "metadata": {},
          "output_type": "execute_result"
        }
      ],
      "source": [
        "%%sql\n",
        "SELECT\n",
        "    *\n",
        "FROM\n",
        "    sqlite_master\n",
        "WHERE\n",
        "    type = 'table'\n",
        "LIMIT 1;"
      ]
    },
    {
      "cell_type": "code",
      "execution_count": null,
      "id": "5c6b70a3-3fbf-4c5c-a5c0-209a80d47f49",
      "metadata": {
        "tags": [],
        "id": "5c6b70a3-3fbf-4c5c-a5c0-209a80d47f49",
        "outputId": "40c0a2ed-95fc-41df-a1fc-eceec9e3f255"
      },
      "outputs": [
        {
          "name": "stdout",
          "output_type": "stream",
          "text": [
            " * sqlite:///TMDB-a-4006.db\n",
            "Done.\n"
          ]
        },
        {
          "data": {
            "text/html": [
              "<table>\n",
              "    <thead>\n",
              "        <tr>\n",
              "            <th>name</th>\n",
              "            <th>type</th>\n",
              "        </tr>\n",
              "    </thead>\n",
              "    <tbody>\n",
              "        <tr>\n",
              "            <td>actors</td>\n",
              "            <td>table</td>\n",
              "        </tr>\n",
              "    </tbody>\n",
              "</table>"
            ],
            "text/plain": [
              "[('actors', 'table')]"
            ]
          },
          "execution_count": 8,
          "metadata": {},
          "output_type": "execute_result"
        }
      ],
      "source": [
        "%%sql\n",
        "SELECT\n",
        "    name,\n",
        "    type\n",
        "FROM\n",
        "    sqlite_master\n",
        "WHERE\n",
        "    type = 'table'\n",
        "LIMIT 1;"
      ]
    },
    {
      "cell_type": "markdown",
      "id": "584afc18-bc29-4b92-8ecb-9510da537861",
      "metadata": {
        "tags": [],
        "id": "584afc18-bc29-4b92-8ecb-9510da537861"
      },
      "source": [
        "### Between WHERE and HAVING"
      ]
    },
    {
      "cell_type": "markdown",
      "id": "909c8381-99b1-4587-94bb-4882674fbc72",
      "metadata": {
        "id": "909c8381-99b1-4587-94bb-4882674fbc72"
      },
      "source": [
        "on the surface the WHERE and HAVING clause seem to do the same job but the major difference lies in the manner in which an SQL query is executed. When we execute a query in the background, SQL looks for all clauses present in the query and executes them in the following order\n",
        "\n",
        "1. FROM\n",
        "2. WHERE\n",
        "3. GROUP BY\n",
        "4. HAVING\n",
        "5. SELECT\n",
        "6. ORDER BY\n",
        "\n",
        "The WHERE clause is processed/evaluated just after the required table, thus all rows are checked at this point. So we can see that the WHERE clause operates on all individual records (rows) in the data. However, the `HAVING` clause is evaluated after the `GROUP BY` clause. This means that the `HAVING` clause will evaluate on individual groups, not each row. This is the primary difference between both."
      ]
    },
    {
      "cell_type": "markdown",
      "id": "cedfe9e0-e703-4944-92af-336ea1e8817f",
      "metadata": {
        "tags": [],
        "id": "cedfe9e0-e703-4944-92af-336ea1e8817f"
      },
      "source": [
        "### Using ORDER BY and LIMIT:"
      ]
    },
    {
      "cell_type": "markdown",
      "id": "f9ff4837-6e4c-40e6-8f80-3d75db0f7fb0",
      "metadata": {
        "id": "f9ff4837-6e4c-40e6-8f80-3d75db0f7fb0"
      },
      "source": [
        "The ORDER BY clause is used to sort the result set in either ascending or descending order. The LIMIT clause is used to specify the number of records to return.\n",
        "\n",
        "Example:"
      ]
    },
    {
      "cell_type": "code",
      "execution_count": null,
      "id": "85339b6e-a884-4e36-aae2-01691aaa0980",
      "metadata": {
        "tags": [],
        "id": "85339b6e-a884-4e36-aae2-01691aaa0980",
        "outputId": "b55e69d6-9ada-41e0-b0b9-6fafc54fa6f8"
      },
      "outputs": [
        {
          "name": "stdout",
          "output_type": "stream",
          "text": [
            " * sqlite:///TMDB-a-4006.db\n",
            "Done.\n"
          ]
        },
        {
          "data": {
            "text/html": [
              "<table>\n",
              "    <thead>\n",
              "        <tr>\n",
              "            <th>name</th>\n",
              "        </tr>\n",
              "    </thead>\n",
              "    <tbody>\n",
              "        <tr>\n",
              "            <td>actors</td>\n",
              "        </tr>\n",
              "    </tbody>\n",
              "</table>"
            ],
            "text/plain": [
              "[('actors',)]"
            ]
          },
          "execution_count": 28,
          "metadata": {},
          "output_type": "execute_result"
        }
      ],
      "source": [
        "%%sql\n",
        "SELECT\n",
        "    name\n",
        "FROM\n",
        "    sqlite_master\n",
        "WHERE\n",
        "    type = 'table'\n",
        "ORDER BY\n",
        "    name\n",
        "LIMIT 1;"
      ]
    },
    {
      "cell_type": "markdown",
      "id": "e372e78e-49fe-4109-b1d1-60d515290995",
      "metadata": {
        "jp-MarkdownHeadingCollapsed": true,
        "tags": [],
        "id": "e372e78e-49fe-4109-b1d1-60d515290995"
      },
      "source": [
        "#### Extra:\n",
        ">Have you ever tried to check all columns in a table while working in SQLite?\n",
        ">\n",
        ">if you have reserached then  you should have come across the sqlite special function - \"pragma_table_info\"\n",
        ">\n",
        ">Since this is available, we can join the sqlite_master table with a pragma_table_info function to get all table names and columns in the database  \n",
        ">\n",
        ">Remember to filter for table."
      ]
    },
    {
      "cell_type": "code",
      "execution_count": null,
      "id": "180a1a04-1468-477f-a236-22ddb17be86b",
      "metadata": {
        "id": "180a1a04-1468-477f-a236-22ddb17be86b",
        "outputId": "bd6503b7-d54e-4286-8655-4b2158002aa6"
      },
      "outputs": [
        {
          "name": "stdout",
          "output_type": "stream",
          "text": [
            " * sqlite:///TMDB-a-4006.db\n",
            "Done.\n"
          ]
        },
        {
          "data": {
            "text/html": [
              "<table>\n",
              "    <thead>\n",
              "        <tr>\n",
              "            <th>table_name</th>\n",
              "            <th>column_name</th>\n",
              "        </tr>\n",
              "    </thead>\n",
              "    <tbody>\n",
              "        <tr>\n",
              "            <td>actors</td>\n",
              "            <td>actor_id</td>\n",
              "        </tr>\n",
              "    </tbody>\n",
              "</table>"
            ],
            "text/plain": [
              "[('actors', 'actor_id')]"
            ]
          },
          "execution_count": 10,
          "metadata": {},
          "output_type": "execute_result"
        }
      ],
      "source": [
        "%%sql\n",
        "\n",
        "SELECT\n",
        "    m.name AS table_name,\n",
        "    p.name AS column_name\n",
        "FROM\n",
        "    sqlite_master AS m\n",
        "JOIN\n",
        "    pragma_table_info(m.name) AS p\n",
        "WHERE\n",
        "    m.type = 'table'\n",
        "ORDER BY\n",
        "    m.name,\n",
        "    p.cid\n",
        "LIMIT 1;\n"
      ]
    },
    {
      "cell_type": "markdown",
      "id": "22cfdfcd-1386-4e2e-b7c8-b4e29d932581",
      "metadata": {
        "tags": [],
        "id": "22cfdfcd-1386-4e2e-b7c8-b4e29d932581"
      },
      "source": [
        "## 3. Understanding ERDs and Database Schema"
      ]
    },
    {
      "cell_type": "markdown",
      "id": "277c0d75-89c5-47bf-8ea5-1a0ae79a9bdc",
      "metadata": {
        "id": "277c0d75-89c5-47bf-8ea5-1a0ae79a9bdc"
      },
      "source": [
        "- How to read an ERD.\n",
        "- Understanding relationships between tables.\n",
        "- Using primary and foreign keys for joining tables."
      ]
    },
    {
      "cell_type": "markdown",
      "id": "c1ab367a-f17e-48f6-966e-087f457de779",
      "metadata": {
        "tags": [],
        "id": "c1ab367a-f17e-48f6-966e-087f457de779"
      },
      "source": [
        "### Reading an ERD:"
      ]
    },
    {
      "cell_type": "markdown",
      "id": "ee45212d-193d-4b9a-aba7-f7e2363c9aac",
      "metadata": {
        "id": "ee45212d-193d-4b9a-aba7-f7e2363c9aac"
      },
      "source": [
        "An Entity Relationship Diagram (ERD) is a visual representation of entities and their relationships to each other within a database."
      ]
    },
    {
      "cell_type": "markdown",
      "id": "0008d46d-5977-4520-9906-52aa0153b4c3",
      "metadata": {
        "id": "0008d46d-5977-4520-9906-52aa0153b4c3"
      },
      "source": [
        "![ALT TEXT](images/TMDB_ER_diagram.png)"
      ]
    },
    {
      "cell_type": "markdown",
      "id": "81bf355c-deb8-4073-bd98-2f5c5564c100",
      "metadata": {
        "id": "81bf355c-deb8-4073-bd98-2f5c5564c100"
      },
      "source": [
        "[ALT TEXT](images/TMDB_ER_diagram.png)"
      ]
    },
    {
      "cell_type": "markdown",
      "id": "b9886e18-601c-46ef-9198-82dbfb8d9495",
      "metadata": {
        "jp-MarkdownHeadingCollapsed": true,
        "tags": [],
        "id": "b9886e18-601c-46ef-9198-82dbfb8d9495"
      },
      "source": [
        "### Understanding table relationships:\n",
        "The relationships between tables in a database are crucial for understanding how data is interconnected. Key concepts include primary keys (unique identifiers for table records) and foreign keys (identifiers that link different tables together)."
      ]
    },
    {
      "cell_type": "code",
      "execution_count": null,
      "id": "bf45afc2-3f78-4689-adeb-6cdc84a62f42",
      "metadata": {
        "scrolled": true,
        "tags": [],
        "id": "bf45afc2-3f78-4689-adeb-6cdc84a62f42",
        "outputId": "b05a2f0c-6829-4a2c-905e-93483b91ae44"
      },
      "outputs": [
        {
          "name": "stdout",
          "output_type": "stream",
          "text": [
            " * sqlite:///TMDB-a-4006.db\n",
            "Done.\n"
          ]
        },
        {
          "data": {
            "text/html": [
              "<table>\n",
              "    <thead>\n",
              "        <tr>\n",
              "            <th>name</th>\n",
              "            <th>sql</th>\n",
              "        </tr>\n",
              "    </thead>\n",
              "    <tbody>\n",
              "        <tr>\n",
              "            <td>actors</td>\n",
              "            <td>CREATE TABLE `actors` (<br>  `actor_id` integer NOT NULL<br>,  `actor_name` varchar(100) DEFAULT NULL<br>,  `gender` integer DEFAULT NULL<br>,  PRIMARY KEY (`actor_id`)<br>)</td>\n",
              "        </tr>\n",
              "    </tbody>\n",
              "</table>"
            ],
            "text/plain": [
              "[('actors', 'CREATE TABLE `actors` (\\n  `actor_id` integer NOT NULL\\n,  `actor_name` varchar(100) DEFAULT NULL\\n,  `gender` integer DEFAULT NULL\\n,  PRIMARY KEY (`actor_id`)\\n)')]"
            ]
          },
          "execution_count": 11,
          "metadata": {},
          "output_type": "execute_result"
        }
      ],
      "source": [
        "%%sql\n",
        "\n",
        "SELECT\n",
        "    name,\n",
        "    sql\n",
        "FROM\n",
        "    sqlite_master\n",
        "WHERE\n",
        "    type = 'table'\n",
        "LIMIT 1;\n"
      ]
    },
    {
      "cell_type": "markdown",
      "id": "2276c313-3438-4450-84a1-7e7736977ee5",
      "metadata": {
        "tags": [],
        "id": "2276c313-3438-4450-84a1-7e7736977ee5"
      },
      "source": [
        "## 4. Joining Tables"
      ]
    },
    {
      "cell_type": "markdown",
      "id": "023c56ac-7f32-4b27-ad4e-1c3691ff80b8",
      "metadata": {
        "id": "023c56ac-7f32-4b27-ad4e-1c3691ff80b8"
      },
      "source": [
        "Types of joins:\n",
        "SQL JOIN clause is used to combine rows from two or more tables, based on a related column between them.<br>\n",
        "Common JOINS are\n",
        "\n",
        "1. INNER\n",
        "2. LEFT (OUTER) JOIN\n",
        "3. RIGHT (OUTER) JOIN\n",
        "4. FULL (OUTER) JOIN"
      ]
    },
    {
      "cell_type": "markdown",
      "id": "3643e6c8-e4ee-4ad8-9826-3cecc91b5dbb",
      "metadata": {
        "tags": [],
        "id": "3643e6c8-e4ee-4ad8-9826-3cecc91b5dbb"
      },
      "source": [
        "#### INNER JOIN:"
      ]
    },
    {
      "cell_type": "markdown",
      "id": "0be16b73-3ac1-49b4-a6ed-5e3a726412b9",
      "metadata": {
        "id": "0be16b73-3ac1-49b4-a6ed-5e3a726412b9"
      },
      "source": [
        "Use Case:\n",
        "When you need to retrieve records that have matching values in both tables, an INNER JOIN is the most appropriate.<br> It is the most common type of join because it returns rows only when there is at least one match in both tables."
      ]
    },
    {
      "cell_type": "markdown",
      "id": "325a619c-3fee-442d-a023-7121fe8ab75a",
      "metadata": {
        "tags": [],
        "id": "325a619c-3fee-442d-a023-7121fe8ab75a"
      },
      "source": [
        "##### Example Question:\n",
        "List the titles and release dates of all movies along with the names of the production companies that produced them."
      ]
    },
    {
      "cell_type": "markdown",
      "id": "4de66235-0ba0-4449-a257-08f7ae6fe41b",
      "metadata": {
        "tags": [],
        "id": "4de66235-0ba0-4449-a257-08f7ae6fe41b"
      },
      "source": [
        "###### Explanation:\n",
        "In this scenario, we are interested in movies that are associated with production companies. The INNER JOIN ensures that we only get the movies that have a linked record in the productioncompanymap table (indicating that a production company is associated with the movie). This join filters out movies without production companies and production companies without movies, thus providing a clean list of movies with their respective producers."
      ]
    },
    {
      "cell_type": "code",
      "execution_count": null,
      "id": "e0f8d49f-f6ab-412f-b194-d497ea6b2bdb",
      "metadata": {
        "tags": [],
        "id": "e0f8d49f-f6ab-412f-b194-d497ea6b2bdb",
        "outputId": "7b815b35-ebc8-4fb8-e694-94a4f0b1ebac"
      },
      "outputs": [
        {
          "name": "stdout",
          "output_type": "stream",
          "text": [
            " * sqlite:///TMDB-a-4006.db\n",
            "Done.\n"
          ]
        },
        {
          "data": {
            "text/html": [
              "<table>\n",
              "    <thead>\n",
              "        <tr>\n",
              "            <th>title</th>\n",
              "            <th>release_date</th>\n",
              "            <th>production_company_name</th>\n",
              "        </tr>\n",
              "    </thead>\n",
              "    <tbody>\n",
              "        <tr>\n",
              "            <td>Star Wars</td>\n",
              "            <td>1977-05-25 00:00:00.000000</td>\n",
              "            <td>Lucasfilm</td>\n",
              "        </tr>\n",
              "    </tbody>\n",
              "</table>"
            ],
            "text/plain": [
              "[('Star Wars', '1977-05-25 00:00:00.000000', 'Lucasfilm')]"
            ]
          },
          "execution_count": 12,
          "metadata": {},
          "output_type": "execute_result"
        }
      ],
      "source": [
        "%%sql\n",
        "-- only movies with titles and production companies because we used Inner to Join both tables\n",
        "SELECT m.title, m.release_date, pc.production_company_name\n",
        "FROM movies m\n",
        "INNER JOIN\n",
        "    productioncompanymap pcm\n",
        "    ON m.movie_id = pcm.movie_id\n",
        "INNER JOIN\n",
        "    productioncompanies pc\n",
        "    ON pcm.production_company_id = pc.production_company_id\n",
        "LIMIT 1;"
      ]
    },
    {
      "cell_type": "markdown",
      "id": "4786e63c-e83c-49ad-a19a-21ca0923da3c",
      "metadata": {
        "tags": [],
        "id": "4786e63c-e83c-49ad-a19a-21ca0923da3c"
      },
      "source": [
        "#### LEFT JOIN (or LEFT OUTER JOIN)"
      ]
    },
    {
      "cell_type": "markdown",
      "id": "0ce6c205-9d19-491c-9ede-edd06273be6f",
      "metadata": {
        "id": "0ce6c205-9d19-491c-9ede-edd06273be6f"
      },
      "source": [
        "Use Case:\n",
        "A LEFT JOIN is used when you want all records from the left table (table before the JOIN keyword), and the matched records from the right table. The result is NULL from the right side if there is no match."
      ]
    },
    {
      "cell_type": "markdown",
      "id": "05892ccc-5dc7-45aa-9dd8-9aa7fc3f59b5",
      "metadata": {
        "tags": [],
        "id": "05892ccc-5dc7-45aa-9dd8-9aa7fc3f59b5"
      },
      "source": [
        "##### Example Question:\n",
        "Provide a list of all movies, including their titles, release dates, and the names of their production companies, regardless of whether they have a production company associated with them or not."
      ]
    },
    {
      "cell_type": "markdown",
      "id": "ed2b8bc4-b785-4c4d-90b0-620c30256dcf",
      "metadata": {
        "id": "ed2b8bc4-b785-4c4d-90b0-620c30256dcf"
      },
      "source": [
        "###### Explanation:\n",
        "The use of a LEFT JOIN here ensures that all movies are listed, even if they don't have an associated production company. This is useful when the completeness of the left-side table (in this case, the movies table) is essential, and you want to include all its records in the results."
      ]
    },
    {
      "cell_type": "code",
      "execution_count": null,
      "id": "5fb853b0-8521-42c1-a3df-8c3df9f9b032",
      "metadata": {
        "scrolled": true,
        "id": "5fb853b0-8521-42c1-a3df-8c3df9f9b032",
        "outputId": "d0e61f26-cac8-46a1-a312-0b916e7e2d52"
      },
      "outputs": [
        {
          "name": "stdout",
          "output_type": "stream",
          "text": [
            " * sqlite:///TMDB-a-4006.db\n",
            "Done.\n"
          ]
        },
        {
          "data": {
            "text/html": [
              "<table>\n",
              "    <thead>\n",
              "        <tr>\n",
              "            <th>title</th>\n",
              "            <th>release_date</th>\n",
              "            <th>production_company_name</th>\n",
              "        </tr>\n",
              "    </thead>\n",
              "    <tbody>\n",
              "        <tr>\n",
              "            <td>Four Rooms</td>\n",
              "            <td>1995-12-09 00:00:00.000000</td>\n",
              "            <td>Miramax Films</td>\n",
              "        </tr>\n",
              "    </tbody>\n",
              "</table>"
            ],
            "text/plain": [
              "[('Four Rooms', '1995-12-09 00:00:00.000000', 'Miramax Films')]"
            ]
          },
          "execution_count": 13,
          "metadata": {},
          "output_type": "execute_result"
        }
      ],
      "source": [
        "%%sql\n",
        "-- This keeps all records from the table on the LEFT and adds records from table on the right where there is a PK - FK match.\n",
        "-- If there are records where the PK - FK do not match, NULL are returned.\n",
        "SELECT\n",
        "    m.title,\n",
        "    m.release_date,\n",
        "    pc.production_company_name\n",
        "FROM\n",
        "    movies m\n",
        "LEFT JOIN\n",
        "    productioncompanymap pcm\n",
        "    ON m.movie_id = pcm.movie_id\n",
        "LEFT JOIN\n",
        "    productioncompanies pc\n",
        "    ON pcm.production_company_id = pc.production_company_id\n",
        "limit 1;"
      ]
    },
    {
      "cell_type": "markdown",
      "id": "8a9cb01b-ac9c-4f81-b772-2978b58a4e88",
      "metadata": {
        "tags": [],
        "id": "8a9cb01b-ac9c-4f81-b772-2978b58a4e88"
      },
      "source": [
        "#### RIGHT JOIN (or RIGHT OUTER JOIN)"
      ]
    },
    {
      "cell_type": "markdown",
      "id": "0008e8ba-d260-4c3b-90be-1155844e4533",
      "metadata": {
        "id": "0008e8ba-d260-4c3b-90be-1155844e4533"
      },
      "source": [
        "Use Case:\n",
        "A RIGHT JOIN is essentially the opposite of a LEFT JOIN. It returns all records from the right table, and the matched records from the left table. The result is NULL from the left side when there is no match. In systems that don't support RIGHT JOIN, like SQLite, the same effect can be achieved by reversing the order of tables and using a LEFT JOIN."
      ]
    },
    {
      "cell_type": "markdown",
      "id": "a6a81c9d-a4f1-4cff-b66d-ef67d74f7b5a",
      "metadata": {
        "tags": [],
        "id": "a6a81c9d-a4f1-4cff-b66d-ef67d74f7b5a"
      },
      "source": [
        "##### Example Question:\n",
        "Show a list of all production companies and the movies they have produced, including the production companies that have not produced any movies."
      ]
    },
    {
      "cell_type": "markdown",
      "id": "92ee2cc9-a83d-429b-af9c-d64346ee8b66",
      "metadata": {
        "id": "92ee2cc9-a83d-429b-af9c-d64346ee8b66"
      },
      "source": [
        "###### Explanation:\n",
        "In this instance, we are focused on the production companies, wanting a comprehensive list that includes those that may not have produced any movies. By using a RIGHT JOIN (or reversed LEFT JOIN in SQLite), we can list all production companies and match them with movies they've produced, ensuring even those without any movie production are represented."
      ]
    },
    {
      "cell_type": "code",
      "execution_count": null,
      "id": "ae7b7395-24d0-4eac-abce-ba161d80426f",
      "metadata": {
        "scrolled": true,
        "id": "ae7b7395-24d0-4eac-abce-ba161d80426f",
        "outputId": "738614b0-c42c-477e-bff7-79fb6b72d265"
      },
      "outputs": [
        {
          "name": "stdout",
          "output_type": "stream",
          "text": [
            " * sqlite:///TMDB-a-4006.db\n",
            "Done.\n"
          ]
        },
        {
          "data": {
            "text/html": [
              "<table>\n",
              "    <thead>\n",
              "        <tr>\n",
              "            <th>production_company_name</th>\n",
              "            <th>title</th>\n",
              "            <th>release_date</th>\n",
              "        </tr>\n",
              "    </thead>\n",
              "    <tbody>\n",
              "        <tr>\n",
              "            <td>Lucasfilm</td>\n",
              "            <td>Star Wars</td>\n",
              "            <td>1977-05-25 00:00:00.000000</td>\n",
              "        </tr>\n",
              "    </tbody>\n",
              "</table>"
            ],
            "text/plain": [
              "[('Lucasfilm', 'Star Wars', '1977-05-25 00:00:00.000000')]"
            ]
          },
          "execution_count": 14,
          "metadata": {},
          "output_type": "execute_result"
        }
      ],
      "source": [
        "%%sql\n",
        "\n",
        "SELECT\n",
        "    pc.production_company_name,\n",
        "    m.title,\n",
        "    m.release_date\n",
        "FROM productioncompanies pc\n",
        "LEFT JOIN\n",
        "    productioncompanymap pcm\n",
        "    ON pc.production_company_id = pcm.production_company_id\n",
        "LEFT JOIN\n",
        "    movies m\n",
        "    ON pcm.movie_id = m.movie_id\n",
        "LIMIT 1;\n"
      ]
    },
    {
      "cell_type": "markdown",
      "id": "45257443-ac60-4eb6-a2e6-d93351125984",
      "metadata": {
        "id": "45257443-ac60-4eb6-a2e6-d93351125984"
      },
      "source": [
        "#### RIGHT JOIN (or RIGHT OUTER JOIN)"
      ]
    },
    {
      "cell_type": "markdown",
      "id": "2a70a84f-127b-4c41-b65a-da995ce5677f",
      "metadata": {
        "id": "2a70a84f-127b-4c41-b65a-da995ce5677f"
      },
      "source": [
        "Use Case:\n",
        "A RIGHT JOIN is essentially the opposite of a LEFT JOIN. It returns all records from the right table, and the matched records from the left table. The result is NULL from the left side when there is no match. In systems that don't support RIGHT JOIN, like SQLite, the same effect can be achieved by reversing the order of tables and using a LEFT JOIN."
      ]
    },
    {
      "cell_type": "markdown",
      "id": "6a01b4ed-618c-4cc1-b97a-178d61379442",
      "metadata": {
        "id": "6a01b4ed-618c-4cc1-b97a-178d61379442"
      },
      "source": [
        "##### Example Question:\n",
        "Show a list of all production companies and the movies they have produced, including the production companies that have not produced any movies."
      ]
    },
    {
      "cell_type": "markdown",
      "id": "31eeef36-f2db-44b8-b841-a81c3d7c4602",
      "metadata": {
        "tags": [],
        "id": "31eeef36-f2db-44b8-b841-a81c3d7c4602"
      },
      "source": [
        "###### Explanation:\n",
        "In this instance, we are focused on the production companies, wanting a comprehensive list that includes those that may not have produced any movies. By using a RIGHT JOIN (or reversed LEFT JOIN in SQLite), we can list all production companies and match them with movies they've produced, ensuring even those without any movie production are represented."
      ]
    },
    {
      "cell_type": "code",
      "execution_count": null,
      "id": "a17e739e-25ed-4184-8cf4-6f04c456db68",
      "metadata": {
        "tags": [],
        "id": "a17e739e-25ed-4184-8cf4-6f04c456db68",
        "outputId": "c30d0f27-6c30-4a6b-bc1c-10a4e8f347db"
      },
      "outputs": [
        {
          "name": "stdout",
          "output_type": "stream",
          "text": [
            " * sqlite:///TMDB-a-4006.db\n",
            "Done.\n"
          ]
        },
        {
          "data": {
            "text/html": [
              "<table>\n",
              "    <thead>\n",
              "        <tr>\n",
              "            <th>production_company_name</th>\n",
              "            <th>title</th>\n",
              "            <th>release_date</th>\n",
              "        </tr>\n",
              "    </thead>\n",
              "    <tbody>\n",
              "        <tr>\n",
              "            <td>Lucasfilm</td>\n",
              "            <td>Star Wars</td>\n",
              "            <td>1977-05-25 00:00:00.000000</td>\n",
              "        </tr>\n",
              "    </tbody>\n",
              "</table>"
            ],
            "text/plain": [
              "[('Lucasfilm', 'Star Wars', '1977-05-25 00:00:00.000000')]"
            ]
          },
          "execution_count": 16,
          "metadata": {},
          "output_type": "execute_result"
        }
      ],
      "source": [
        "%%sql\n",
        "\n",
        "SELECT\n",
        "    pc.production_company_name,\n",
        "    m.title,\n",
        "    m.release_date\n",
        "FROM\n",
        "    productioncompanies pc\n",
        "LEFT JOIN\n",
        "    productioncompanymap pcm\n",
        "    ON pc.production_company_id = pcm.production_company_id\n",
        "LEFT JOIN\n",
        "    movies m\n",
        "    ON pcm.movie_id = m.movie_id\n",
        "LIMIT 1;\n"
      ]
    },
    {
      "cell_type": "markdown",
      "id": "093fb79a-cef6-4aaf-af22-600b8fa9e803",
      "metadata": {
        "id": "093fb79a-cef6-4aaf-af22-600b8fa9e803"
      },
      "source": [
        "#### FULL OUTER JOIN"
      ]
    },
    {
      "cell_type": "markdown",
      "id": "03340e82-57c7-4d86-94a1-033c70bf2cf1",
      "metadata": {
        "id": "03340e82-57c7-4d86-94a1-033c70bf2cf1"
      },
      "source": [
        "Use Case:\n",
        "FULL OUTER JOIN is used when you want to return all records when there is a match in either the left or right table. It combines the effects of both LEFT and RIGHT joins, including all records from both tables and filling in NULLs for unmatched rows from either side."
      ]
    },
    {
      "cell_type": "markdown",
      "id": "4ee667ef-2cdb-4d01-bd1d-0610f741de96",
      "metadata": {
        "id": "4ee667ef-2cdb-4d01-bd1d-0610f741de96"
      },
      "source": [
        "##### Example Question:\n",
        "Find a list of all movies and all production companies, including those that do not have a match in the other table."
      ]
    },
    {
      "cell_type": "markdown",
      "id": "591d67fe-9118-4f8d-9a3b-229f099f8c44",
      "metadata": {
        "id": "591d67fe-9118-4f8d-9a3b-229f099f8c44"
      },
      "source": [
        "###### Explanation:\n",
        "This scenario calls for a comprehensive list of both movies and production companies, regardless of whether they are associated with one another. A FULL OUTER JOIN will include all movies that might not be produced by any company in the list and all production companies, even those that haven't produced a listed movie. This type of join provides the most complete dataset from both tables."
      ]
    },
    {
      "cell_type": "code",
      "execution_count": null,
      "id": "e369cdbb-a3f2-4503-b1f2-89020359f147",
      "metadata": {
        "scrolled": true,
        "id": "e369cdbb-a3f2-4503-b1f2-89020359f147",
        "outputId": "b2aa2f8f-9ea7-4541-9113-756e917dab9f"
      },
      "outputs": [
        {
          "name": "stdout",
          "output_type": "stream",
          "text": [
            " * sqlite:///TMDB-a-4006.db\n",
            "Done.\n"
          ]
        },
        {
          "data": {
            "text/html": [
              "<table>\n",
              "    <thead>\n",
              "        <tr>\n",
              "            <th>title</th>\n",
              "            <th>release_date</th>\n",
              "            <th>production_company_name</th>\n",
              "        </tr>\n",
              "    </thead>\n",
              "    <tbody>\n",
              "        <tr>\n",
              "            <td>#Horror</td>\n",
              "            <td>2015-11-20 00:00:00.000000</td>\n",
              "            <td>AST Studios</td>\n",
              "        </tr>\n",
              "    </tbody>\n",
              "</table>"
            ],
            "text/plain": [
              "[('#Horror', '2015-11-20 00:00:00.000000', 'AST Studios')]"
            ]
          },
          "execution_count": 18,
          "metadata": {},
          "output_type": "execute_result"
        }
      ],
      "source": [
        "%%sql\n",
        "\n",
        "SELECT\n",
        "    m.title,\n",
        "    m.release_date,\n",
        "    pc.production_company_name\n",
        "FROM\n",
        "    movies m\n",
        "LEFT JOIN\n",
        "    productioncompanymap pcm\n",
        "    ON m.movie_id = pcm.movie_id\n",
        "LEFT JOIN\n",
        "    productioncompanies pc\n",
        "    ON pcm.production_company_id = pc.production_company_id\n",
        "\n",
        "UNION\n",
        "\n",
        "SELECT\n",
        "    m.title,\n",
        "    m.release_date,\n",
        "    pc.production_company_name\n",
        "FROM\n",
        "    productioncompanies pc\n",
        "LEFT JOIN\n",
        "    productioncompanymap pcm\n",
        "    ON pc.production_company_id = pcm.production_company_id\n",
        "LEFT JOIN\n",
        "    movies m\n",
        "    ON pcm.movie_id = m.movie_id\n",
        "LIMIT 1;\n"
      ]
    },
    {
      "cell_type": "markdown",
      "id": "93e1ef80-ef3d-439c-a326-4a4f0b3903c3",
      "metadata": {
        "tags": [],
        "id": "93e1ef80-ef3d-439c-a326-4a4f0b3903c3"
      },
      "source": [
        "#### Summary:"
      ]
    },
    {
      "cell_type": "markdown",
      "id": "4797aaa0-5d79-4ab2-ba13-10ef433dc162",
      "metadata": {
        "id": "4797aaa0-5d79-4ab2-ba13-10ef433dc162"
      },
      "source": [
        "In summary, the choice of JOIN type depends on the relationship between the tables and the completeness of the data required from each table in the query results. INNER JOIN is used for strict matches, LEFT JOIN is used when all records from the primary table are needed, RIGHT JOIN is for all records from the secondary table, and FULL OUTER JOIN is when all records from both tables are needed."
      ]
    },
    {
      "cell_type": "markdown",
      "id": "897409f9-6825-45b8-bf00-3c1ac9f37ded",
      "metadata": {
        "tags": [],
        "id": "897409f9-6825-45b8-bf00-3c1ac9f37ded"
      },
      "source": [
        "## 5. Aggregation and Grouping Data"
      ]
    },
    {
      "cell_type": "markdown",
      "id": "c7180bed-6d9a-4b11-b46e-0231c7085808",
      "metadata": {
        "id": "c7180bed-6d9a-4b11-b46e-0231c7085808"
      },
      "source": [
        "- Using functions like COUNT(), AVG(), SUM(), MAX(), MIN().\n",
        "- The concept of grouping data with GROUP BY.\n",
        "- Having clause for filtering aggregated data."
      ]
    },
    {
      "cell_type": "markdown",
      "id": "2259aa7d-e541-4d02-818c-5b6925345bfc",
      "metadata": {
        "tags": [],
        "id": "2259aa7d-e541-4d02-818c-5b6925345bfc"
      },
      "source": [
        "### Aggregation:"
      ]
    },
    {
      "cell_type": "markdown",
      "id": "9ff3bac3-2b50-45a5-a34b-02f6a8601411",
      "metadata": {
        "id": "9ff3bac3-2b50-45a5-a34b-02f6a8601411"
      },
      "source": [
        "Aggregation in SQL is performed using aggregate functions, which allow you to perform a calculation on a set of values and return a single value. Aggregate functions are\n",
        "1. COUNT()\n",
        "2. AVG()\n",
        "3. SUM()\n",
        "4. MAX()\n",
        "5. MIN()"
      ]
    },
    {
      "cell_type": "markdown",
      "id": "162bb7c7-29fe-43f5-b506-7d41b5f433f1",
      "metadata": {
        "tags": [],
        "id": "162bb7c7-29fe-43f5-b506-7d41b5f433f1"
      },
      "source": [
        "##### Example Question:\n",
        "What is the total number of records, total number of movie titles, average duration of movies, longest and shortest movie duration, and how long it will take to watch all movies in our database?"
      ]
    },
    {
      "cell_type": "code",
      "execution_count": null,
      "id": "1463f8df-16a8-46fe-af52-552b20cf04fa",
      "metadata": {
        "id": "1463f8df-16a8-46fe-af52-552b20cf04fa",
        "outputId": "e4cc25f0-9b9c-4863-bfc8-32066a2d6c87"
      },
      "outputs": [
        {
          "name": "stdout",
          "output_type": "stream",
          "text": [
            " * sqlite:///TMDB.db\n",
            "Done.\n"
          ]
        },
        {
          "data": {
            "text/html": [
              "<table>\n",
              "    <thead>\n",
              "        <tr>\n",
              "            <th>total_records</th>\n",
              "            <th>total_unique_movie_titles</th>\n",
              "            <th>average_movie_duration</th>\n",
              "            <th>longest_movie_duration</th>\n",
              "            <th>shortest_movie_duration</th>\n",
              "            <th>total_time_required_to_watch_all_movies</th>\n",
              "        </tr>\n",
              "    </thead>\n",
              "    <tbody>\n",
              "        <tr>\n",
              "            <td>4803</td>\n",
              "            <td>4800</td>\n",
              "            <td>106.87585919600083</td>\n",
              "            <td>338.0</td>\n",
              "            <td>0.0</td>\n",
              "            <td>513111.0</td>\n",
              "        </tr>\n",
              "    </tbody>\n",
              "</table>"
            ],
            "text/plain": [
              "[(4803, 4800, 106.87585919600083, 338.0, 0.0, 513111.0)]"
            ]
          },
          "execution_count": 37,
          "metadata": {},
          "output_type": "execute_result"
        }
      ],
      "source": [
        "%%sql\n",
        "\n",
        "SELECT\n",
        "    COUNT(*) AS total_records,\n",
        "    COUNT(DISTINCT title) AS total_unique_movie_titles,\n",
        "    AVG(runtime) AS average_movie_duration,\n",
        "    MAX(runtime) AS longest_movie_duration,\n",
        "    MIN(runtime) AS shortest_movie_duration,\n",
        "    SUM(runtime) AS total_time_required_to_watch_all_movies\n",
        "FROM movies;\n"
      ]
    },
    {
      "cell_type": "markdown",
      "id": "375ffaae-b830-44f9-b88e-ab3bdf56a1f2",
      "metadata": {
        "tags": [],
        "id": "375ffaae-b830-44f9-b88e-ab3bdf56a1f2"
      },
      "source": [
        "### Grouping Data"
      ]
    },
    {
      "cell_type": "markdown",
      "id": "3d11fcdc-d9bc-41cd-97d8-681431df9321",
      "metadata": {
        "id": "3d11fcdc-d9bc-41cd-97d8-681431df9321"
      },
      "source": [
        "#### COUNT()"
      ]
    },
    {
      "cell_type": "markdown",
      "id": "b29a9610-730c-4480-b829-1c10774ac2c6",
      "metadata": {
        "tags": [],
        "id": "b29a9610-730c-4480-b829-1c10774ac2c6"
      },
      "source": [
        "##### Question: How many movies has each actor appeared in?"
      ]
    },
    {
      "cell_type": "markdown",
      "id": "82f8799f-2403-40f6-b8f2-e5507c66508b",
      "metadata": {
        "tags": [],
        "id": "82f8799f-2403-40f6-b8f2-e5507c66508b"
      },
      "source": [
        "###### Example Explanation: To determine the number of movies each actor has appeared in, we need to count the instances of movie appearances. Since an actor can appear in multiple movies, and a movie can have multiple actors, there's a many-to-many relationship, which is resolved by the casts table. We perform an INNER JOIN between actors and casts, and then casts with movies to relate the actors to their movies. We then use COUNT() to tally the number of movies associated with each actor, and GROUP BY to ensure the count is calculated for each actor individually.\n",
        "\n"
      ]
    },
    {
      "cell_type": "code",
      "execution_count": null,
      "id": "af9d9158-e443-4979-8746-1119813501d2",
      "metadata": {
        "scrolled": true,
        "id": "af9d9158-e443-4979-8746-1119813501d2",
        "outputId": "aa3bb7dc-9b7d-4351-e714-e1fa23694861"
      },
      "outputs": [
        {
          "name": "stdout",
          "output_type": "stream",
          "text": [
            " * sqlite:///TMDB-a-4006.db\n",
            "Done.\n"
          ]
        },
        {
          "data": {
            "text/html": [
              "<table>\n",
              "    <thead>\n",
              "        <tr>\n",
              "            <th>actor_name</th>\n",
              "            <th>number_of_movies</th>\n",
              "        </tr>\n",
              "    </thead>\n",
              "    <tbody>\n",
              "        <tr>\n",
              "            <td>&nbsp;&nbsp;Jorge de los Reyes </td>\n",
              "            <td>1</td>\n",
              "        </tr>\n",
              "    </tbody>\n",
              "</table>"
            ],
            "text/plain": [
              "[('  Jorge de los Reyes ', 1)]"
            ]
          },
          "execution_count": 19,
          "metadata": {},
          "output_type": "execute_result"
        }
      ],
      "source": [
        "%%sql\n",
        "\n",
        "SELECT\n",
        "    a.actor_name,\n",
        "    COUNT(m.movie_id) AS number_of_movies\n",
        "FROM\n",
        "    actors a\n",
        "JOIN\n",
        "    casts c\n",
        "    ON a.actor_id = c.actor_id\n",
        "JOIN\n",
        "    movies m\n",
        "    ON c.movie_id = m.movie_id\n",
        "GROUP BY\n",
        "    a.actor_name\n",
        "LIMIT 1;"
      ]
    },
    {
      "cell_type": "markdown",
      "id": "15f5bf5b-dcc1-4204-9f76-e69db7b5441f",
      "metadata": {
        "tags": [],
        "id": "15f5bf5b-dcc1-4204-9f76-e69db7b5441f"
      },
      "source": [
        "#### AVG()"
      ]
    },
    {
      "cell_type": "markdown",
      "id": "44596fb0-ace1-4338-9b2e-3e0be2a04930",
      "metadata": {
        "tags": [],
        "id": "44596fb0-ace1-4338-9b2e-3e0be2a04930"
      },
      "source": [
        "##### Question: What is the average runtime of movies in each genre?"
      ]
    },
    {
      "cell_type": "markdown",
      "id": "581db5ca-3c92-482f-8c7c-3cd6fcad92a4",
      "metadata": {
        "tags": [],
        "id": "581db5ca-3c92-482f-8c7c-3cd6fcad92a4"
      },
      "source": [
        "###### Example Explanation: When calculating the average runtime of movies by genre, we're looking for the mean value of the runtime across a category of movies. The genres and movies tables are connected via the genremap table, representing a many-to-many relationship. We join these tables to link each movie to its genre(s) and then use AVG() to find the average runtime for the movies within each genre. The GROUP BY clause is necessary to group the results by genre, as we want the average for each genre, not for the entire dataset."
      ]
    },
    {
      "cell_type": "code",
      "execution_count": null,
      "id": "50b2d389-693e-4e0b-90b0-6b10f16a6931",
      "metadata": {
        "id": "50b2d389-693e-4e0b-90b0-6b10f16a6931",
        "outputId": "3998332c-f685-411e-a955-e69829fd5a6d"
      },
      "outputs": [
        {
          "name": "stdout",
          "output_type": "stream",
          "text": [
            " * sqlite:///TMDB-a-4006.db\n",
            "Done.\n"
          ]
        },
        {
          "data": {
            "text/html": [
              "<table>\n",
              "    <thead>\n",
              "        <tr>\n",
              "            <th>genre_name</th>\n",
              "            <th>average_runtime</th>\n",
              "        </tr>\n",
              "    </thead>\n",
              "    <tbody>\n",
              "        <tr>\n",
              "            <td>Action</td>\n",
              "            <td>110.54419410745234</td>\n",
              "        </tr>\n",
              "    </tbody>\n",
              "</table>"
            ],
            "text/plain": [
              "[('Action', 110.54419410745234)]"
            ]
          },
          "execution_count": 20,
          "metadata": {},
          "output_type": "execute_result"
        }
      ],
      "source": [
        "%%sql\n",
        "\n",
        "SELECT\n",
        "    g.genre_name,\n",
        "    AVG(m.runtime) AS average_runtime\n",
        "FROM\n",
        "    genres g\n",
        "JOIN\n",
        "    genremap gm\n",
        "    ON g.genre_id = gm.genre_id\n",
        "JOIN\n",
        "    movies m\n",
        "    ON gm.movie_id = m.movie_id\n",
        "GROUP BY\n",
        "    g.genre_name\n",
        "LIMIT 1;\n"
      ]
    },
    {
      "cell_type": "markdown",
      "id": "21235972-94b0-4af8-86bd-0d2162745050",
      "metadata": {
        "tags": [],
        "id": "21235972-94b0-4af8-86bd-0d2162745050"
      },
      "source": [
        "#### SUM()"
      ]
    },
    {
      "cell_type": "markdown",
      "id": "c2b893c1-69df-4c23-9463-31d9024b9469",
      "metadata": {
        "id": "c2b893c1-69df-4c23-9463-31d9024b9469"
      },
      "source": [
        "##### Question: What is the total budget for movies produced by each production company?"
      ]
    },
    {
      "cell_type": "markdown",
      "id": "22d59b58-9da5-4911-b373-7ac9c66dd4e5",
      "metadata": {
        "tags": [],
        "id": "22d59b58-9da5-4911-b373-7ac9c66dd4e5"
      },
      "source": [
        "###### Example Explanation: To compute the total budget spent by each production company on their movies, we need to sum the budget of all movies produced by each company. The relationship between productioncompanies and movies is many-to-many, mediated by the productioncompanymap table. We join these tables to associate each movie with its production company and use SUM() to calculate the total budget per production company. We group the results by production company name to get a separate sum for each one.\n",
        "\n"
      ]
    },
    {
      "cell_type": "code",
      "execution_count": null,
      "id": "12e5496d-73d3-44a5-af59-15d4d5b065fb",
      "metadata": {
        "id": "12e5496d-73d3-44a5-af59-15d4d5b065fb",
        "outputId": "f5ad089f-68bb-44d2-b204-3591d2c8b91d"
      },
      "outputs": [
        {
          "name": "stdout",
          "output_type": "stream",
          "text": [
            " * sqlite:///TMDB-a-4006.db\n",
            "Done.\n"
          ]
        },
        {
          "data": {
            "text/html": [
              "<table>\n",
              "    <thead>\n",
              "        <tr>\n",
              "            <th>production_company_name</th>\n",
              "            <th>total_budget</th>\n",
              "        </tr>\n",
              "    </thead>\n",
              "    <tbody>\n",
              "        <tr>\n",
              "            <td>&quot;&quot;&quot;DIA&quot;&quot; Productions GmbH &amp; Co. KG&quot;</td>\n",
              "            <td>36000000</td>\n",
              "        </tr>\n",
              "    </tbody>\n",
              "</table>"
            ],
            "text/plain": [
              "[('\"\"\"DIA\"\" Productions GmbH & Co. KG\"', 36000000)]"
            ]
          },
          "execution_count": 21,
          "metadata": {},
          "output_type": "execute_result"
        }
      ],
      "source": [
        "%%sql\n",
        "\n",
        "SELECT\n",
        "    pc.production_company_name,\n",
        "    SUM(m.budget) AS total_budget\n",
        "FROM\n",
        "    productioncompanies pc\n",
        "JOIN\n",
        "    productioncompanymap pcm\n",
        "    ON pc.production_company_id = pcm.production_company_id\n",
        "JOIN\n",
        "    movies m ON pcm.movie_id = m.movie_id\n",
        "GROUP BY\n",
        "    pc.production_company_name\n",
        "LIMIT 1;\n"
      ]
    },
    {
      "cell_type": "markdown",
      "id": "28489b30-6adb-44a1-a7ac-499096175944",
      "metadata": {
        "tags": [],
        "id": "28489b30-6adb-44a1-a7ac-499096175944"
      },
      "source": [
        "#### Having Clause"
      ]
    },
    {
      "cell_type": "markdown",
      "id": "2c8da5de-bdf8-487d-8180-aa4435a63425",
      "metadata": {
        "tags": [],
        "id": "2c8da5de-bdf8-487d-8180-aa4435a63425"
      },
      "source": [
        "##### Question: Which actors have appeared in more than 20 movies?"
      ]
    },
    {
      "cell_type": "markdown",
      "id": "f71c33ba-a0c3-4309-9fbe-929fbb483819",
      "metadata": {
        "tags": [],
        "id": "f71c33ba-a0c3-4309-9fbe-929fbb483819"
      },
      "source": [
        "###### Example Explanation: The HAVING clause is used to filter grouped records produced by GROUP BY. In this case, we want to identify actors who have appeared in a significant number of movies—more than 10. We join actors to movies via casts to establish the relationship between actors and the movies they've appeared in. After counting the movies per actor using COUNT() and grouping the results with GROUP BY, we apply the HAVING clause to filter our grouped results, keeping only those groups where the count exceeds 10. This allows us to exclude actors with fewer movie appearances from the result set.\n"
      ]
    },
    {
      "cell_type": "code",
      "execution_count": null,
      "id": "d41749ba-75a0-4949-aab2-cc9777c41493",
      "metadata": {
        "scrolled": true,
        "id": "d41749ba-75a0-4949-aab2-cc9777c41493",
        "outputId": "b5fe3634-73e0-4d3b-a9cf-83d987afcb7c"
      },
      "outputs": [
        {
          "name": "stdout",
          "output_type": "stream",
          "text": [
            " * sqlite:///TMDB-a-4006.db\n",
            "Done.\n"
          ]
        },
        {
          "data": {
            "text/html": [
              "<table>\n",
              "    <thead>\n",
              "        <tr>\n",
              "            <th>actor_name</th>\n",
              "            <th>number_of_movies</th>\n",
              "        </tr>\n",
              "    </thead>\n",
              "    <tbody>\n",
              "        <tr>\n",
              "            <td>Aaron Eckhart</td>\n",
              "            <td>21</td>\n",
              "        </tr>\n",
              "    </tbody>\n",
              "</table>"
            ],
            "text/plain": [
              "[('Aaron Eckhart', 21)]"
            ]
          },
          "execution_count": 24,
          "metadata": {},
          "output_type": "execute_result"
        }
      ],
      "source": [
        "%%sql\n",
        "\n",
        "SELECT\n",
        "    a.actor_name,\n",
        "    COUNT(m.movie_id) AS number_of_movies\n",
        "FROM\n",
        "    actors a\n",
        "JOIN\n",
        "    casts c ON a.actor_id = c.actor_id\n",
        "JOIN\n",
        "    movies m ON c.movie_id = m.movie_id\n",
        "GROUP BY\n",
        "    a.actor_name\n",
        "HAVING\n",
        "    COUNT(m.movie_id) > 20\n",
        "LIMIT 1;\n"
      ]
    },
    {
      "cell_type": "markdown",
      "id": "44f95723-3857-4de8-a742-7a082b95d43f",
      "metadata": {
        "tags": [],
        "id": "44f95723-3857-4de8-a742-7a082b95d43f"
      },
      "source": [
        "## 6. Advanced Topics"
      ]
    },
    {
      "cell_type": "markdown",
      "id": "34935f71-f638-4f8a-a40b-d586a8887c77",
      "metadata": {
        "id": "34935f71-f638-4f8a-a40b-d586a8887c77"
      },
      "source": [
        "- Subqueries and nested SELECT statements.\n",
        "- Case statements and conditional logic in SQL.\n",
        "- Functions for string manipulation and date handling."
      ]
    },
    {
      "cell_type": "markdown",
      "id": "1f3c1e39-0005-4413-b35b-9c6635098540",
      "metadata": {
        "jp-MarkdownHeadingCollapsed": true,
        "tags": [],
        "id": "1f3c1e39-0005-4413-b35b-9c6635098540"
      },
      "source": [
        "### Subqueries and Nested SELECT Statements"
      ]
    },
    {
      "cell_type": "markdown",
      "id": "2430e976-2f5a-48e9-b0ce-f315a300a9fc",
      "metadata": {
        "jp-MarkdownHeadingCollapsed": true,
        "tags": [],
        "id": "2430e976-2f5a-48e9-b0ce-f315a300a9fc"
      },
      "source": [
        "#### Question: What are the titles of movies that have a higher popularity than the average popularity of movies released in the year 2010?"
      ]
    },
    {
      "cell_type": "markdown",
      "id": "164840bd-05bf-4cd2-8d31-05e4f26af7a1",
      "metadata": {
        "tags": [],
        "id": "164840bd-05bf-4cd2-8d31-05e4f26af7a1"
      },
      "source": [
        "##### Explanation: A subquery is utilized here to first calculate the average popularity of all movies released in 2010. The subquery operates within the WHERE clause of the main query. The main query then compares each movie's popularity against this average, selecting only those movies whose popularity is greater. This type of subquery is also known as a scalar subquery because it returns a single value that the main query can use in a comparison."
      ]
    },
    {
      "cell_type": "code",
      "execution_count": null,
      "id": "bd139b5a-650d-4737-9436-0235c2bfc373",
      "metadata": {
        "scrolled": true,
        "id": "bd139b5a-650d-4737-9436-0235c2bfc373",
        "outputId": "6df6e175-3883-4642-cce3-10fc6d5ffa72"
      },
      "outputs": [
        {
          "name": "stdout",
          "output_type": "stream",
          "text": [
            " * sqlite:///TMDB-a-4006.db\n",
            "Done.\n"
          ]
        },
        {
          "data": {
            "text/html": [
              "<table>\n",
              "    <thead>\n",
              "        <tr>\n",
              "            <th>title</th>\n",
              "        </tr>\n",
              "    </thead>\n",
              "    <tbody>\n",
              "        <tr>\n",
              "            <td>Four Rooms</td>\n",
              "        </tr>\n",
              "    </tbody>\n",
              "</table>"
            ],
            "text/plain": [
              "[('Four Rooms',)]"
            ]
          },
          "execution_count": 25,
          "metadata": {},
          "output_type": "execute_result"
        }
      ],
      "source": [
        "%%sql\n",
        "\n",
        "SELECT title\n",
        "FROM movies\n",
        "WHERE popularity > (\n",
        "    SELECT AVG(popularity)\n",
        "    FROM movies\n",
        "    WHERE release_date BETWEEN '2010-01-01' AND '2010-12-31'\n",
        ")\n",
        "LIMIT 1;"
      ]
    },
    {
      "cell_type": "markdown",
      "id": "b2ddc2d4-0c2b-4128-93de-befb560a1adf",
      "metadata": {
        "jp-MarkdownHeadingCollapsed": true,
        "tags": [],
        "id": "b2ddc2d4-0c2b-4128-93de-befb560a1adf"
      },
      "source": [
        "### Case Statements and Conditional Logic in SQL"
      ]
    },
    {
      "cell_type": "markdown",
      "id": "617fe105-d435-44a9-85d2-90666190cd63",
      "metadata": {
        "tags": [],
        "id": "617fe105-d435-44a9-85d2-90666190cd63"
      },
      "source": [
        "#### Example Question:\n",
        "For every movie, display the title, the total number of cast members, and a status column that indicates 'Well Cast' if there are more than 20 cast members, 'Moderately Cast' if there are between 11 and 20 cast members, and 'Poorly Cast' if there are less than 11 cast members."
      ]
    },
    {
      "cell_type": "markdown",
      "id": "a1d1c9a0-af77-4c55-b1c4-bdadbedaf191",
      "metadata": {
        "tags": [],
        "id": "a1d1c9a0-af77-4c55-b1c4-bdadbedaf191"
      },
      "source": [
        "##### Explanation:\n",
        "This question involves counting the number of cast members for each movie and then categorizing each movie based on this count. The CASE statement is used to create a conditional logic that assigns a status based on the number of cast members associated with each movie."
      ]
    },
    {
      "cell_type": "code",
      "execution_count": null,
      "id": "33116bb8-8e08-42cb-b04c-ea6afe5ef143",
      "metadata": {
        "scrolled": true,
        "id": "33116bb8-8e08-42cb-b04c-ea6afe5ef143",
        "outputId": "68235c3f-4a5b-4d32-c57a-ac19048c74fa"
      },
      "outputs": [
        {
          "name": "stdout",
          "output_type": "stream",
          "text": [
            " * sqlite:///TMDB-a-4006.db\n",
            "Done.\n"
          ]
        },
        {
          "data": {
            "text/html": [
              "<table>\n",
              "    <thead>\n",
              "        <tr>\n",
              "            <th>title</th>\n",
              "            <th>total_cast</th>\n",
              "            <th>casting_status</th>\n",
              "        </tr>\n",
              "    </thead>\n",
              "    <tbody>\n",
              "        <tr>\n",
              "            <td>#Horror</td>\n",
              "            <td>9</td>\n",
              "            <td>Poorly Cast</td>\n",
              "        </tr>\n",
              "    </tbody>\n",
              "</table>"
            ],
            "text/plain": [
              "[('#Horror', 9, 'Poorly Cast')]"
            ]
          },
          "execution_count": 26,
          "metadata": {},
          "output_type": "execute_result"
        }
      ],
      "source": [
        "%%sql\n",
        "\n",
        "SELECT\n",
        "    m.title,\n",
        "    COUNT(c.actor_id) AS total_cast,\n",
        "    CASE\n",
        "        WHEN COUNT(c.actor_id) > 20 THEN 'Well Cast'\n",
        "        WHEN COUNT(c.actor_id) BETWEEN 11 AND 20 THEN 'Moderately Cast'\n",
        "        ELSE 'Poorly Cast'\n",
        "    END AS casting_status\n",
        "FROM movies m\n",
        "LEFT JOIN casts c ON m.movie_id = c.movie_id\n",
        "GROUP BY m.title\n",
        "LIMIT 1;"
      ]
    },
    {
      "cell_type": "markdown",
      "id": "dd0d520b-b7d4-446c-b3b1-6edcb9bab5f4",
      "metadata": {
        "tags": [],
        "id": "dd0d520b-b7d4-446c-b3b1-6edcb9bab5f4"
      },
      "source": [
        "### Functions for String Manipulation and Date Handling"
      ]
    },
    {
      "cell_type": "markdown",
      "id": "5ce233eb-697a-4b83-8229-3df84c8fb395",
      "metadata": {
        "tags": [],
        "id": "5ce233eb-697a-4b83-8229-3df84c8fb395"
      },
      "source": [
        "##### Example Question: Find the number of movies released each month in the year 2015, along with the month name. Use string manipulation and date handling functions."
      ]
    },
    {
      "cell_type": "markdown",
      "id": "97c8b966-f23a-4fd8-a52f-519a456f0a3f",
      "metadata": {
        "tags": [],
        "id": "97c8b966-f23a-4fd8-a52f-519a456f0a3f"
      },
      "source": [
        "###### Explanation: This question combines date handling and string manipulation functions. The STRFTIME function is used to extract the month and year from a DATETIME column. The grouping is done by the month to count the number of movies released in each one. Additionally, a series of CASE statements translate the numeric month into its corresponding name. This question exemplifies how SQL can manipulate and format date-time data to produce a more readable and informative result set."
      ]
    },
    {
      "cell_type": "code",
      "execution_count": null,
      "id": "99e8ffed-4ee4-4f59-8458-8ab750ef403e",
      "metadata": {
        "id": "99e8ffed-4ee4-4f59-8458-8ab750ef403e",
        "outputId": "24886e4d-7a16-4966-b70c-bef64f7f468e"
      },
      "outputs": [
        {
          "name": "stdout",
          "output_type": "stream",
          "text": [
            " * sqlite:///TMDB-a-4006.db\n",
            "Done.\n"
          ]
        },
        {
          "data": {
            "text/html": [
              "<table>\n",
              "    <thead>\n",
              "        <tr>\n",
              "            <th>month_number</th>\n",
              "            <th>year</th>\n",
              "            <th>month_name</th>\n",
              "            <th>movies_released</th>\n",
              "        </tr>\n",
              "    </thead>\n",
              "    <tbody>\n",
              "        <tr>\n",
              "            <td>01</td>\n",
              "            <td>2015</td>\n",
              "            <td>January</td>\n",
              "            <td>13</td>\n",
              "        </tr>\n",
              "    </tbody>\n",
              "</table>"
            ],
            "text/plain": [
              "[('01', '2015', 'January', 13)]"
            ]
          },
          "execution_count": 27,
          "metadata": {},
          "output_type": "execute_result"
        }
      ],
      "source": [
        "%%sql\n",
        "\n",
        "SELECT\n",
        "    STRFTIME('%m', release_date) AS month_number,\n",
        "    STRFTIME('%Y', release_date) AS year,\n",
        "    CASE\n",
        "        WHEN STRFTIME('%m', release_date) = '01' THEN 'January'\n",
        "        WHEN STRFTIME('%m', release_date) = '02' THEN 'February'\n",
        "        WHEN STRFTIME('%m', release_date) = '03' THEN 'March'\n",
        "        WHEN STRFTIME('%m', release_date) = '04' THEN 'April'\n",
        "        WHEN STRFTIME('%m', release_date) = '05' THEN 'May'\n",
        "        WHEN STRFTIME('%m', release_date) = '06' THEN 'June'\n",
        "        WHEN STRFTIME('%m', release_date) = '07' THEN 'July'\n",
        "        WHEN STRFTIME('%m', release_date) = '08' THEN 'August'\n",
        "        WHEN STRFTIME('%m', release_date) = '09' THEN 'September'\n",
        "        WHEN STRFTIME('%m', release_date) = '10' THEN 'October'\n",
        "        WHEN STRFTIME('%m', release_date) = '11' THEN 'November'\n",
        "        WHEN STRFTIME('%m', release_date) = '12' THEN 'December'\n",
        "    END AS month_name,\n",
        "    COUNT(*) AS movies_released\n",
        "FROM\n",
        "    movies\n",
        "WHERE\n",
        "    STRFTIME('%Y', release_date) = '2015'\n",
        "GROUP BY\n",
        "    month_number, month_name\n",
        "LIMIT 1;\n"
      ]
    },
    {
      "cell_type": "markdown",
      "id": "6e44bb96-be62-4839-9f69-d3bbc7fdc784",
      "metadata": {
        "tags": [],
        "id": "6e44bb96-be62-4839-9f69-d3bbc7fdc784"
      },
      "source": [
        "##### Example Question: Find all movies where the title starts with 'The' followed by any characters, and ends with the word 'Club', including any possible spaces or punctuation before 'Club'.\n",
        "\n"
      ]
    },
    {
      "cell_type": "markdown",
      "id": "833d77d5-4bb9-4168-8069-3af6387bae29",
      "metadata": {
        "tags": [],
        "id": "833d77d5-4bb9-4168-8069-3af6387bae29"
      },
      "source": [
        "###### Explanation:\n",
        "The LIKE operator in SQL is used to search for a specified pattern in a column. In this case, we want to find movie titles that fit a particular naming pattern. We will use the % wildcard, which represents zero or more characters, and _ which represents a single character. To account for possible spaces or punctuation, we'll use a combination of these wildcards."
      ]
    },
    {
      "cell_type": "code",
      "execution_count": null,
      "id": "3f2c8681-3479-4e58-92bc-20a917661af9",
      "metadata": {
        "id": "3f2c8681-3479-4e58-92bc-20a917661af9",
        "outputId": "e6182c3a-cb45-452d-d728-370ef1e7a5af"
      },
      "outputs": [
        {
          "name": "stdout",
          "output_type": "stream",
          "text": [
            " * sqlite:///TMDB.db\n",
            "Done.\n"
          ]
        },
        {
          "data": {
            "text/html": [
              "<table>\n",
              "    <thead>\n",
              "        <tr>\n",
              "            <th>title</th>\n",
              "        </tr>\n",
              "    </thead>\n",
              "    <tbody>\n",
              "        <tr>\n",
              "            <td>The Cotton Club</td>\n",
              "        </tr>\n",
              "        <tr>\n",
              "            <td>The First Wives Club</td>\n",
              "        </tr>\n",
              "        <tr>\n",
              "            <td>The Emperor&#x27;s Club</td>\n",
              "        </tr>\n",
              "        <tr>\n",
              "            <td>The Players Club</td>\n",
              "        </tr>\n",
              "    </tbody>\n",
              "</table>"
            ],
            "text/plain": [
              "[('The Cotton Club',),\n",
              " ('The First Wives Club',),\n",
              " (\"The Emperor's Club\",),\n",
              " ('The Players Club',)]"
            ]
          },
          "execution_count": 65,
          "metadata": {},
          "output_type": "execute_result"
        }
      ],
      "source": [
        "%%sql\n",
        "\n",
        "SELECT\n",
        "    title\n",
        "FROM\n",
        "    movies\n",
        "WHERE\n",
        "    title LIKE 'The%Club'\n",
        "    OR title LIKE 'The% Club'\n",
        "    OR title LIKE 'The%_Club';"
      ]
    },
    {
      "cell_type": "markdown",
      "id": "066b6cfd-c98b-4321-bfc5-3935860ee71e",
      "metadata": {
        "tags": [],
        "id": "066b6cfd-c98b-4321-bfc5-3935860ee71e"
      },
      "source": [
        "## 7. Tips for tackling common SQL problems."
      ]
    },
    {
      "cell_type": "markdown",
      "id": "41b067c5-b4fc-4b9c-be97-9227414fe7ee",
      "metadata": {
        "id": "41b067c5-b4fc-4b9c-be97-9227414fe7ee"
      },
      "source": [
        "1. **Understand the Database Schema**: Before writing queries, always review the database schema. Knowing how tables are structured and how they relate to each other is crucial for writing effective SQL.\n",
        "\n",
        "2. **Start with SELECT**: When building a query, start with a simple `SELECT` statement to ensure you're pulling the correct data. Gradually add complexity as needed.\n",
        "\n",
        "3. **Use Table Aliases**: When working with multiple tables, especially with joins, use aliases to make your query easier to read and to avoid column ambiguity errors.\n",
        "\n",
        "4. **Filter with WHERE Clauses**: Use WHERE clauses to filter data early in your query. This improves performance by reducing the amount of data that SQL operations need to process in later stages.\n",
        "\n",
        "5. **Break Down Complex Queries**: If you're dealing with a complex query, break it down into smaller parts and tackle each part individually. This can help you isolate issues and understand the data better.\n",
        "\n",
        "6. **Make Use of Subqueries**: Sometimes, creating a subquery for a portion of your data is necessary before you can perform the main query. This can simplify complex operations.\n",
        "\n",
        "7. **Leverage Aggregation Functions**: Understand and use aggregation functions (`COUNT`, `SUM`, `AVG`, `MIN`, `MAX`) effectively, along with `GROUP BY` to summarize data.\n",
        "\n",
        "8. **Test with LIMIT**: When working with large tables, use `LIMIT` to test your queries with a small data set first, which can save time and resources.\n",
        "\n",
        "9. **Use CASE for Conditional Logic**: For more nuanced data retrieval, use the `CASE` statement to handle conditional logic and derive new columns based on conditions.\n",
        "\n",
        "10. **Practice String Manipulation**: Familiarize yourself with the various SQL string functions (`LIKE`, `CONCAT`, `SUBSTRING`, etc.) to handle and search text data efficiently.\n",
        "\n",
        "11. **Handle Dates Carefully**: Dates can be tricky in SQL. Make sure to use the correct date format and understand how your SQL database handles dates. Use date functions (`NOW()`, `DATE()`, `DATEDIFF()`, etc.) for manipulating date-time values.\n",
        "\n",
        "12. **Avoid SELECT** * : Instead of using `SELECT *` in your final query, specify the exact columns you need. This can improve performance and prevent unintended data exposure.\n",
        "\n",
        "13. **Optimize JOINs**: Be mindful of the join types (`INNER`, `LEFT`, `RIGHT`, `FULL`) and only pull the necessary data you need. Unnecessary joins can greatly decrease query performance.\n",
        "\n",
        "14. **Validate Data Types**: Ensure that the data types you are comparing or calculating are compatible; otherwise, you may run into errors or unexpected results.\n",
        "\n",
        "15. **Use Comments**: Comment your SQL code to clarify complex logic. This is especially helpful when you or someone else revisits the query later.\n",
        "\n",
        "16. **Error Handling**: Learn how to read and understand error messages. They often contain the key to resolving the problem.\n",
        "\n",
        "17. **Consistent Formatting**: Write your SQL with consistent capitalization and indentation. This makes it easier to read and understand, especially for more complex queries.\n",
        "\n",
        "18. **Research and Resources**: Make use of the vast amount of online resources available, such as SQL forums, documentation, and interactive SQL platforms for learning and troubleshooting.\n",
        "\n",
        "19. **Performance Tuning**: Learn to use EXPLAIN plans to understand how your queries are executed and optimize them for better performance.\n",
        "\n",
        "20. **Regular Practice**: Like any language, proficiency in SQL comes with regular practice. Work on diverse problems to strengthen your understanding and adaptability.\n",
        "\n",
        "By keeping these tips in mind, you can approach SQL problems methodically and efficiently, increasing their chances of successfully writing queries that yield the correct results."
      ]
    },
    {
      "cell_type": "code",
      "execution_count": null,
      "id": "93415a5c-2917-4bfb-b11b-e2db19d2c254",
      "metadata": {
        "id": "93415a5c-2917-4bfb-b11b-e2db19d2c254"
      },
      "outputs": [],
      "source": []
    }
  ],
  "metadata": {
    "kernelspec": {
      "display_name": "Python 3 (ipykernel)",
      "language": "python",
      "name": "python3"
    },
    "language_info": {
      "codemirror_mode": {
        "name": "ipython",
        "version": 3
      },
      "file_extension": ".py",
      "mimetype": "text/x-python",
      "name": "python",
      "nbconvert_exporter": "python",
      "pygments_lexer": "ipython3",
      "version": "3.8.13"
    },
    "colab": {
      "provenance": []
    }
  },
  "nbformat": 4,
  "nbformat_minor": 5
}