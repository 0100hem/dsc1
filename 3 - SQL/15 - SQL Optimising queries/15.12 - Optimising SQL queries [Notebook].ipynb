{
 "cells": [
  {
   "cell_type": "markdown",
   "metadata": {},
   "source": [
    "<div align=\"right\" style=\" font-size: 80%; text-align: center; margin: 0 auto\">\n",
    "<img src=\"https://raw.githubusercontent.com/Explore-AI/Pictures/master/ExploreAI_logos/Logo blue_dark.png\"  style=\"width:25px\" align=\"right\";/>\n",
    "</div>"
   ]
  },
  {
   "attachments": {},
   "cell_type": "markdown",
   "metadata": {},
   "source": [
    "# Optimising SQL queries\n",
    "© ExploreAI Academy\n",
    "\n",
    "In this notebook, we dive into the different ways we can optimise our SQL queries to make them more efficient.\n",
    "\n",
    "## Learning objectives\n",
    "\n",
    "By the end of this train, you should be able to write more efficient SQL queries by:\n",
    "- Using column names instead of `*`.\n",
    "- Creating JOINS with `INNER` instead of `WHERE`.\n",
    "- Avoiding using the wildcard `%` at the beginning of a predicate.\n",
    "- Avoiding using functions when searching for patterns.\n",
    "- Avoiding using calculated fields in the `JOIN` and `WHERE` clauses.\n",
    "    "
   ]
  },
  {
   "cell_type": "markdown",
   "metadata": {},
   "source": [
    "## Connecting to our MySQL database\n",
    "\n",
    "In this train, we'll be using the US Flights database with actual US flights data to illustrate the optimisation techniques with large amounts of data. To follow along, ensure that you have downloaded the database file, `flights.db`. "
   ]
  },
  {
   "cell_type": "markdown",
   "metadata": {},
   "source": [
    "First, let's load our sample database:"
   ]
  },
  {
   "cell_type": "code",
   "execution_count": 2,
   "metadata": {},
   "outputs": [],
   "source": [
    "# Load and activate the SQL extension to allow us to execute SQL in a Jupyter notebook.\n",
    "%load_ext sql\n"
   ]
  },
  {
   "cell_type": "code",
   "execution_count": 3,
   "metadata": {},
   "outputs": [],
   "source": [
    "# Load the Flights database stored in your local machine. \n",
    "# Make sure the file is saved in the same folder as this notebook.\n",
    "%sql sqlite:///flights.db "
   ]
  },
  {
   "cell_type": "markdown",
   "metadata": {},
   "source": [
    "Here is a view of all of our tables in the database:"
   ]
  },
  {
   "cell_type": "markdown",
   "metadata": {},
   "source": [
    "<div align=\"center\" style=\" font-size: 80%; text-align: center; margin: 0 auto\">\n",
    "<img src=\"https://raw.githubusercontent.com/Explore-AI/Pictures/master/flights_db_ER.png\"  style=\"width:500px\";/>\n",
    "<br>\n",
    "<br>\n",
    "    <em>Figure 1: Flights ERD</em>\n",
    "</div>"
   ]
  },
  {
   "attachments": {},
   "cell_type": "markdown",
   "metadata": {},
   "source": [
    "The Flights database consists of the following tables:\n",
    "\n",
    "- **flights**:     all domestic flights in the USA in 2008\n",
    "- **carriers**:     lookup table for all the carriers\n",
    "- **airports**:     lookup table for all the airports\n",
    "- **planes**:     lookup table for the planes"
   ]
  },
  {
   "attachments": {},
   "cell_type": "markdown",
   "metadata": {},
   "source": [
    "## Why do we need to optimise our queries?\n",
    "\n",
    "SQL queries might **take a long time to run** depending on the size of the database and the nature of the query. In addition, writing large SQL queries has the **potential to jam a server** (in a server-based configuration). For example, if a server spends too much time on a single query, other queries need to \"wait in line\" for the server to complete processing the one query. As a result, it is critical that we write more efficient queries, for example, queries that only read the data that is required."
   ]
  },
  {
   "attachments": {},
   "cell_type": "markdown",
   "metadata": {},
   "source": [
    "In this notebook, we will use iPython's built-in `%%time` magic command which will measure the execution time of code within a given Jupyter cell.\n",
    "\n",
    "**Note:** The SQL queries and databases we used in this notebook are not very complex. For this reason, we might not see large differences in speed between inefficient and efficient SQL queries. Sometimes we might even witness “efficient” queries being slower than “inefficient” queries. This is because other factors outside of the database such as computer performance or network connection can impact the amount of time it takes to complete a query.\n",
    "\n",
    "However, writing efficient queries even when databases are simple will ensure that your queries scale as your database grows in size and complexity. Well-written SQL queries are good coding practice and will always retrieve data quickly. \n",
    "\n"
   ]
  },
  {
   "attachments": {},
   "cell_type": "markdown",
   "metadata": {},
   "source": [
    "## Common Table Expressions (CTEs)\n",
    "\n",
    "CTEs simplify difficult queries by breaking them down into smaller, more understandable components and temporarily storing the results for later reference by other queries.  While CTEs make the code more readable and reusable, there are many other ways to optimise our queries to make them more efficient.\n"
   ]
  },
  {
   "attachments": {},
   "cell_type": "markdown",
   "metadata": {},
   "source": [
    "Here are a few other ways we can optimise our queries:"
   ]
  },
  {
   "attachments": {},
   "cell_type": "markdown",
   "metadata": {},
   "source": [
    "## Use column names instead of `*`\n",
    "\n",
    "Instead of using  `*` in our select statements, which selects all the columns in the table, we should rather use the specific column names we are interested in.\n",
    "For example, say we are only interested in the tail number and delay before departure for the first 50 flights. \n",
    " \n",
    "### Inefficient query"
   ]
  },
  {
   "cell_type": "code",
   "execution_count": 3,
   "metadata": {},
   "outputs": [
    {
     "name": "stdout",
     "output_type": "stream",
     "text": [
      " * sqlite:///flights.db\n",
      "Done.\n",
      "CPU times: total: 3.27 s\n",
      "Wall time: 5.55 s\n"
     ]
    }
   ],
   "source": [
    "%%time\n",
    "%%sql\n",
    "\n",
    "SELECT * \n",
    "FROM flights"
   ]
  },
  {
   "cell_type": "markdown",
   "metadata": {},
   "source": [
    "### Efficient query"
   ]
  },
  {
   "cell_type": "code",
   "execution_count": 4,
   "metadata": {},
   "outputs": [
    {
     "name": "stdout",
     "output_type": "stream",
     "text": [
      " * sqlite:///flights.db\n",
      "Done.\n",
      "CPU times: total: 15.6 ms\n",
      "Wall time: 50.2 ms\n"
     ]
    },
    {
     "data": {
      "text/html": [
       "<table>\n",
       "    <thead>\n",
       "        <tr>\n",
       "            <th>TailNum</th>\n",
       "            <th>DepDelay</th>\n",
       "        </tr>\n",
       "    </thead>\n",
       "    <tbody>\n",
       "        <tr>\n",
       "            <td>N712SW</td>\n",
       "            <td>8.0</td>\n",
       "        </tr>\n",
       "        <tr>\n",
       "            <td>N772SW</td>\n",
       "            <td>19.0</td>\n",
       "        </tr>\n",
       "        <tr>\n",
       "            <td>N428WN</td>\n",
       "            <td>8.0</td>\n",
       "        </tr>\n",
       "        <tr>\n",
       "            <td>N612SW</td>\n",
       "            <td>-4.0</td>\n",
       "        </tr>\n",
       "        <tr>\n",
       "            <td>N464WN</td>\n",
       "            <td>34.0</td>\n",
       "        </tr>\n",
       "        <tr>\n",
       "            <td>N726SW</td>\n",
       "            <td>25.0</td>\n",
       "        </tr>\n",
       "        <tr>\n",
       "            <td>N763SW</td>\n",
       "            <td>67.0</td>\n",
       "        </tr>\n",
       "        <tr>\n",
       "            <td>N428WN</td>\n",
       "            <td>-1.0</td>\n",
       "        </tr>\n",
       "        <tr>\n",
       "            <td>N689SW</td>\n",
       "            <td>2.0</td>\n",
       "        </tr>\n",
       "        <tr>\n",
       "            <td>N648SW</td>\n",
       "            <td>0.0</td>\n",
       "        </tr>\n",
       "        <tr>\n",
       "            <td>N690SW</td>\n",
       "            <td>6.0</td>\n",
       "        </tr>\n",
       "        <tr>\n",
       "            <td>N334SW</td>\n",
       "            <td>94.0</td>\n",
       "        </tr>\n",
       "        <tr>\n",
       "            <td>N476WN</td>\n",
       "            <td>-4.0</td>\n",
       "        </tr>\n",
       "        <tr>\n",
       "            <td>N765SW</td>\n",
       "            <td>0.0</td>\n",
       "        </tr>\n",
       "        <tr>\n",
       "            <td>N420WN</td>\n",
       "            <td>2.0</td>\n",
       "        </tr>\n",
       "        <tr>\n",
       "            <td>N263WN</td>\n",
       "            <td>9.0</td>\n",
       "        </tr>\n",
       "        <tr>\n",
       "            <td>N286WN</td>\n",
       "            <td>27.0</td>\n",
       "        </tr>\n",
       "        <tr>\n",
       "            <td>N778SW</td>\n",
       "            <td>9.0</td>\n",
       "        </tr>\n",
       "        <tr>\n",
       "            <td>N674AA</td>\n",
       "            <td>28.0</td>\n",
       "        </tr>\n",
       "        <tr>\n",
       "            <td>N643SW</td>\n",
       "            <td>51.0</td>\n",
       "        </tr>\n",
       "        <tr>\n",
       "            <td>N497WN</td>\n",
       "            <td>1.0</td>\n",
       "        </tr>\n",
       "        <tr>\n",
       "            <td>N724SW</td>\n",
       "            <td>32.0</td>\n",
       "        </tr>\n",
       "        <tr>\n",
       "            <td>N786SW</td>\n",
       "            <td>20.0</td>\n",
       "        </tr>\n",
       "        <tr>\n",
       "            <td>N714CB</td>\n",
       "            <td>9.0</td>\n",
       "        </tr>\n",
       "        <tr>\n",
       "            <td>N222WN</td>\n",
       "            <td>1.0</td>\n",
       "        </tr>\n",
       "        <tr>\n",
       "            <td>N394SW</td>\n",
       "            <td>25.0</td>\n",
       "        </tr>\n",
       "        <tr>\n",
       "            <td>N215WN</td>\n",
       "            <td>87.0</td>\n",
       "        </tr>\n",
       "        <tr>\n",
       "            <td>N243WN</td>\n",
       "            <td>29.0</td>\n",
       "        </tr>\n",
       "        <tr>\n",
       "            <td>N454WN</td>\n",
       "            <td>1.0</td>\n",
       "        </tr>\n",
       "        <tr>\n",
       "            <td>N712SW</td>\n",
       "            <td>4.0</td>\n",
       "        </tr>\n",
       "        <tr>\n",
       "            <td>N798SW</td>\n",
       "            <td>82.0</td>\n",
       "        </tr>\n",
       "        <tr>\n",
       "            <td>N736SA</td>\n",
       "            <td>3.0</td>\n",
       "        </tr>\n",
       "        <tr>\n",
       "            <td>N795SW</td>\n",
       "            <td>2.0</td>\n",
       "        </tr>\n",
       "        <tr>\n",
       "            <td>N247WN</td>\n",
       "            <td>12.0</td>\n",
       "        </tr>\n",
       "        <tr>\n",
       "            <td>N707SA</td>\n",
       "            <td>19.0</td>\n",
       "        </tr>\n",
       "        <tr>\n",
       "            <td>N443WN</td>\n",
       "            <td>39.0</td>\n",
       "        </tr>\n",
       "        <tr>\n",
       "            <td>N753SW</td>\n",
       "            <td>1.0</td>\n",
       "        </tr>\n",
       "        <tr>\n",
       "            <td>N779SW</td>\n",
       "            <td>82.0</td>\n",
       "        </tr>\n",
       "        <tr>\n",
       "            <td>N704SW</td>\n",
       "            <td>22.0</td>\n",
       "        </tr>\n",
       "        <tr>\n",
       "            <td>N709SW</td>\n",
       "            <td>29.0</td>\n",
       "        </tr>\n",
       "        <tr>\n",
       "            <td>N459WN</td>\n",
       "            <td>56.0</td>\n",
       "        </tr>\n",
       "        <tr>\n",
       "            <td>N621SW</td>\n",
       "            <td>24.0</td>\n",
       "        </tr>\n",
       "        <tr>\n",
       "            <td>N206WN</td>\n",
       "            <td>6.0</td>\n",
       "        </tr>\n",
       "        <tr>\n",
       "            <td>N280WN</td>\n",
       "            <td>6.0</td>\n",
       "        </tr>\n",
       "        <tr>\n",
       "            <td>N241WN</td>\n",
       "            <td>13.0</td>\n",
       "        </tr>\n",
       "        <tr>\n",
       "            <td>N200WN</td>\n",
       "            <td>18.0</td>\n",
       "        </tr>\n",
       "        <tr>\n",
       "            <td>N459WN</td>\n",
       "            <td>-1.0</td>\n",
       "        </tr>\n",
       "        <tr>\n",
       "            <td>N286WN</td>\n",
       "            <td>1.0</td>\n",
       "        </tr>\n",
       "        <tr>\n",
       "            <td>N475WN</td>\n",
       "            <td>15.0</td>\n",
       "        </tr>\n",
       "        <tr>\n",
       "            <td>N792SW</td>\n",
       "            <td>315.0</td>\n",
       "        </tr>\n",
       "    </tbody>\n",
       "</table>"
      ],
      "text/plain": [
       "[('N712SW', 8.0),\n",
       " ('N772SW', 19.0),\n",
       " ('N428WN', 8.0),\n",
       " ('N612SW', -4.0),\n",
       " ('N464WN', 34.0),\n",
       " ('N726SW', 25.0),\n",
       " ('N763SW', 67.0),\n",
       " ('N428WN', -1.0),\n",
       " ('N689SW', 2.0),\n",
       " ('N648SW', 0.0),\n",
       " ('N690SW', 6.0),\n",
       " ('N334SW', 94.0),\n",
       " ('N476WN', -4.0),\n",
       " ('N765SW', 0.0),\n",
       " ('N420WN', 2.0),\n",
       " ('N263WN', 9.0),\n",
       " ('N286WN', 27.0),\n",
       " ('N778SW', 9.0),\n",
       " ('N674AA', 28.0),\n",
       " ('N643SW', 51.0),\n",
       " ('N497WN', 1.0),\n",
       " ('N724SW', 32.0),\n",
       " ('N786SW', 20.0),\n",
       " ('N714CB', 9.0),\n",
       " ('N222WN', 1.0),\n",
       " ('N394SW', 25.0),\n",
       " ('N215WN', 87.0),\n",
       " ('N243WN', 29.0),\n",
       " ('N454WN', 1.0),\n",
       " ('N712SW', 4.0),\n",
       " ('N798SW', 82.0),\n",
       " ('N736SA', 3.0),\n",
       " ('N795SW', 2.0),\n",
       " ('N247WN', 12.0),\n",
       " ('N707SA', 19.0),\n",
       " ('N443WN', 39.0),\n",
       " ('N753SW', 1.0),\n",
       " ('N779SW', 82.0),\n",
       " ('N704SW', 22.0),\n",
       " ('N709SW', 29.0),\n",
       " ('N459WN', 56.0),\n",
       " ('N621SW', 24.0),\n",
       " ('N206WN', 6.0),\n",
       " ('N280WN', 6.0),\n",
       " ('N241WN', 13.0),\n",
       " ('N200WN', 18.0),\n",
       " ('N459WN', -1.0),\n",
       " ('N286WN', 1.0),\n",
       " ('N475WN', 15.0),\n",
       " ('N792SW', 315.0)]"
      ]
     },
     "execution_count": 4,
     "metadata": {},
     "output_type": "execute_result"
    }
   ],
   "source": [
    "%%time\n",
    "%%sql\n",
    "\n",
    "SELECT TailNum, DepDelay \n",
    "FROM flights \n",
    "LIMIT 50"
   ]
  },
  {
   "attachments": {},
   "cell_type": "markdown",
   "metadata": {},
   "source": [
    "Many SQL developers use `SELECT * FROM table` to get a look at column data, which becomes taxing if there are many records (normally a few million or more).\n",
    "\n",
    "Returning only the required columns decreases the overall amount of data read and, as a result, the runtime. For the same reasons, it is also vital to use `LIMIT` to limit the number of rows in the result to only the required rows."
   ]
  },
  {
   "cell_type": "markdown",
   "metadata": {},
   "source": [
    "## Create `JOINS` with `INNER`\n",
    "When extracting data from two databases and joining them on specific columns, we could use the `WHERE` clause to join the tables on those columns in most cases. Assume we want to add the carrier's description to the Flights database. That will require querying the carriers table and the flights table for codes that match the unique carrier name in the flights table.\n",
    " \n",
    "### Inefficient query"
   ]
  },
  {
   "cell_type": "code",
   "execution_count": null,
   "metadata": {},
   "outputs": [],
   "source": [
    "%%time\n",
    "%%sql\n",
    "\n",
    "SELECT FlightNum, TailNum, Description\n",
    "FROM flights, carriers\n",
    "WHERE carriers.Code = flights.UniqueCarrier\n",
    "LIMIT 2500"
   ]
  },
  {
   "cell_type": "markdown",
   "metadata": {},
   "source": [
    "### Efficient query"
   ]
  },
  {
   "cell_type": "code",
   "execution_count": null,
   "metadata": {},
   "outputs": [],
   "source": [
    "%%time\n",
    "%%sql\n",
    "\n",
    "SELECT FlightNum, TailNum, Description\n",
    "FROM flights\n",
    "INNER JOIN carriers\n",
    "ON carriers.Code = flights.UniqueCarrier\n",
    "LIMIT 2500;"
   ]
  },
  {
   "attachments": {},
   "cell_type": "markdown",
   "metadata": {},
   "source": [
    "Joining tables using the `WHERE` clause is similar to doing a `CROSS` join. This type of join will first generate all possible combinations of the values in the joining columns and then filter these results according to the specified condition. This means we iterate through the combination of records from both tables. However, when an inner join operation is performed, only records in the left table are iterated through to find matches in the right table. "
   ]
  },
  {
   "cell_type": "markdown",
   "metadata": {},
   "source": [
    "## Avoid using the wildcard (`%`) at the beginning of a `LIKE` operator\n",
    "\n",
    "When every row in a table has an index, it is possible to search the table using the index, making it easier and faster to find the values we are looking for. Whether we search using the `%` wildcard at the beginning or the end of the `LIKE` operator also affects how efficient our query is. \n",
    "\n",
    "Suppose we want the tail number and distance of all flights whose tail number starts with `N7` \n",
    " \n",
    "### Inefficient query"
   ]
  },
  {
   "cell_type": "code",
   "execution_count": 7,
   "metadata": {},
   "outputs": [
    {
     "name": "stdout",
     "output_type": "stream",
     "text": [
      " * sqlite:///flights.db\n",
      "Done.\n",
      "CPU times: total: 31.2 ms\n",
      "Wall time: 302 ms\n"
     ]
    }
   ],
   "source": [
    "%%time\n",
    "%%sql\n",
    "\n",
    "SELECT TailNum, Distance\n",
    "FROM flights\n",
    "WHERE TailNum LIKE '%N7%'\n",
    "LIMIT 2500;"
   ]
  },
  {
   "cell_type": "markdown",
   "metadata": {},
   "source": [
    "### Efficient query"
   ]
  },
  {
   "cell_type": "code",
   "execution_count": 8,
   "metadata": {},
   "outputs": [
    {
     "name": "stdout",
     "output_type": "stream",
     "text": [
      " * sqlite:///flights.db\n",
      "Done.\n",
      "CPU times: total: 0 ns\n",
      "Wall time: 7.38 ms\n"
     ]
    }
   ],
   "source": [
    "%%time\n",
    "%%sql\n",
    "\n",
    "SELECT TailNum, Distance\n",
    "FROM flights\n",
    "WHERE TailNum LIKE 'N7%'\n",
    "LIMIT 2500;"
   ]
  },
  {
   "cell_type": "markdown",
   "metadata": {},
   "source": [
    "\n",
    "Since it does not use the index to aid in the search, using a wildcard at the beginning of a pattern necessitates a full table scan. We should rather utilise a trailing wildcard (`%` at the end of the operator) to search for text at the beginning of a field. This will take advantage of any existing indexing."
   ]
  },
  {
   "cell_type": "markdown",
   "metadata": {},
   "source": [
    "## Avoid using functions when searching for patterns\n",
    "Let's say we also wanted to return the origin and departure delay of all flights from a specific origin. \n",
    " \n",
    "### Inefficient query"
   ]
  },
  {
   "cell_type": "code",
   "execution_count": 9,
   "metadata": {},
   "outputs": [
    {
     "name": "stdout",
     "output_type": "stream",
     "text": [
      " * sqlite:///flights.db\n",
      "Done.\n",
      "CPU times: total: 31.2 ms\n",
      "Wall time: 366 ms\n"
     ]
    }
   ],
   "source": [
    "%%time\n",
    "%%sql\n",
    "\n",
    "SELECT Origin, DepDelay \n",
    "FROM flights\n",
    "WHERE LOWER(Origin) = 'las'\n",
    "LIMIT 7000;"
   ]
  },
  {
   "cell_type": "markdown",
   "metadata": {},
   "source": [
    "### Efficient query"
   ]
  },
  {
   "cell_type": "code",
   "execution_count": 10,
   "metadata": {},
   "outputs": [
    {
     "name": "stdout",
     "output_type": "stream",
     "text": [
      " * sqlite:///flights.db\n",
      "Done.\n",
      "CPU times: total: 31.2 ms\n",
      "Wall time: 69.8 ms\n"
     ]
    }
   ],
   "source": [
    "%%time\n",
    "%%sql\n",
    "\n",
    "WITH CTE AS\n",
    "(SELECT LOWER(Origin) Origin_lower, DepDelay FROM flights)\n",
    "\n",
    "SELECT * FROM CTE WHERE Origin_lower = 'las'\n",
    "LIMIT 7000;"
   ]
  },
  {
   "attachments": {},
   "cell_type": "markdown",
   "metadata": {},
   "source": [
    "If we use functions when searching for patterns, the index-based optimisations can’t be used. \n",
    "One alternative method is to use CTEs instead."
   ]
  },
  {
   "cell_type": "markdown",
   "metadata": {},
   "source": [
    "## Avoid using calculated fields in the JOIN and WHERE clauses\n",
    "\n",
    "Suppose we want to return the flights where the departure delay was more than 20% of the flight time. We would need to calculate the value of 20% of the `AirTime` column and then compare that to the `DepDelay` column for each row.\n",
    " \n",
    "### Inefficient query"
   ]
  },
  {
   "cell_type": "code",
   "execution_count": 11,
   "metadata": {},
   "outputs": [
    {
     "name": "stdout",
     "output_type": "stream",
     "text": [
      " * sqlite:///flights.db\n",
      "Done.\n",
      "CPU times: total: 0 ns\n",
      "Wall time: 16.9 ms\n"
     ]
    }
   ],
   "source": [
    "%%time\n",
    "%%sql\n",
    "\n",
    "SELECT TailNum, DepDelay\n",
    "FROM flights\n",
    "WHERE AirTime/5 < DepDelay\n",
    "LIMIT 5000;"
   ]
  },
  {
   "cell_type": "markdown",
   "metadata": {},
   "source": [
    "### Efficient query"
   ]
  },
  {
   "cell_type": "code",
   "execution_count": 12,
   "metadata": {},
   "outputs": [
    {
     "name": "stdout",
     "output_type": "stream",
     "text": [
      " * sqlite:///flights.db\n",
      "Done.\n",
      "CPU times: total: 0 ns\n",
      "Wall time: 9.07 ms\n"
     ]
    }
   ],
   "source": [
    "%%time\n",
    "%%sql\n",
    "\n",
    "WITH CTE AS \n",
    "(SELECT AirTime/5 as fifth_time, DepDelay, TailNum FROM flights)\n",
    "\n",
    "SELECT TailNum, DepDelay \n",
    "FROM CTE\n",
    "WHERE CTE.fifth_time < CTE.DepDelay\n",
    "LIMIT 5000;"
   ]
  },
  {
   "attachments": {},
   "cell_type": "markdown",
   "metadata": {},
   "source": [
    "Calculated fields in `JOIN` and `WHERE` clauses also prevent indices from being used. CTEs can be used instead as well."
   ]
  },
  {
   "cell_type": "markdown",
   "metadata": {},
   "source": [
    "<div align=\"center\" style=\" font-size: 80%; text-align: center; margin: 0 auto\">\n",
    "<img src=\"https://raw.githubusercontent.com/Explore-AI/Pictures/master/ExploreAI_logos/EAI_Blue_Dark.png\"  style=\"width:200px\";/>\n",
    "</div>"
   ]
  }
 ],
 "metadata": {
  "colab": {
   "collapsed_sections": [],
   "name": "SQL_Experimentation.ipynb",
   "provenance": []
  },
  "kernelspec": {
   "display_name": "Python 3 (ipykernel)",
   "language": "python",
   "name": "python3"
  },
  "language_info": {
   "codemirror_mode": {
    "name": "ipython",
    "version": 3
   },
   "file_extension": ".py",
   "mimetype": "text/x-python",
   "name": "python",
   "nbconvert_exporter": "python",
   "pygments_lexer": "ipython3",
   "version": "3.11.4"
  },
  "vscode": {
   "interpreter": {
    "hash": "9bbd47474de8b66d2708c218224ec9fae395634c78ff17e5e7a926e922321c24"
   }
  }
 },
 "nbformat": 4,
 "nbformat_minor": 4
}
