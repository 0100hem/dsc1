{
 "cells": [
  {
   "cell_type": "markdown",
   "id": "bf17eebd",
   "metadata": {},
   "source": [
    "<div align=\"right\" style=\" font-size: 80%; text-align: center; margin: 0 auto\">\n",
    "<img src=\"https://raw.githubusercontent.com/Explore-AI/Pictures/master/ExploreAI_logos/Logo blue_dark.png\"  style=\"width:25px\" align=\"right\";/>\n",
    "</div>"
   ]
  },
  {
   "cell_type": "markdown",
   "id": "f662d169",
   "metadata": {},
   "source": [
    "# Union\n",
    "© ExploreAI Academy"
   ]
  },
  {
   "cell_type": "markdown",
   "id": "26af890c",
   "metadata": {},
   "source": [
    "In this exercise, we will explore different SQL union statements in order to cross-examine data contained in multiple tables in a dataset.\n",
    "\n"
   ]
  },
  {
   "cell_type": "markdown",
   "id": "2d230d14",
   "metadata": {
    "tags": []
   },
   "source": [
    "## Learning objectives\n",
    "\n",
    "In this train, we will learn to:\n",
    "- Use unions to stack the rows of similar tables."
   ]
  },
  {
   "cell_type": "markdown",
   "id": "5a0b7683",
   "metadata": {
    "tags": []
   },
   "source": [
    "First, let's load our database:"
   ]
  },
  {
   "cell_type": "code",
   "execution_count": 1,
   "id": "0f34ea72",
   "metadata": {},
   "outputs": [],
   "source": [
    "# Load and activate the SQL extension to allow us to execute SQL in a Jupyter notebook.\n",
    "%load_ext sql\n",
    "\n",
    "# Establish a connection to a SQLite database file.\n",
    "%sql sqlite:///chinook.db"
   ]
  },
  {
   "cell_type": "markdown",
   "id": "0041b6f6",
   "metadata": {},
   "source": [
    "<div align=\"center\" style=\" font-size: 80%; text-align: center; margin: 0 auto\">\n",
    "<img src=\"https://raw.githubusercontent.com/Explore-AI/Pictures/master/The%20chinook%20database%20ERD.jpeg\"  style=\"width:70%\";/>\n",
    "<br>\n",
    "<br>\n",
    "    <em>Figure 1: The Chinook database ERD</em>\n",
    "</div>\n",
    "\n",
    " <em> <a href=\"https://www.sqlitetutorial.net/sqlite-sample-database/\">Image source</a></em>"
   ]
  },
  {
   "cell_type": "markdown",
   "id": "920e89d2",
   "metadata": {
    "tags": []
   },
   "source": [
    "## Exercises\n"
   ]
  },
  {
   "cell_type": "markdown",
   "id": "86802726",
   "metadata": {},
   "source": [
    "### Exercise 1\n",
    "\n",
    "Use the `UNION` operator to combine information from the tracks and albums tables into a single list. "
   ]
  },
  {
   "cell_type": "code",
   "execution_count": 4,
   "id": "91f3421f",
   "metadata": {},
   "outputs": [
    {
     "name": "stdout",
     "output_type": "stream",
     "text": [
      " * sqlite:///chinook.db\n",
      "Done.\n"
     ]
    },
    {
     "data": {
      "text/html": [
       "<table>\n",
       "    <thead>\n",
       "        <tr>\n",
       "            <th>Name</th>\n",
       "        </tr>\n",
       "    </thead>\n",
       "    <tbody>\n",
       "        <tr>\n",
       "            <td>&quot;40&quot;</td>\n",
       "        </tr>\n",
       "        <tr>\n",
       "            <td>&quot;?&quot;</td>\n",
       "        </tr>\n",
       "        <tr>\n",
       "            <td>&quot;Eine Kleine Nachtmusik&quot; Serenade In G, K. 525: I. Allegro</td>\n",
       "        </tr>\n",
       "        <tr>\n",
       "            <td>#1 Zero</td>\n",
       "        </tr>\n",
       "        <tr>\n",
       "            <td>#9 Dream</td>\n",
       "        </tr>\n",
       "        <tr>\n",
       "            <td>&#x27;Round Midnight</td>\n",
       "        </tr>\n",
       "        <tr>\n",
       "            <td>(Anesthesia) Pulling Teeth</td>\n",
       "        </tr>\n",
       "        <tr>\n",
       "            <td>(Da Le) Yaleo</td>\n",
       "        </tr>\n",
       "        <tr>\n",
       "            <td>(I Can&#x27;t Help) Falling In Love With You</td>\n",
       "        </tr>\n",
       "        <tr>\n",
       "            <td>(Oh) Pretty Woman</td>\n",
       "        </tr>\n",
       "    </tbody>\n",
       "</table>"
      ],
      "text/plain": [
       "[('\"40\"',),\n",
       " ('\"?\"',),\n",
       " ('\"Eine Kleine Nachtmusik\" Serenade In G, K. 525: I. Allegro',),\n",
       " ('#1 Zero',),\n",
       " ('#9 Dream',),\n",
       " (\"'Round Midnight\",),\n",
       " ('(Anesthesia) Pulling Teeth',),\n",
       " ('(Da Le) Yaleo',),\n",
       " (\"(I Can't Help) Falling In Love With You\",),\n",
       " ('(Oh) Pretty Woman',)]"
      ]
     },
     "execution_count": 4,
     "metadata": {},
     "output_type": "execute_result"
    }
   ],
   "source": [
    "%%sql \n",
    "\n",
    "SELECT\n",
    "    t.name\n",
    "FROM\n",
    "    tracks t\n",
    "UNION\n",
    "SELECT\n",
    "    a.title\n",
    "FROM\n",
    "    albums a\n",
    "limit 10"
   ]
  },
  {
   "cell_type": "markdown",
   "id": "f0fade51",
   "metadata": {},
   "source": [
    "### Exercise 2\n",
    "\n",
    "In some cases, artists will create eponymous albums, i.e. albums with the same name as the artist. Write a query that will highlight all eponymous albums as well as non-eponymous albums.\n",
    "\n",
    "\n",
    "**NOTE**: At the moment, SQLite does not support the `FULL OUTER JOIN` statement. Emulate it using a `LEFT JOIN` and a `UNION` operator."
   ]
  },
  {
   "cell_type": "code",
   "execution_count": null,
   "id": "748f4263",
   "metadata": {},
   "outputs": [],
   "source": [
    "# Add your code here"
   ]
  },
  {
   "cell_type": "markdown",
   "id": "b3c88335",
   "metadata": {
    "tags": []
   },
   "source": [
    "## Solutions"
   ]
  },
  {
   "cell_type": "markdown",
   "id": "a5084b12",
   "metadata": {
    "tags": []
   },
   "source": [
    "### Exercise 1\n",
    "\n",
    "The SQL query uses the `UNION` operator to merge data from two tables, `tracks` and `albums`, into a single list. It selects the `AlbumId` and `Name` columns from the `tracks` table with a \"Category\" label of \"Artist\" and combines it with the `AlbumId` and `Title` columns from the `albums` table with a \"Category\" label of \"Album\". The `LIMIT 10` clause is used to restrict the output to the first 10 results."
   ]
  },
  {
   "cell_type": "code",
   "execution_count": 5,
   "id": "c968d875",
   "metadata": {},
   "outputs": [
    {
     "name": "stdout",
     "output_type": "stream",
     "text": [
      " * sqlite:///chinook.db\n",
      "Done.\n"
     ]
    },
    {
     "data": {
      "text/html": [
       "<table>\n",
       "    <thead>\n",
       "        <tr>\n",
       "            <th>AlbumId</th>\n",
       "            <th>Name</th>\n",
       "            <th>Category</th>\n",
       "        </tr>\n",
       "    </thead>\n",
       "    <tbody>\n",
       "        <tr>\n",
       "            <td>1</td>\n",
       "            <td>Breaking The Rules</td>\n",
       "            <td>Artist</td>\n",
       "        </tr>\n",
       "        <tr>\n",
       "            <td>1</td>\n",
       "            <td>C.O.D.</td>\n",
       "            <td>Artist</td>\n",
       "        </tr>\n",
       "        <tr>\n",
       "            <td>1</td>\n",
       "            <td>Evil Walks</td>\n",
       "            <td>Artist</td>\n",
       "        </tr>\n",
       "        <tr>\n",
       "            <td>1</td>\n",
       "            <td>For Those About To Rock (We Salute You)</td>\n",
       "            <td>Artist</td>\n",
       "        </tr>\n",
       "        <tr>\n",
       "            <td>1</td>\n",
       "            <td>For Those About To Rock We Salute You</td>\n",
       "            <td>Album</td>\n",
       "        </tr>\n",
       "        <tr>\n",
       "            <td>1</td>\n",
       "            <td>Inject The Venom</td>\n",
       "            <td>Artist</td>\n",
       "        </tr>\n",
       "        <tr>\n",
       "            <td>1</td>\n",
       "            <td>Let&#x27;s Get It Up</td>\n",
       "            <td>Artist</td>\n",
       "        </tr>\n",
       "        <tr>\n",
       "            <td>1</td>\n",
       "            <td>Night Of The Long Knives</td>\n",
       "            <td>Artist</td>\n",
       "        </tr>\n",
       "        <tr>\n",
       "            <td>1</td>\n",
       "            <td>Put The Finger On You</td>\n",
       "            <td>Artist</td>\n",
       "        </tr>\n",
       "        <tr>\n",
       "            <td>1</td>\n",
       "            <td>Snowballed</td>\n",
       "            <td>Artist</td>\n",
       "        </tr>\n",
       "    </tbody>\n",
       "</table>"
      ],
      "text/plain": [
       "[(1, 'Breaking The Rules', 'Artist'),\n",
       " (1, 'C.O.D.', 'Artist'),\n",
       " (1, 'Evil Walks', 'Artist'),\n",
       " (1, 'For Those About To Rock (We Salute You)', 'Artist'),\n",
       " (1, 'For Those About To Rock We Salute You', 'Album'),\n",
       " (1, 'Inject The Venom', 'Artist'),\n",
       " (1, \"Let's Get It Up\", 'Artist'),\n",
       " (1, 'Night Of The Long Knives', 'Artist'),\n",
       " (1, 'Put The Finger On You', 'Artist'),\n",
       " (1, 'Snowballed', 'Artist')]"
      ]
     },
     "execution_count": 5,
     "metadata": {},
     "output_type": "execute_result"
    }
   ],
   "source": [
    "%%sql\n",
    "\n",
    "SELECT t.AlbumId, t.Name, \"Artist\" AS \"Category\"\n",
    "FROM tracks AS t\n",
    "\n",
    "UNION\n",
    "\n",
    "SELECT a.AlbumId, a.Title, \"Album\" AS \"Category\"\n",
    "FROM albums AS a\n",
    "\n",
    "LIMIT 10;  -- Remove this line to see the full query output"
   ]
  },
  {
   "cell_type": "markdown",
   "id": "294d8eef",
   "metadata": {},
   "source": [
    "### Exercise 2\n",
    "\n",
    "The SQL query retrieves a list of artist names and album titles, highlighting both eponymous albums (albums with the same name as the artist) and non-eponymous albums. It achieves this by using a combination of `LEFT JOIN` and `UNION ALL` to combine the results of two separate queries. The first query joins the `artists` and `albums` tables by matching the artist's name with the album title, while the second query joins the `albums` and `artists` tables with the same condition. This approach effectively emulates a `FULL OUTER JOIN`, ensuring that all eponymous and non-eponymous albums are included in the final result."
   ]
  },
  {
   "cell_type": "code",
   "execution_count": 6,
   "id": "03071e34",
   "metadata": {},
   "outputs": [
    {
     "name": "stdout",
     "output_type": "stream",
     "text": [
      " * sqlite:///chinook.db\n",
      "Done.\n"
     ]
    },
    {
     "data": {
      "text/html": [
       "<table>\n",
       "    <thead>\n",
       "        <tr>\n",
       "            <th>Name</th>\n",
       "            <th>Title</th>\n",
       "        </tr>\n",
       "    </thead>\n",
       "    <tbody>\n",
       "        <tr>\n",
       "            <td>AC/DC</td>\n",
       "            <td>None</td>\n",
       "        </tr>\n",
       "        <tr>\n",
       "            <td>Accept</td>\n",
       "            <td>None</td>\n",
       "        </tr>\n",
       "        <tr>\n",
       "            <td>Aerosmith</td>\n",
       "            <td>None</td>\n",
       "        </tr>\n",
       "        <tr>\n",
       "            <td>Alanis Morissette</td>\n",
       "            <td>None</td>\n",
       "        </tr>\n",
       "        <tr>\n",
       "            <td>Alice In Chains</td>\n",
       "            <td>None</td>\n",
       "        </tr>\n",
       "        <tr>\n",
       "            <td>Antônio Carlos Jobim</td>\n",
       "            <td>None</td>\n",
       "        </tr>\n",
       "        <tr>\n",
       "            <td>Apocalyptica</td>\n",
       "            <td>None</td>\n",
       "        </tr>\n",
       "        <tr>\n",
       "            <td>Audioslave</td>\n",
       "            <td>Audioslave</td>\n",
       "        </tr>\n",
       "        <tr>\n",
       "            <td>BackBeat</td>\n",
       "            <td>None</td>\n",
       "        </tr>\n",
       "        <tr>\n",
       "            <td>Billy Cobham</td>\n",
       "            <td>None</td>\n",
       "        </tr>\n",
       "    </tbody>\n",
       "</table>"
      ],
      "text/plain": [
       "[('AC/DC', None),\n",
       " ('Accept', None),\n",
       " ('Aerosmith', None),\n",
       " ('Alanis Morissette', None),\n",
       " ('Alice In Chains', None),\n",
       " ('Antônio Carlos Jobim', None),\n",
       " ('Apocalyptica', None),\n",
       " ('Audioslave', 'Audioslave'),\n",
       " ('BackBeat', None),\n",
       " ('Billy Cobham', None)]"
      ]
     },
     "execution_count": 6,
     "metadata": {},
     "output_type": "execute_result"
    }
   ],
   "source": [
    "%%sql\n",
    "\n",
    "SELECT \n",
    "    ar.Name, \n",
    "    a.Title\n",
    "FROM \n",
    "    artists ar\n",
    "LEFT JOIN \n",
    "    albums AS a\n",
    "    ON ar.Name = a.Title\n",
    "\n",
    "UNION ALL\n",
    "\n",
    "SELECT \n",
    "    ar.Name, \n",
    "    a.Title\n",
    "FROM \n",
    "    albums AS a\n",
    "LEFT JOIN \n",
    "    artists AS ar\n",
    "    ON ar.Name = a.Title\n",
    "\n",
    "LIMIT 10;  -- Remove this line to see the full query output"
   ]
  },
  {
   "cell_type": "markdown",
   "id": "26fd094b-0fee-46f1-a4b8-73766813c42b",
   "metadata": {
    "tags": []
   },
   "source": [
    "#  \n",
    "\n",
    "<div align=\"center\" style=\" font-size: 80%; text-align: center; margin: 0 auto\">\n",
    "<img src=\"https://raw.githubusercontent.com/Explore-AI/Pictures/master/ExploreAI_logos/EAI_Blue_Dark.png\"  style=\"width:200px\";/>\n",
    "</div>"
   ]
  }
 ],
 "metadata": {
  "kernelspec": {
   "display_name": "Python 3 (ipykernel)",
   "language": "python",
   "name": "python3"
  },
  "language_info": {
   "codemirror_mode": {
    "name": "ipython",
    "version": 3
   },
   "file_extension": ".py",
   "mimetype": "text/x-python",
   "name": "python",
   "nbconvert_exporter": "python",
   "pygments_lexer": "ipython3",
   "version": "3.11.4"
  }
 },
 "nbformat": 4,
 "nbformat_minor": 5
}
