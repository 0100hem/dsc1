{
 "cells": [
  {
   "cell_type": "markdown",
   "id": "51b1254d",
   "metadata": {},
   "source": [
    "<div align=\"right\" style=\" font-size: 80%; text-align: center; margin: 0 auto\">\n",
    "<img src=\"https://raw.githubusercontent.com/Explore-AI/Pictures/master/ExploreAI_logos/Logo blue_dark.png\"  style=\"width:25px\" align=\"right\";/>\n",
    "</div>"
   ]
  },
  {
   "cell_type": "markdown",
   "id": "f662d169",
   "metadata": {},
   "source": [
    "# SQL window functions\n",
    "© ExploreAI Academy"
   ]
  },
  {
   "cell_type": "markdown",
   "id": "26af890c",
   "metadata": {},
   "source": [
    "In this exercise, we will test our understanding and application of SQL window functions on a sample SQLite database file for a retail company called Northwind by performing complex calculations and analyses like ranking, running totals, and date differences. Ensure that you have downloaded the database file, Northwind.db."
   ]
  },
  {
   "cell_type": "markdown",
   "id": "2d230d14",
   "metadata": {},
   "source": [
    "## Learning objectives\n",
    "\n",
    "By the end of this train, you should:\n",
    "- Use the RANK() function to assign a ranking number to each row based on the order specified within the window.\n",
    "- Use aggregate window functions to calculate running totals. \n",
    "- Use the LAG() function to help calculate the difference, in days, between consecutive date readings in our dataset.\n",
    "- Use aggregate window functions to calculate the moving average. "
   ]
  },
  {
   "cell_type": "markdown",
   "id": "7fd5e3b8",
   "metadata": {},
   "source": [
    "First, let's load our sample database:"
   ]
  },
  {
   "cell_type": "code",
   "execution_count": 1,
   "id": "2d0d820e",
   "metadata": {},
   "outputs": [],
   "source": [
    "# Load and activate the SQL extension to allow us to execute SQL in a Jupyter notebook.\n",
    "%load_ext sql\n"
   ]
  },
  {
   "cell_type": "code",
   "execution_count": 2,
   "id": "599e3c6c",
   "metadata": {},
   "outputs": [],
   "source": [
    "# Load the Northwind database stored in your local machine. \n",
    "# Make sure the file is saved in the same folder as this notebook.\n",
    "%sql sqlite:///Northwind.db\n",
    "    "
   ]
  },
  {
   "cell_type": "markdown",
   "id": "06af8b46",
   "metadata": {},
   "source": [
    "Here is a view of all of our tables in the database:"
   ]
  },
  {
   "cell_type": "markdown",
   "id": "69217e12",
   "metadata": {},
   "source": [
    "<div align=\"center\" style=\" font-size: 80%; text-align: center; margin: 0 auto\">\n",
    "<img src=\"https://raw.githubusercontent.com/Explore-AI/Pictures/master/Northwind_ERD.png\"  style=\"width:500px\";/>\n",
    "<br>\n",
    "<br>\n",
    "    <em>Figure 1: Northwind ERD</em>\n",
    "</div>"
   ]
  },
  {
   "cell_type": "markdown",
   "id": "920e89d2",
   "metadata": {},
   "source": [
    "## Exercise\n",
    "\n",
    "Run the necessary queries that will provide us with the following information. Compare your queries with the solutions at the end of this notebook."
   ]
  },
  {
   "attachments": {},
   "cell_type": "markdown",
   "id": "466e53c1",
   "metadata": {},
   "source": [
    "### Exercise 1\n",
    "\n",
    "Rank all the orders of a specific customer from the most recent to the least recent using window functions. Assume that the customer ID is `'ALFKI'`."
   ]
  },
  {
   "cell_type": "code",
   "execution_count": 9,
   "id": "038f28ea",
   "metadata": {},
   "outputs": [
    {
     "name": "stdout",
     "output_type": "stream",
     "text": [
      " * sqlite:///Northwind.db\n",
      "Done.\n"
     ]
    },
    {
     "data": {
      "text/html": [
       "<table>\n",
       "    <thead>\n",
       "        <tr>\n",
       "            <th>OrderID</th>\n",
       "            <th>OrderDate</th>\n",
       "            <th>rank() over (order by orderdate desc)</th>\n",
       "        </tr>\n",
       "    </thead>\n",
       "    <tbody>\n",
       "        <tr>\n",
       "            <td>11011</td>\n",
       "            <td>1998-04-09 00:00:00</td>\n",
       "            <td>1</td>\n",
       "        </tr>\n",
       "        <tr>\n",
       "            <td>10952</td>\n",
       "            <td>1998-03-16 00:00:00</td>\n",
       "            <td>2</td>\n",
       "        </tr>\n",
       "        <tr>\n",
       "            <td>10835</td>\n",
       "            <td>1998-01-15 00:00:00</td>\n",
       "            <td>3</td>\n",
       "        </tr>\n",
       "        <tr>\n",
       "            <td>10702</td>\n",
       "            <td>1997-10-13 00:00:00</td>\n",
       "            <td>4</td>\n",
       "        </tr>\n",
       "        <tr>\n",
       "            <td>10692</td>\n",
       "            <td>1997-10-03 00:00:00</td>\n",
       "            <td>5</td>\n",
       "        </tr>\n",
       "        <tr>\n",
       "            <td>10643</td>\n",
       "            <td>1997-08-25 00:00:00</td>\n",
       "            <td>6</td>\n",
       "        </tr>\n",
       "    </tbody>\n",
       "</table>"
      ],
      "text/plain": [
       "[(11011, '1998-04-09 00:00:00', 1),\n",
       " (10952, '1998-03-16 00:00:00', 2),\n",
       " (10835, '1998-01-15 00:00:00', 3),\n",
       " (10702, '1997-10-13 00:00:00', 4),\n",
       " (10692, '1997-10-03 00:00:00', 5),\n",
       " (10643, '1997-08-25 00:00:00', 6)]"
      ]
     },
     "execution_count": 9,
     "metadata": {},
     "output_type": "execute_result"
    }
   ],
   "source": [
    "%%sql\n",
    "\n",
    "SELECT\n",
    "    orderid,\n",
    "    orderdate,\n",
    "    RANK() OVER (\n",
    "        ORDER BY\n",
    "            orderdate desc\n",
    "    )\n",
    "FROM\n",
    "    orders\n",
    "WHERE\n",
    "    customerid = 'ALFKI'"
   ]
  },
  {
   "attachments": {},
   "cell_type": "markdown",
   "id": "86802726",
   "metadata": {},
   "source": [
    "### Exercise 2\n",
    "\n",
    "Calculate a running total of the quantity of orders using window functions."
   ]
  },
  {
   "cell_type": "code",
   "execution_count": 22,
   "id": "91f3421f",
   "metadata": {},
   "outputs": [
    {
     "name": "stdout",
     "output_type": "stream",
     "text": [
      " * sqlite:///Northwind.db\n",
      "Done.\n"
     ]
    },
    {
     "data": {
      "text/html": [
       "<table>\n",
       "    <thead>\n",
       "        <tr>\n",
       "            <th>OrderID</th>\n",
       "            <th>Quantity</th>\n",
       "            <th>running_total_of_the_quantity</th>\n",
       "        </tr>\n",
       "    </thead>\n",
       "    <tbody>\n",
       "        <tr>\n",
       "            <td>10248</td>\n",
       "            <td>12</td>\n",
       "            <td>12</td>\n",
       "        </tr>\n",
       "        <tr>\n",
       "            <td>10249</td>\n",
       "            <td>9</td>\n",
       "            <td>21</td>\n",
       "        </tr>\n",
       "        <tr>\n",
       "            <td>10250</td>\n",
       "            <td>10</td>\n",
       "            <td>31</td>\n",
       "        </tr>\n",
       "        <tr>\n",
       "            <td>10251</td>\n",
       "            <td>6</td>\n",
       "            <td>37</td>\n",
       "        </tr>\n",
       "        <tr>\n",
       "            <td>10252</td>\n",
       "            <td>40</td>\n",
       "            <td>77</td>\n",
       "        </tr>\n",
       "        <tr>\n",
       "            <td>10253</td>\n",
       "            <td>20</td>\n",
       "            <td>97</td>\n",
       "        </tr>\n",
       "        <tr>\n",
       "            <td>10254</td>\n",
       "            <td>15</td>\n",
       "            <td>112</td>\n",
       "        </tr>\n",
       "        <tr>\n",
       "            <td>10255</td>\n",
       "            <td>20</td>\n",
       "            <td>132</td>\n",
       "        </tr>\n",
       "        <tr>\n",
       "            <td>10256</td>\n",
       "            <td>15</td>\n",
       "            <td>147</td>\n",
       "        </tr>\n",
       "        <tr>\n",
       "            <td>10257</td>\n",
       "            <td>25</td>\n",
       "            <td>172</td>\n",
       "        </tr>\n",
       "    </tbody>\n",
       "</table>"
      ],
      "text/plain": [
       "[(10248, 12, 12),\n",
       " (10249, 9, 21),\n",
       " (10250, 10, 31),\n",
       " (10251, 6, 37),\n",
       " (10252, 40, 77),\n",
       " (10253, 20, 97),\n",
       " (10254, 15, 112),\n",
       " (10255, 20, 132),\n",
       " (10256, 15, 147),\n",
       " (10257, 25, 172)]"
      ]
     },
     "execution_count": 22,
     "metadata": {},
     "output_type": "execute_result"
    }
   ],
   "source": [
    "%%sql\n",
    "\n",
    "SELECT\n",
    "\n",
    "    orderid,\n",
    "    quantity,\n",
    "    sum(quantity) OVER (\n",
    "        order by orderid\n",
    "    ) AS running_total_of_the_quantity\n",
    "FROM\n",
    "    orderdetails\n",
    "GROUP BY orderid\n",
    "LIMIT 10\n"
   ]
  },
  {
   "attachments": {},
   "cell_type": "markdown",
   "id": "f0fade51",
   "metadata": {},
   "source": [
    "### Exercise 3\n",
    "\n",
    "\n",
    "Use window functions to find the difference in successive order dates for each customer. **HINT:** The `TIMESTAMPDIFF()` function in MySQL is not available in SQLite. We can use the `julianday()` function to convert the dates to a floating point number and then calculate the difference."
   ]
  },
  {
   "cell_type": "code",
   "execution_count": 39,
   "id": "748f4263",
   "metadata": {},
   "outputs": [
    {
     "name": "stdout",
     "output_type": "stream",
     "text": [
      " * sqlite:///Northwind.db\n",
      "Done.\n"
     ]
    },
    {
     "data": {
      "text/html": [
       "<table>\n",
       "    <thead>\n",
       "        <tr>\n",
       "            <th>CustomerID</th>\n",
       "            <th>OrderDate</th>\n",
       "            <th>orderLAG</th>\n",
       "            <th>diff</th>\n",
       "        </tr>\n",
       "    </thead>\n",
       "    <tbody>\n",
       "        <tr>\n",
       "            <td>ALFKI</td>\n",
       "            <td>1997-08-25 00:00:00</td>\n",
       "            <td>None</td>\n",
       "            <td>None</td>\n",
       "        </tr>\n",
       "        <tr>\n",
       "            <td>ALFKI</td>\n",
       "            <td>1997-10-03 00:00:00</td>\n",
       "            <td>1997-08-25 00:00:00</td>\n",
       "            <td>39.0</td>\n",
       "        </tr>\n",
       "        <tr>\n",
       "            <td>ALFKI</td>\n",
       "            <td>1997-10-13 00:00:00</td>\n",
       "            <td>1997-10-03 00:00:00</td>\n",
       "            <td>10.0</td>\n",
       "        </tr>\n",
       "        <tr>\n",
       "            <td>ALFKI</td>\n",
       "            <td>1998-01-15 00:00:00</td>\n",
       "            <td>1997-10-13 00:00:00</td>\n",
       "            <td>94.0</td>\n",
       "        </tr>\n",
       "        <tr>\n",
       "            <td>ALFKI</td>\n",
       "            <td>1998-03-16 00:00:00</td>\n",
       "            <td>1998-01-15 00:00:00</td>\n",
       "            <td>60.0</td>\n",
       "        </tr>\n",
       "        <tr>\n",
       "            <td>ALFKI</td>\n",
       "            <td>1998-04-09 00:00:00</td>\n",
       "            <td>1998-03-16 00:00:00</td>\n",
       "            <td>24.0</td>\n",
       "        </tr>\n",
       "        <tr>\n",
       "            <td>ANATR</td>\n",
       "            <td>1996-09-18 00:00:00</td>\n",
       "            <td>None</td>\n",
       "            <td>None</td>\n",
       "        </tr>\n",
       "        <tr>\n",
       "            <td>ANATR</td>\n",
       "            <td>1997-08-08 00:00:00</td>\n",
       "            <td>1996-09-18 00:00:00</td>\n",
       "            <td>324.0</td>\n",
       "        </tr>\n",
       "        <tr>\n",
       "            <td>ANATR</td>\n",
       "            <td>1997-11-28 00:00:00</td>\n",
       "            <td>1997-08-08 00:00:00</td>\n",
       "            <td>112.0</td>\n",
       "        </tr>\n",
       "        <tr>\n",
       "            <td>ANATR</td>\n",
       "            <td>1998-03-04 00:00:00</td>\n",
       "            <td>1997-11-28 00:00:00</td>\n",
       "            <td>96.0</td>\n",
       "        </tr>\n",
       "    </tbody>\n",
       "</table>"
      ],
      "text/plain": [
       "[('ALFKI', '1997-08-25 00:00:00', None, None),\n",
       " ('ALFKI', '1997-10-03 00:00:00', '1997-08-25 00:00:00', 39.0),\n",
       " ('ALFKI', '1997-10-13 00:00:00', '1997-10-03 00:00:00', 10.0),\n",
       " ('ALFKI', '1998-01-15 00:00:00', '1997-10-13 00:00:00', 94.0),\n",
       " ('ALFKI', '1998-03-16 00:00:00', '1998-01-15 00:00:00', 60.0),\n",
       " ('ALFKI', '1998-04-09 00:00:00', '1998-03-16 00:00:00', 24.0),\n",
       " ('ANATR', '1996-09-18 00:00:00', None, None),\n",
       " ('ANATR', '1997-08-08 00:00:00', '1996-09-18 00:00:00', 324.0),\n",
       " ('ANATR', '1997-11-28 00:00:00', '1997-08-08 00:00:00', 112.0),\n",
       " ('ANATR', '1998-03-04 00:00:00', '1997-11-28 00:00:00', 96.0)]"
      ]
     },
     "execution_count": 39,
     "metadata": {},
     "output_type": "execute_result"
    }
   ],
   "source": [
    "%%sql\n",
    "\n",
    "SELECT\n",
    "    customerid,\n",
    "    orderdate,\n",
    "    LAG(orderDate,1) OVER (\n",
    "        PARTITION BY\n",
    "            customerid\n",
    "        ORDER BY\n",
    "            orderdate\n",
    "    ) AS orderLAG,\n",
    "    (julianday(orderDate) - julianday(LAG(orderDate,1) OVER (\n",
    "        PARTITION BY\n",
    "            customerid\n",
    "        ORDER BY\n",
    "            orderdate\n",
    "    ))) as diff\n",
    "FROM\n",
    "    orders\n",
    "limit 10"
   ]
  },
  {
   "attachments": {},
   "cell_type": "markdown",
   "id": "f28aef00",
   "metadata": {},
   "source": [
    "### Exercise 4\n",
    "\n",
    "Calculate the moving average of the quantity of the last 3 orders for each product using window functions."
   ]
  },
  {
   "cell_type": "code",
   "execution_count": 54,
   "id": "f4621a53",
   "metadata": {},
   "outputs": [
    {
     "name": "stdout",
     "output_type": "stream",
     "text": [
      " * sqlite:///Northwind.db\n",
      "Done.\n"
     ]
    },
    {
     "data": {
      "text/html": [
       "<table>\n",
       "    <thead>\n",
       "        <tr>\n",
       "            <th>OrderID</th>\n",
       "            <th>ProductID</th>\n",
       "            <th>Quantity</th>\n",
       "            <th>AVG(Quantity) OVER (<br>        PARTITION BY<br>            productID<br>        ORDER BY<br>            orderid<br>    )</th>\n",
       "        </tr>\n",
       "    </thead>\n",
       "    <tbody>\n",
       "        <tr>\n",
       "            <td>10285</td>\n",
       "            <td>1</td>\n",
       "            <td>45</td>\n",
       "            <td>45.0</td>\n",
       "        </tr>\n",
       "        <tr>\n",
       "            <td>10294</td>\n",
       "            <td>1</td>\n",
       "            <td>18</td>\n",
       "            <td>31.5</td>\n",
       "        </tr>\n",
       "        <tr>\n",
       "            <td>10317</td>\n",
       "            <td>1</td>\n",
       "            <td>20</td>\n",
       "            <td>27.666666666666668</td>\n",
       "        </tr>\n",
       "        <tr>\n",
       "            <td>10348</td>\n",
       "            <td>1</td>\n",
       "            <td>15</td>\n",
       "            <td>24.5</td>\n",
       "        </tr>\n",
       "        <tr>\n",
       "            <td>10354</td>\n",
       "            <td>1</td>\n",
       "            <td>12</td>\n",
       "            <td>22.0</td>\n",
       "        </tr>\n",
       "        <tr>\n",
       "            <td>10370</td>\n",
       "            <td>1</td>\n",
       "            <td>15</td>\n",
       "            <td>20.833333333333332</td>\n",
       "        </tr>\n",
       "        <tr>\n",
       "            <td>10406</td>\n",
       "            <td>1</td>\n",
       "            <td>10</td>\n",
       "            <td>19.285714285714285</td>\n",
       "        </tr>\n",
       "        <tr>\n",
       "            <td>10413</td>\n",
       "            <td>1</td>\n",
       "            <td>24</td>\n",
       "            <td>19.875</td>\n",
       "        </tr>\n",
       "        <tr>\n",
       "            <td>10477</td>\n",
       "            <td>1</td>\n",
       "            <td>15</td>\n",
       "            <td>19.333333333333332</td>\n",
       "        </tr>\n",
       "        <tr>\n",
       "            <td>10522</td>\n",
       "            <td>1</td>\n",
       "            <td>40</td>\n",
       "            <td>21.4</td>\n",
       "        </tr>\n",
       "    </tbody>\n",
       "</table>"
      ],
      "text/plain": [
       "[(10285, 1, 45, 45.0),\n",
       " (10294, 1, 18, 31.5),\n",
       " (10317, 1, 20, 27.666666666666668),\n",
       " (10348, 1, 15, 24.5),\n",
       " (10354, 1, 12, 22.0),\n",
       " (10370, 1, 15, 20.833333333333332),\n",
       " (10406, 1, 10, 19.285714285714285),\n",
       " (10413, 1, 24, 19.875),\n",
       " (10477, 1, 15, 19.333333333333332),\n",
       " (10522, 1, 40, 21.4)]"
      ]
     },
     "execution_count": 54,
     "metadata": {},
     "output_type": "execute_result"
    }
   ],
   "source": [
    "%%sql\n",
    "\n",
    "SELECT\n",
    "    orderID,\n",
    "    productID,\n",
    "    Quantity,\n",
    "    AVG(Quantity) OVER (\n",
    "        PARTITION BY\n",
    "            productID\n",
    "        ORDER BY\n",
    "            orderid\n",
    "    )\n",
    "FROM\n",
    "    orderDetails\n",
    "GROUP BY\n",
    "    productID,\n",
    "    orderID\n",
    "LIMIT\n",
    "    10"
   ]
  },
  {
   "cell_type": "markdown",
   "id": "b3c88335",
   "metadata": {},
   "source": [
    "## Solutions"
   ]
  },
  {
   "cell_type": "markdown",
   "id": "a5084b12",
   "metadata": {},
   "source": [
    "### Exercise 1"
   ]
  },
  {
   "cell_type": "code",
   "execution_count": null,
   "id": "c968d875",
   "metadata": {
    "scrolled": true
   },
   "outputs": [],
   "source": [
    "%%sql\n",
    "\n",
    "SELECT \n",
    "    OrderID, \n",
    "    OrderDate,\n",
    "    RANK() OVER (ORDER BY OrderDate DESC) as Order_rank\n",
    "FROM \n",
    "    Orders \n",
    "WHERE \n",
    "    CustomerID = 'ALFKI';"
   ]
  },
  {
   "attachments": {},
   "cell_type": "markdown",
   "id": "1d925020",
   "metadata": {},
   "source": [
    "The `RANK()` window function is used here to rank each order of the customer with the ID `'ALFKI'` based on the `OrderDate`. The `DESC` keyword is used so that the most recent order gets the highest rank (i.e. 1)."
   ]
  },
  {
   "cell_type": "markdown",
   "id": "294d8eef",
   "metadata": {},
   "source": [
    "### Exercise 2"
   ]
  },
  {
   "cell_type": "code",
   "execution_count": 23,
   "id": "03071e34",
   "metadata": {},
   "outputs": [
    {
     "name": "stdout",
     "output_type": "stream",
     "text": [
      " * sqlite:///Northwind.db\n",
      "Done.\n"
     ]
    },
    {
     "data": {
      "text/html": [
       "<table>\n",
       "    <thead>\n",
       "        <tr>\n",
       "            <th>OrderID</th>\n",
       "            <th>Quantity</th>\n",
       "            <th>RunningTotal</th>\n",
       "        </tr>\n",
       "    </thead>\n",
       "    <tbody>\n",
       "        <tr>\n",
       "            <td>10248</td>\n",
       "            <td>12</td>\n",
       "            <td>12</td>\n",
       "        </tr>\n",
       "        <tr>\n",
       "            <td>10249</td>\n",
       "            <td>9</td>\n",
       "            <td>21</td>\n",
       "        </tr>\n",
       "        <tr>\n",
       "            <td>10250</td>\n",
       "            <td>10</td>\n",
       "            <td>31</td>\n",
       "        </tr>\n",
       "        <tr>\n",
       "            <td>10251</td>\n",
       "            <td>6</td>\n",
       "            <td>37</td>\n",
       "        </tr>\n",
       "        <tr>\n",
       "            <td>10252</td>\n",
       "            <td>40</td>\n",
       "            <td>77</td>\n",
       "        </tr>\n",
       "        <tr>\n",
       "            <td>10253</td>\n",
       "            <td>20</td>\n",
       "            <td>97</td>\n",
       "        </tr>\n",
       "        <tr>\n",
       "            <td>10254</td>\n",
       "            <td>15</td>\n",
       "            <td>112</td>\n",
       "        </tr>\n",
       "        <tr>\n",
       "            <td>10255</td>\n",
       "            <td>20</td>\n",
       "            <td>132</td>\n",
       "        </tr>\n",
       "        <tr>\n",
       "            <td>10256</td>\n",
       "            <td>15</td>\n",
       "            <td>147</td>\n",
       "        </tr>\n",
       "        <tr>\n",
       "            <td>10257</td>\n",
       "            <td>25</td>\n",
       "            <td>172</td>\n",
       "        </tr>\n",
       "    </tbody>\n",
       "</table>"
      ],
      "text/plain": [
       "[(10248, 12, 12),\n",
       " (10249, 9, 21),\n",
       " (10250, 10, 31),\n",
       " (10251, 6, 37),\n",
       " (10252, 40, 77),\n",
       " (10253, 20, 97),\n",
       " (10254, 15, 112),\n",
       " (10255, 20, 132),\n",
       " (10256, 15, 147),\n",
       " (10257, 25, 172)]"
      ]
     },
     "execution_count": 23,
     "metadata": {},
     "output_type": "execute_result"
    }
   ],
   "source": [
    "%%sql\n",
    "\n",
    "SELECT \n",
    "    OrderID, \n",
    "    Quantity, \n",
    "    SUM(Quantity) OVER (\n",
    "    ORDER BY OrderID) as RunningTotal \n",
    "FROM \n",
    "    OrderDetails\n",
    "GROUP BY \n",
    "    OrderID\n",
    "limit 10;"
   ]
  },
  {
   "attachments": {},
   "cell_type": "markdown",
   "id": "de45d13a",
   "metadata": {},
   "source": [
    "The `SUM()` window function is used here to calculate a running total of the quantity of orders. The `ORDER BY` clause inside the `OVER()` clause ensures that the running total is calculated in the order of the `OrderID`. We then group our data by `OrderID`."
   ]
  },
  {
   "cell_type": "markdown",
   "id": "eafe40b6",
   "metadata": {},
   "source": [
    "### Exercise 3"
   ]
  },
  {
   "cell_type": "code",
   "execution_count": 40,
   "id": "1ffd2239",
   "metadata": {},
   "outputs": [
    {
     "name": "stdout",
     "output_type": "stream",
     "text": [
      " * sqlite:///Northwind.db\n",
      "Done.\n"
     ]
    },
    {
     "data": {
      "text/html": [
       "<table>\n",
       "    <thead>\n",
       "        <tr>\n",
       "            <th>CustomerID</th>\n",
       "            <th>OrderDate</th>\n",
       "            <th>PrevOrderDate</th>\n",
       "            <th>DateDiff</th>\n",
       "        </tr>\n",
       "    </thead>\n",
       "    <tbody>\n",
       "        <tr>\n",
       "            <td>ALFKI</td>\n",
       "            <td>1997-08-25 00:00:00</td>\n",
       "            <td>None</td>\n",
       "            <td>None</td>\n",
       "        </tr>\n",
       "        <tr>\n",
       "            <td>ALFKI</td>\n",
       "            <td>1997-10-03 00:00:00</td>\n",
       "            <td>1997-08-25 00:00:00</td>\n",
       "            <td>39.0</td>\n",
       "        </tr>\n",
       "        <tr>\n",
       "            <td>ALFKI</td>\n",
       "            <td>1997-10-13 00:00:00</td>\n",
       "            <td>1997-10-03 00:00:00</td>\n",
       "            <td>10.0</td>\n",
       "        </tr>\n",
       "        <tr>\n",
       "            <td>ALFKI</td>\n",
       "            <td>1998-01-15 00:00:00</td>\n",
       "            <td>1997-10-13 00:00:00</td>\n",
       "            <td>94.0</td>\n",
       "        </tr>\n",
       "        <tr>\n",
       "            <td>ALFKI</td>\n",
       "            <td>1998-03-16 00:00:00</td>\n",
       "            <td>1998-01-15 00:00:00</td>\n",
       "            <td>60.0</td>\n",
       "        </tr>\n",
       "    </tbody>\n",
       "</table>"
      ],
      "text/plain": [
       "[('ALFKI', '1997-08-25 00:00:00', None, None),\n",
       " ('ALFKI', '1997-10-03 00:00:00', '1997-08-25 00:00:00', 39.0),\n",
       " ('ALFKI', '1997-10-13 00:00:00', '1997-10-03 00:00:00', 10.0),\n",
       " ('ALFKI', '1998-01-15 00:00:00', '1997-10-13 00:00:00', 94.0),\n",
       " ('ALFKI', '1998-03-16 00:00:00', '1998-01-15 00:00:00', 60.0)]"
      ]
     },
     "execution_count": 40,
     "metadata": {},
     "output_type": "execute_result"
    }
   ],
   "source": [
    "%%sql\n",
    "\n",
    "SELECT \n",
    "    CustomerID, \n",
    "    OrderDate, \n",
    "    LAG(OrderDate, 1) OVER \n",
    "        (PARTITION BY CustomerID \n",
    "        ORDER BY OrderDate) as PrevOrderDate, \n",
    "    julianday(OrderDate)-\n",
    "    julianday(LAG(OrderDate, 1) OVER\n",
    "            (PARTITION BY CustomerID \n",
    "            ORDER BY OrderDate)) as DateDiff\n",
    "FROM \n",
    "    Orders\n",
    "limit 5"
   ]
  },
  {
   "cell_type": "markdown",
   "id": "94fb22ba",
   "metadata": {},
   "source": [
    "The `LAG()` window function is used twice here, once to get the previous order date for each customer, and again to calculate the difference between the current order date and the previous order date. The `PARTITION BY` clause is used to separate the data into partitions based on the `CustomerID`. \n",
    "\n",
    "Since the `TIMESTAMPDIFF()` function in MySQL is not available in SQLite, we use the `julianday()` function to convert the dates to a floating point number, which we can then use for subtraction to find the difference between two dates."
   ]
  },
  {
   "cell_type": "markdown",
   "id": "e9956efe",
   "metadata": {},
   "source": [
    "### Exercise 4"
   ]
  },
  {
   "cell_type": "code",
   "execution_count": 52,
   "id": "cd662edc",
   "metadata": {},
   "outputs": [
    {
     "name": "stdout",
     "output_type": "stream",
     "text": [
      " * sqlite:///Northwind.db\n",
      "Done.\n"
     ]
    },
    {
     "data": {
      "text/html": [
       "<table>\n",
       "    <thead>\n",
       "        <tr>\n",
       "            <th>OrderID</th>\n",
       "            <th>ProductID</th>\n",
       "            <th>Quantity</th>\n",
       "            <th>MovingAvgQuantity</th>\n",
       "        </tr>\n",
       "    </thead>\n",
       "    <tbody>\n",
       "        <tr>\n",
       "            <td>10285</td>\n",
       "            <td>1</td>\n",
       "            <td>45</td>\n",
       "            <td>45.0</td>\n",
       "        </tr>\n",
       "        <tr>\n",
       "            <td>10294</td>\n",
       "            <td>1</td>\n",
       "            <td>18</td>\n",
       "            <td>31.5</td>\n",
       "        </tr>\n",
       "        <tr>\n",
       "            <td>10317</td>\n",
       "            <td>1</td>\n",
       "            <td>20</td>\n",
       "            <td>27.666666666666668</td>\n",
       "        </tr>\n",
       "        <tr>\n",
       "            <td>10348</td>\n",
       "            <td>1</td>\n",
       "            <td>15</td>\n",
       "            <td>17.666666666666668</td>\n",
       "        </tr>\n",
       "        <tr>\n",
       "            <td>10354</td>\n",
       "            <td>1</td>\n",
       "            <td>12</td>\n",
       "            <td>15.666666666666666</td>\n",
       "        </tr>\n",
       "        <tr>\n",
       "            <td>10370</td>\n",
       "            <td>1</td>\n",
       "            <td>15</td>\n",
       "            <td>14.0</td>\n",
       "        </tr>\n",
       "        <tr>\n",
       "            <td>10406</td>\n",
       "            <td>1</td>\n",
       "            <td>10</td>\n",
       "            <td>12.333333333333334</td>\n",
       "        </tr>\n",
       "        <tr>\n",
       "            <td>10413</td>\n",
       "            <td>1</td>\n",
       "            <td>24</td>\n",
       "            <td>16.333333333333332</td>\n",
       "        </tr>\n",
       "        <tr>\n",
       "            <td>10477</td>\n",
       "            <td>1</td>\n",
       "            <td>15</td>\n",
       "            <td>16.333333333333332</td>\n",
       "        </tr>\n",
       "        <tr>\n",
       "            <td>10522</td>\n",
       "            <td>1</td>\n",
       "            <td>40</td>\n",
       "            <td>26.333333333333332</td>\n",
       "        </tr>\n",
       "    </tbody>\n",
       "</table>"
      ],
      "text/plain": [
       "[(10285, 1, 45, 45.0),\n",
       " (10294, 1, 18, 31.5),\n",
       " (10317, 1, 20, 27.666666666666668),\n",
       " (10348, 1, 15, 17.666666666666668),\n",
       " (10354, 1, 12, 15.666666666666666),\n",
       " (10370, 1, 15, 14.0),\n",
       " (10406, 1, 10, 12.333333333333334),\n",
       " (10413, 1, 24, 16.333333333333332),\n",
       " (10477, 1, 15, 16.333333333333332),\n",
       " (10522, 1, 40, 26.333333333333332)]"
      ]
     },
     "execution_count": 52,
     "metadata": {},
     "output_type": "execute_result"
    }
   ],
   "source": [
    "%%sql\n",
    "\n",
    "SELECT \n",
    "    OrderID, \n",
    "    ProductID, \n",
    "    Quantity,\n",
    "    AVG(Quantity) OVER (PARTITION BY ProductID ORDER BY OrderID ROWS BETWEEN 2 PRECEDING AND 0 FOLLOWING) as MovingAvgQuantity\n",
    "FROM \n",
    "    OrderDetails\n",
    "ORDER BY \n",
    "    ProductID, \n",
    "    OrderID\n",
    "LIMIT 10"
   ]
  },
  {
   "cell_type": "markdown",
   "id": "de7e3bcd",
   "metadata": {},
   "source": [
    "The `AVG()` window function is used here to calculate the moving average of `Quantity` for the last 3 orders (the current order and the two preceding orders) for each product. The window is defined using the `PARTITION BY` clause (to segment the data by `ProductID`) and the `ORDER BY` clause (to arrange the data in order of `OrderID`). The `ROWS BETWEEN` clause specifies the size and location of the window – in this case, **the current row and the two rows preceding it.**"
   ]
  },
  {
   "cell_type": "markdown",
   "id": "6d8d9bdd",
   "metadata": {},
   "source": [
    "<div align=\"center\" style=\" font-size: 80%; text-align: center; margin: 0 auto\">\n",
    "<img src=\"https://raw.githubusercontent.com/Explore-AI/Pictures/master/ExploreAI_logos/EAI_Blue_Dark.png\"  style=\"width:200px\";/>\n",
    "</div>"
   ]
  }
 ],
 "metadata": {
  "kernelspec": {
   "display_name": "Python 3 (ipykernel)",
   "language": "python",
   "name": "python3"
  },
  "language_info": {
   "codemirror_mode": {
    "name": "ipython",
    "version": 3
   },
   "file_extension": ".py",
   "mimetype": "text/x-python",
   "name": "python",
   "nbconvert_exporter": "python",
   "pygments_lexer": "ipython3",
   "version": "3.11.4"
  }
 },
 "nbformat": 4,
 "nbformat_minor": 5
}
